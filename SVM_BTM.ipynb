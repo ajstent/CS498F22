{
 "cells": [
  {
   "cell_type": "code",
   "execution_count": 1,
   "id": "880dd40a",
   "metadata": {},
   "outputs": [],
   "source": [
    "import pandas as pd\n",
    "import seaborn as sns\n",
    "import plotly.express as px\n",
    "import numpy as np\n",
    "from scipy.stats import zscore\n",
    "from sklearn.decomposition import PCA\n",
    "from sklearn.cluster import KMeans\n",
    "from matplotlib.colors import to_hex\n",
    "import matplotlib.pyplot as plt"
   ]
  },
  {
   "cell_type": "markdown",
   "id": "e16737ff",
   "metadata": {},
   "source": [
    "We are going to use the BTM dataset provided by Professor Klepach. I have renamed the spreadsheet in the below for ease of use."
   ]
  },
  {
   "cell_type": "markdown",
   "id": "412055f4",
   "metadata": {},
   "source": [
    "# Prep The Data <a class=\"anchor\" id=\"prepData\"></a>"
   ]
  },
  {
   "cell_type": "markdown",
   "id": "4ba73819",
   "metadata": {},
   "source": [
    "## 1. Load and look at your data <a class=\"anchor\" id=\"loadData\"></a>\n",
    "\n",
    "* Are there any ethical concerns with using this data for our purpose today?\n",
    "  * Does the data set contain personally identifiable information?\n",
    "  * Does the data set contain sensitive variables (eg variables for gender or ethnicity)?\n",
    "  * Does the license of the data permit its use by us?"
   ]
  },
  {
   "cell_type": "code",
   "execution_count": 6,
   "id": "3c2993e5",
   "metadata": {},
   "outputs": [
    {
     "data": {
      "text/html": [
       "<div>\n",
       "<style scoped>\n",
       "    .dataframe tbody tr th:only-of-type {\n",
       "        vertical-align: middle;\n",
       "    }\n",
       "\n",
       "    .dataframe tbody tr th {\n",
       "        vertical-align: top;\n",
       "    }\n",
       "\n",
       "    .dataframe thead th {\n",
       "        text-align: right;\n",
       "    }\n",
       "</style>\n",
       "<table border=\"1\" class=\"dataframe\">\n",
       "  <thead>\n",
       "    <tr style=\"text-align: right;\">\n",
       "      <th></th>\n",
       "      <th>Longitude</th>\n",
       "      <th>Latitude</th>\n",
       "      <th>Common Name</th>\n",
       "      <th>Condition Class / Infestation Pattern</th>\n",
       "      <th>List of Trees on  residential property</th>\n",
       "      <th>BTM positive trees self reported  on residential property</th>\n",
       "      <th>Number of BTM positive Tree Species on property</th>\n",
       "      <th>Dbh 1. inches</th>\n",
       "      <th>Dbh 2</th>\n",
       "      <th>Dbh 3</th>\n",
       "      <th>...</th>\n",
       "      <th>Dbh 5</th>\n",
       "      <th>Dbh 6</th>\n",
       "      <th>Number Observed BTM Nests</th>\n",
       "      <th>Distance to Water (feet)</th>\n",
       "      <th>Entry Source</th>\n",
       "      <th>BTM (Y/N)</th>\n",
       "      <th>Interest in Help</th>\n",
       "      <th>Tree Type (Ornamental | Fruiting / Flowering | Bush)</th>\n",
       "      <th>Proposed Treatment Type (Insert/Injection; Manual Removal; Organic Spray)</th>\n",
       "      <th>Treatm.  Priority (1: High, 2: Med, 3: Low)</th>\n",
       "    </tr>\n",
       "  </thead>\n",
       "  <tbody>\n",
       "    <tr>\n",
       "      <th>0</th>\n",
       "      <td>-69.633445</td>\n",
       "      <td>44.551271</td>\n",
       "      <td>Crabapple</td>\n",
       "      <td>Good</td>\n",
       "      <td>NaN</td>\n",
       "      <td>NaN</td>\n",
       "      <td>1.0</td>\n",
       "      <td>10.0</td>\n",
       "      <td>...</td>\n",
       "      <td>...</td>\n",
       "      <td>...</td>\n",
       "      <td>...</td>\n",
       "      <td>...</td>\n",
       "      <td>75</td>\n",
       "      <td>&gt;250</td>\n",
       "      <td>Bartlett Invent Feb 2022</td>\n",
       "      <td>Y</td>\n",
       "      <td>NaN</td>\n",
       "      <td>Fruiting / Flowering</td>\n",
       "      <td>Organic Spray</td>\n",
       "      <td>1.0</td>\n",
       "    </tr>\n",
       "    <tr>\n",
       "      <th>1</th>\n",
       "      <td>-69.629734</td>\n",
       "      <td>44.549535</td>\n",
       "      <td>Crabapple</td>\n",
       "      <td>Fair</td>\n",
       "      <td>NaN</td>\n",
       "      <td>NaN</td>\n",
       "      <td>1.0</td>\n",
       "      <td>21.0</td>\n",
       "      <td>...</td>\n",
       "      <td>...</td>\n",
       "      <td>...</td>\n",
       "      <td>...</td>\n",
       "      <td>...</td>\n",
       "      <td>50</td>\n",
       "      <td>&gt;250</td>\n",
       "      <td>Bartlett Invent Feb 2022</td>\n",
       "      <td>Y</td>\n",
       "      <td>NaN</td>\n",
       "      <td>Fruiting / Flowering</td>\n",
       "      <td>Organic Spray</td>\n",
       "      <td>1.0</td>\n",
       "    </tr>\n",
       "    <tr>\n",
       "      <th>2</th>\n",
       "      <td>-69.627131</td>\n",
       "      <td>44.551959</td>\n",
       "      <td>Elm-American</td>\n",
       "      <td>Good</td>\n",
       "      <td>NaN</td>\n",
       "      <td>NaN</td>\n",
       "      <td>1.0</td>\n",
       "      <td>4.0</td>\n",
       "      <td>...</td>\n",
       "      <td>...</td>\n",
       "      <td>...</td>\n",
       "      <td>...</td>\n",
       "      <td>...</td>\n",
       "      <td>50</td>\n",
       "      <td>&lt;25</td>\n",
       "      <td>Bartlett Invent Feb 2022</td>\n",
       "      <td>Y</td>\n",
       "      <td>NaN</td>\n",
       "      <td>Ornamental</td>\n",
       "      <td>Insert/Injection</td>\n",
       "      <td>1.0</td>\n",
       "    </tr>\n",
       "    <tr>\n",
       "      <th>3</th>\n",
       "      <td>-69.629361</td>\n",
       "      <td>44.549576</td>\n",
       "      <td>Elm-American</td>\n",
       "      <td>Good</td>\n",
       "      <td>NaN</td>\n",
       "      <td>NaN</td>\n",
       "      <td>1.0</td>\n",
       "      <td>42.0</td>\n",
       "      <td>...</td>\n",
       "      <td>...</td>\n",
       "      <td>...</td>\n",
       "      <td>...</td>\n",
       "      <td>...</td>\n",
       "      <td>50</td>\n",
       "      <td>&gt;250</td>\n",
       "      <td>Bartlett Invent Feb 2022</td>\n",
       "      <td>Y</td>\n",
       "      <td>NaN</td>\n",
       "      <td>Ornamental</td>\n",
       "      <td>Insert/Injection</td>\n",
       "      <td>1.0</td>\n",
       "    </tr>\n",
       "    <tr>\n",
       "      <th>4</th>\n",
       "      <td>-69.662301</td>\n",
       "      <td>44.528730</td>\n",
       "      <td>Oak-Northern Red</td>\n",
       "      <td>Good</td>\n",
       "      <td>NaN</td>\n",
       "      <td>NaN</td>\n",
       "      <td>1.0</td>\n",
       "      <td>24.0</td>\n",
       "      <td>...</td>\n",
       "      <td>...</td>\n",
       "      <td>...</td>\n",
       "      <td>...</td>\n",
       "      <td>...</td>\n",
       "      <td>50</td>\n",
       "      <td>&gt;250</td>\n",
       "      <td>Bartlett Invent Feb 2022</td>\n",
       "      <td>Y</td>\n",
       "      <td>NaN</td>\n",
       "      <td>Ornamental</td>\n",
       "      <td>Insert/Injection</td>\n",
       "      <td>1.0</td>\n",
       "    </tr>\n",
       "  </tbody>\n",
       "</table>\n",
       "<p>5 rows × 21 columns</p>\n",
       "</div>"
      ],
      "text/plain": [
       "   Longitude   Latitude        Common Name  \\\n",
       "0 -69.633445  44.551271         Crabapple    \n",
       "1 -69.629734  44.549535         Crabapple    \n",
       "2 -69.627131  44.551959      Elm-American    \n",
       "3 -69.629361  44.549576      Elm-American    \n",
       "4 -69.662301  44.528730  Oak-Northern Red    \n",
       "\n",
       "  Condition Class / Infestation Pattern  \\\n",
       "0                                 Good    \n",
       "1                                 Fair    \n",
       "2                                 Good    \n",
       "3                                 Good    \n",
       "4                                 Good    \n",
       "\n",
       "  List of Trees on  residential property  \\\n",
       "0                                    NaN   \n",
       "1                                    NaN   \n",
       "2                                    NaN   \n",
       "3                                    NaN   \n",
       "4                                    NaN   \n",
       "\n",
       "  BTM positive trees self reported  on residential property  \\\n",
       "0                                                NaN          \n",
       "1                                                NaN          \n",
       "2                                                NaN          \n",
       "3                                                NaN          \n",
       "4                                                NaN          \n",
       "\n",
       "   Number of BTM positive Tree Species on property  Dbh 1. inches Dbh 2 Dbh 3  \\\n",
       "0                                              1.0           10.0   ...   ...   \n",
       "1                                              1.0           21.0   ...   ...   \n",
       "2                                              1.0            4.0   ...   ...   \n",
       "3                                              1.0           42.0   ...   ...   \n",
       "4                                              1.0           24.0   ...   ...   \n",
       "\n",
       "   ... Dbh 5 Dbh 6 Number Observed BTM Nests Distance to Water (feet)  \\\n",
       "0  ...   ...   ...                        75                    >250    \n",
       "1  ...   ...   ...                        50                    >250    \n",
       "2  ...   ...   ...                        50                     <25    \n",
       "3  ...   ...   ...                        50                    >250    \n",
       "4  ...   ...   ...                        50                    >250    \n",
       "\n",
       "               Entry Source BTM (Y/N) Interest in Help  \\\n",
       "0  Bartlett Invent Feb 2022         Y              NaN   \n",
       "1  Bartlett Invent Feb 2022         Y              NaN   \n",
       "2  Bartlett Invent Feb 2022         Y              NaN   \n",
       "3  Bartlett Invent Feb 2022         Y              NaN   \n",
       "4  Bartlett Invent Feb 2022         Y              NaN   \n",
       "\n",
       "  Tree Type (Ornamental | Fruiting / Flowering | Bush)  \\\n",
       "0                               Fruiting / Flowering     \n",
       "1                               Fruiting / Flowering     \n",
       "2                                         Ornamental     \n",
       "3                                         Ornamental     \n",
       "4                                         Ornamental     \n",
       "\n",
       "  Proposed Treatment Type (Insert/Injection; Manual Removal; Organic Spray)  \\\n",
       "0                                      Organic Spray                          \n",
       "1                                      Organic Spray                          \n",
       "2                                   Insert/Injection                          \n",
       "3                                   Insert/Injection                          \n",
       "4                                   Insert/Injection                          \n",
       "\n",
       "  Treatm.  Priority (1: High, 2: Med, 3: Low)  \n",
       "0                                         1.0  \n",
       "1                                         1.0  \n",
       "2                                         1.0  \n",
       "3                                         1.0  \n",
       "4                                         1.0  \n",
       "\n",
       "[5 rows x 21 columns]"
      ]
     },
     "metadata": {},
     "output_type": "display_data"
    }
   ],
   "source": [
    "xls = pd.ExcelFile('dataExploration/BTM.xlsx')\n",
    "df = pd.read_excel(xls, 'Combined')\n",
    "# display(df.head())\n",
    "# drop the first column\n",
    "df = df.iloc[: , 1:]\n",
    "display(df.head())"
   ]
  },
  {
   "cell_type": "code",
   "execution_count": 5,
   "id": "f9d747e4",
   "metadata": {},
   "outputs": [
    {
     "name": "stdout",
     "output_type": "stream",
     "text": [
      "\n",
      "Inspect the Data\n",
      "\n",
      "\n",
      "columns\n",
      " Index(['Longitude', 'Latitude', 'Common Name',\n",
      "       'Condition Class / Infestation Pattern',\n",
      "       'List of Trees on  residential property',\n",
      "       'BTM positive trees self reported  on residential property',\n",
      "       'Number of BTM positive Tree Species on property', 'Dbh 1. inches',\n",
      "       'Dbh 2', 'Dbh 3', 'Dbh 4', 'Dbh 5', 'Dbh 6',\n",
      "       'Number Observed BTM Nests', 'Distance to Water (feet)', 'Entry Source',\n",
      "       'BTM (Y/N)', 'Interest in Help',\n",
      "       'Tree Type (Ornamental | Fruiting / Flowering | Bush)',\n",
      "       'Proposed Treatment Type (Insert/Injection; Manual Removal; Organic Spray)',\n",
      "       'Treatm.  Priority (1: High, 2: Med, 3: Low)'],\n",
      "      dtype='object')\n",
      "\n",
      "shape\n",
      " (932, 21)\n",
      "\n",
      "dtypes\n",
      " Longitude                                                                    float64\n",
      "Latitude                                                                     float64\n",
      "Common Name                                                                   object\n",
      "Condition Class / Infestation Pattern                                         object\n",
      "List of Trees on  residential property                                        object\n",
      "BTM positive trees self reported  on residential property                     object\n",
      "Number of BTM positive Tree Species on property                              float64\n",
      "Dbh 1. inches                                                                float64\n",
      "Dbh 2                                                                         object\n",
      "Dbh 3                                                                         object\n",
      "Dbh 4                                                                         object\n",
      "Dbh 5                                                                         object\n",
      "Dbh 6                                                                         object\n",
      "Number Observed BTM Nests                                                     object\n",
      "Distance to Water (feet)                                                      object\n",
      "Entry Source                                                                  object\n",
      "BTM (Y/N)                                                                     object\n",
      "Interest in Help                                                              object\n",
      "Tree Type (Ornamental | Fruiting / Flowering | Bush)                          object\n",
      "Proposed Treatment Type (Insert/Injection; Manual Removal; Organic Spray)     object\n",
      "Treatm.  Priority (1: High, 2: Med, 3: Low)                                  float64\n",
      "dtype: object\n",
      "\n",
      "missing values\n",
      " Longitude                                                                    False\n",
      "Latitude                                                                     False\n",
      "Common Name                                                                   True\n",
      "Condition Class / Infestation Pattern                                         True\n",
      "List of Trees on  residential property                                        True\n",
      "BTM positive trees self reported  on residential property                     True\n",
      "Number of BTM positive Tree Species on property                               True\n",
      "Dbh 1. inches                                                                 True\n",
      "Dbh 2                                                                         True\n",
      "Dbh 3                                                                         True\n",
      "Dbh 4                                                                         True\n",
      "Dbh 5                                                                         True\n",
      "Dbh 6                                                                         True\n",
      "Number Observed BTM Nests                                                     True\n",
      "Distance to Water (feet)                                                      True\n",
      "Entry Source                                                                 False\n",
      "BTM (Y/N)                                                                    False\n",
      "Interest in Help                                                              True\n",
      "Tree Type (Ornamental | Fruiting / Flowering | Bush)                          True\n",
      "Proposed Treatment Type (Insert/Injection; Manual Removal; Organic Spray)     True\n",
      "Treatm.  Priority (1: High, 2: Med, 3: Low)                                   True\n",
      "dtype: bool\n"
     ]
    }
   ],
   "source": [
    "print(\"\\nInspect the Data\\n\")\n",
    "print(\"\\ncolumns\\n\", df.columns)\n",
    "print(\"\\nshape\\n\", df.shape)\n",
    "print(\"\\ndtypes\\n\", df.dtypes)\n",
    "print(\"\\nmissing values\\n\", df.isnull().any())"
   ]
  },
  {
   "cell_type": "markdown",
   "id": "ef6593f0",
   "metadata": {},
   "source": [
    "Referring to the cells below, which contains a report of the data, please answer:\n",
    "\n",
    "* How many data points are there?\n",
    "* How many variables are there?\n",
    "  * How many qualitative (e.g. boolean, binary)?\n",
    "  * How many quantitative continuous?\n",
    "  * How many quantitative discrete?\n",
    "* Is there a value for each variable for each data point? \n",
    "* Do the values make sense? Are there outliers or other insanities?\n",
    "* Are the variables independent of each other? How do you make that assessment?"
   ]
  },
  {
   "cell_type": "code",
   "execution_count": 6,
   "id": "c02e1cef",
   "metadata": {},
   "outputs": [
    {
     "name": "stdout",
     "output_type": "stream",
     "text": [
      "\n",
      "\n",
      "Summary Statistics\n",
      "\n",
      "\n",
      "quantitative variables\n",
      "\n"
     ]
    },
    {
     "data": {
      "text/html": [
       "<div>\n",
       "<style scoped>\n",
       "    .dataframe tbody tr th:only-of-type {\n",
       "        vertical-align: middle;\n",
       "    }\n",
       "\n",
       "    .dataframe tbody tr th {\n",
       "        vertical-align: top;\n",
       "    }\n",
       "\n",
       "    .dataframe thead th {\n",
       "        text-align: right;\n",
       "    }\n",
       "</style>\n",
       "<table border=\"1\" class=\"dataframe\">\n",
       "  <thead>\n",
       "    <tr style=\"text-align: right;\">\n",
       "      <th></th>\n",
       "      <th>Longitude</th>\n",
       "      <th>Latitude</th>\n",
       "      <th>Number of BTM positive Tree Species on property</th>\n",
       "      <th>Dbh 1. inches</th>\n",
       "      <th>Treatm.  Priority (1: High, 2: Med, 3: Low)</th>\n",
       "    </tr>\n",
       "  </thead>\n",
       "  <tbody>\n",
       "    <tr>\n",
       "      <th>count</th>\n",
       "      <td>932.000000</td>\n",
       "      <td>932.000000</td>\n",
       "      <td>903.000000</td>\n",
       "      <td>602.000000</td>\n",
       "      <td>376.000000</td>\n",
       "    </tr>\n",
       "    <tr>\n",
       "      <th>mean</th>\n",
       "      <td>-69.646845</td>\n",
       "      <td>44.550961</td>\n",
       "      <td>0.614618</td>\n",
       "      <td>10.888704</td>\n",
       "      <td>1.335106</td>\n",
       "    </tr>\n",
       "    <tr>\n",
       "      <th>std</th>\n",
       "      <td>0.013145</td>\n",
       "      <td>0.015656</td>\n",
       "      <td>0.865633</td>\n",
       "      <td>6.583843</td>\n",
       "      <td>0.555642</td>\n",
       "    </tr>\n",
       "    <tr>\n",
       "      <th>min</th>\n",
       "      <td>-69.714351</td>\n",
       "      <td>44.506117</td>\n",
       "      <td>0.000000</td>\n",
       "      <td>1.000000</td>\n",
       "      <td>1.000000</td>\n",
       "    </tr>\n",
       "    <tr>\n",
       "      <th>25%</th>\n",
       "      <td>-69.658124</td>\n",
       "      <td>44.537907</td>\n",
       "      <td>0.000000</td>\n",
       "      <td>6.000000</td>\n",
       "      <td>1.000000</td>\n",
       "    </tr>\n",
       "    <tr>\n",
       "      <th>50%</th>\n",
       "      <td>-69.646313</td>\n",
       "      <td>44.550819</td>\n",
       "      <td>0.000000</td>\n",
       "      <td>10.000000</td>\n",
       "      <td>1.000000</td>\n",
       "    </tr>\n",
       "    <tr>\n",
       "      <th>75%</th>\n",
       "      <td>-69.634915</td>\n",
       "      <td>44.561721</td>\n",
       "      <td>1.000000</td>\n",
       "      <td>15.000000</td>\n",
       "      <td>2.000000</td>\n",
       "    </tr>\n",
       "    <tr>\n",
       "      <th>max</th>\n",
       "      <td>-69.617809</td>\n",
       "      <td>44.583999</td>\n",
       "      <td>6.000000</td>\n",
       "      <td>46.000000</td>\n",
       "      <td>3.000000</td>\n",
       "    </tr>\n",
       "  </tbody>\n",
       "</table>\n",
       "</div>"
      ],
      "text/plain": [
       "        Longitude    Latitude  \\\n",
       "count  932.000000  932.000000   \n",
       "mean   -69.646845   44.550961   \n",
       "std      0.013145    0.015656   \n",
       "min    -69.714351   44.506117   \n",
       "25%    -69.658124   44.537907   \n",
       "50%    -69.646313   44.550819   \n",
       "75%    -69.634915   44.561721   \n",
       "max    -69.617809   44.583999   \n",
       "\n",
       "       Number of BTM positive Tree Species on property  Dbh 1. inches  \\\n",
       "count                                       903.000000     602.000000   \n",
       "mean                                          0.614618      10.888704   \n",
       "std                                           0.865633       6.583843   \n",
       "min                                           0.000000       1.000000   \n",
       "25%                                           0.000000       6.000000   \n",
       "50%                                           0.000000      10.000000   \n",
       "75%                                           1.000000      15.000000   \n",
       "max                                           6.000000      46.000000   \n",
       "\n",
       "       Treatm.  Priority (1: High, 2: Med, 3: Low)  \n",
       "count                                   376.000000  \n",
       "mean                                      1.335106  \n",
       "std                                       0.555642  \n",
       "min                                       1.000000  \n",
       "25%                                       1.000000  \n",
       "50%                                       1.000000  \n",
       "75%                                       2.000000  \n",
       "max                                       3.000000  "
      ]
     },
     "metadata": {},
     "output_type": "display_data"
    },
    {
     "name": "stdout",
     "output_type": "stream",
     "text": [
      "\n",
      "qualitative variables\n",
      "\n"
     ]
    },
    {
     "data": {
      "text/html": [
       "<div>\n",
       "<style scoped>\n",
       "    .dataframe tbody tr th:only-of-type {\n",
       "        vertical-align: middle;\n",
       "    }\n",
       "\n",
       "    .dataframe tbody tr th {\n",
       "        vertical-align: top;\n",
       "    }\n",
       "\n",
       "    .dataframe thead th {\n",
       "        text-align: right;\n",
       "    }\n",
       "</style>\n",
       "<table border=\"1\" class=\"dataframe\">\n",
       "  <thead>\n",
       "    <tr style=\"text-align: right;\">\n",
       "      <th></th>\n",
       "      <th>Common Name</th>\n",
       "      <th>Condition Class / Infestation Pattern</th>\n",
       "      <th>List of Trees on  residential property</th>\n",
       "      <th>BTM positive trees self reported  on residential property</th>\n",
       "      <th>Dbh 2</th>\n",
       "      <th>Dbh 3</th>\n",
       "      <th>Dbh 4</th>\n",
       "      <th>Dbh 5</th>\n",
       "      <th>Dbh 6</th>\n",
       "      <th>Number Observed BTM Nests</th>\n",
       "      <th>Distance to Water (feet)</th>\n",
       "      <th>Entry Source</th>\n",
       "      <th>BTM (Y/N)</th>\n",
       "      <th>Interest in Help</th>\n",
       "      <th>Tree Type (Ornamental | Fruiting / Flowering | Bush)</th>\n",
       "      <th>Proposed Treatment Type (Insert/Injection; Manual Removal; Organic Spray)</th>\n",
       "    </tr>\n",
       "  </thead>\n",
       "  <tbody>\n",
       "    <tr>\n",
       "      <th>count</th>\n",
       "      <td>627</td>\n",
       "      <td>627</td>\n",
       "      <td>273</td>\n",
       "      <td>151</td>\n",
       "      <td>602</td>\n",
       "      <td>602</td>\n",
       "      <td>602</td>\n",
       "      <td>602</td>\n",
       "      <td>602</td>\n",
       "      <td>627</td>\n",
       "      <td>602</td>\n",
       "      <td>932</td>\n",
       "      <td>932</td>\n",
       "      <td>305</td>\n",
       "      <td>784</td>\n",
       "      <td>785</td>\n",
       "    </tr>\n",
       "    <tr>\n",
       "      <th>unique</th>\n",
       "      <td>34</td>\n",
       "      <td>6</td>\n",
       "      <td>102</td>\n",
       "      <td>55</td>\n",
       "      <td>19</td>\n",
       "      <td>13</td>\n",
       "      <td>11</td>\n",
       "      <td>7</td>\n",
       "      <td>5</td>\n",
       "      <td>29</td>\n",
       "      <td>4</td>\n",
       "      <td>3</td>\n",
       "      <td>2</td>\n",
       "      <td>4</td>\n",
       "      <td>4</td>\n",
       "      <td>6</td>\n",
       "    </tr>\n",
       "    <tr>\n",
       "      <th>top</th>\n",
       "      <td>Oak-Northern Red</td>\n",
       "      <td>Good</td>\n",
       "      <td>Maple,</td>\n",
       "      <td>Oak,</td>\n",
       "      <td>...</td>\n",
       "      <td>...</td>\n",
       "      <td>...</td>\n",
       "      <td>...</td>\n",
       "      <td>...</td>\n",
       "      <td>0</td>\n",
       "      <td>&gt;250</td>\n",
       "      <td>Bartlett Invent Feb 2022</td>\n",
       "      <td>Y</td>\n",
       "      <td>Y</td>\n",
       "      <td>Ornamental</td>\n",
       "      <td>Insert/Injection</td>\n",
       "    </tr>\n",
       "    <tr>\n",
       "      <th>freq</th>\n",
       "      <td>126</td>\n",
       "      <td>421</td>\n",
       "      <td>27</td>\n",
       "      <td>19</td>\n",
       "      <td>525</td>\n",
       "      <td>559</td>\n",
       "      <td>580</td>\n",
       "      <td>593</td>\n",
       "      <td>598</td>\n",
       "      <td>338</td>\n",
       "      <td>430</td>\n",
       "      <td>602</td>\n",
       "      <td>505</td>\n",
       "      <td>196</td>\n",
       "      <td>645</td>\n",
       "      <td>354</td>\n",
       "    </tr>\n",
       "  </tbody>\n",
       "</table>\n",
       "</div>"
      ],
      "text/plain": [
       "              Common Name Condition Class / Infestation Pattern  \\\n",
       "count                 627                                   627   \n",
       "unique                 34                                     6   \n",
       "top     Oak-Northern Red                                  Good    \n",
       "freq                  126                                   421   \n",
       "\n",
       "       List of Trees on  residential property  \\\n",
       "count                                     273   \n",
       "unique                                    102   \n",
       "top                                   Maple,    \n",
       "freq                                       27   \n",
       "\n",
       "       BTM positive trees self reported  on residential property Dbh 2 Dbh 3  \\\n",
       "count                                                 151          602   602   \n",
       "unique                                                 55           19    13   \n",
       "top                                                 Oak,           ...   ...   \n",
       "freq                                                   19          525   559   \n",
       "\n",
       "       Dbh 4 Dbh 5 Dbh 6  Number Observed BTM Nests Distance to Water (feet)  \\\n",
       "count    602   602   602                        627                      602   \n",
       "unique    11     7     5                         29                        4   \n",
       "top      ...   ...   ...                          0                    >250    \n",
       "freq     580   593   598                        338                      430   \n",
       "\n",
       "                    Entry Source BTM (Y/N) Interest in Help  \\\n",
       "count                        932       932              305   \n",
       "unique                         3         2                4   \n",
       "top     Bartlett Invent Feb 2022         Y                Y   \n",
       "freq                         602       505              196   \n",
       "\n",
       "       Tree Type (Ornamental | Fruiting / Flowering | Bush)  \\\n",
       "count                                                 784     \n",
       "unique                                                  4     \n",
       "top                                            Ornamental     \n",
       "freq                                                  645     \n",
       "\n",
       "       Proposed Treatment Type (Insert/Injection; Manual Removal; Organic Spray)  \n",
       "count                                                 785                         \n",
       "unique                                                  6                         \n",
       "top                                      Insert/Injection                         \n",
       "freq                                                  354                         "
      ]
     },
     "metadata": {},
     "output_type": "display_data"
    },
    {
     "name": "stdout",
     "output_type": "stream",
     "text": [
      "\n",
      "values for important qualitative variables\n",
      "\n",
      "['Crabapple ' 'Elm-American ' 'Oak-Northern Red ' 'Cherry-Black '\n",
      " 'Pear-Callery ' 'Serviceberry ' 'Birch-Paper ' 'Oak-White '\n",
      " 'Maple-Sugar ' 'Poplar-Aspen ' 'Elm-Chinese ' 'Poplar-Bigtooth Aspen '\n",
      " 'Maple-Boxelder ' \"Maple-Freeman's \" 'Maple-Norway ' 'Maple-Red '\n",
      " 'Ash-Green ' 'Ash-White ' 'Birch-River ' 'Linden-Littleleaf '\n",
      " 'Ash-Black ' 'Beech-American ' 'Ginkgo ' 'Honeylocust-Thornless Common '\n",
      " 'Horsechestnut-Common ' 'Lilac-Japanese Tree ' 'Locust-Black '\n",
      " 'Maple-Silver ' 'Pine-Eastern White ' 'Plum-Purple Leaf '\n",
      " 'Spruce-Colorado Blue ' 'Willow ' nan 'Oak' 'Maple']\n",
      "['Good ' 'Fair ' 'Poor ' 'Dead ' nan 'Continuous' 'Patchy']\n",
      "['>250 ' '<25 ' '25-250 ' ' ' nan]\n",
      "['Fruiting / Flowering' 'Ornamental' 'Bush' 'Fruiting/Flowering' nan]\n"
     ]
    }
   ],
   "source": [
    "print(\"\\n\\nSummary Statistics\\n\")\n",
    "print(\"\\nquantitative variables\\n\")\n",
    "display(df.describe(include='float'))\n",
    "print(\"\\nqualitative variables\\n\")\n",
    "display(df.describe(include='object'))\n",
    "print(\"\\nvalues for important qualitative variables\\n\")\n",
    "print(df['Common Name'].unique())\n",
    "print(df['Condition Class / Infestation Pattern'].unique())\n",
    "print(df['Distance to Water (feet)'].unique())\n",
    "print(df['Tree Type (Ornamental | Fruiting / Flowering | Bush)'].unique())"
   ]
  },
  {
   "cell_type": "code",
   "execution_count": 7,
   "id": "587304cd",
   "metadata": {},
   "outputs": [
    {
     "name": "stdout",
     "output_type": "stream",
     "text": [
      "\n",
      "Inspect Variable Correlations\n",
      "\n"
     ]
    },
    {
     "data": {
      "text/plain": [
       "<seaborn.axisgrid.PairGrid at 0x14ee397b0>"
      ]
     },
     "execution_count": 7,
     "metadata": {},
     "output_type": "execute_result"
    },
    {
     "data": {
      "image/png": "[encoded data removed]",
      "text/plain": [
       "<Figure size 1250x1250 with 30 Axes>"
      ]
     },
     "metadata": {},
     "output_type": "display_data"
    }
   ],
   "source": [
    "print(\"\\nInspect Variable Correlations\\n\")\n",
    "sns.pairplot(df, kind = \"scatter\")"
   ]
  },
  {
   "cell_type": "markdown",
   "id": "d5460c1f",
   "metadata": {},
   "source": [
    "## Map the data!\n",
    "\n",
    "This will be something you haven't done before, but this is spatial data so it's a good time to pick it up!"
   ]
  },
  {
   "cell_type": "code",
   "execution_count": 8,
   "id": "843c452a",
   "metadata": {},
   "outputs": [
    {
     "data": {
      "application/vnd.plotly.v1+json": {
       "config": {
        "plotlyServerURL": "https://plot.ly"
       },
       "data": [
        {
         "hovertemplate": "Latitude=%{lat}<br>Longitude=%{lon}<extra></extra>",
         "lat": [
          44.551270843,
          44.549535104,
          44.551959107,
          44.549576086,
          44.528730089,
          44.527892994,
          44.528500767,
          44.552107498,
          44.568119203,
          44.552256336,
          44.528507084,
          44.552245492,
          44.576115339,
          44.550694524,
          44.551100061,
          44.550643005,
          44.550653336,
          44.576258458,
          44.575610585,
          44.528531891,
          44.534185649,
          44.534541383,
          44.552707302,
          44.549624139,
          44.550650788,
          44.550885231,
          44.550409868,
          44.574355202,
          44.527790497,
          44.534242873,
          44.534525742,
          44.535067257,
          44.552649305,
          44.552631229,
          44.526922708,
          44.550660512,
          44.550682722,
          44.55280444,
          44.55288368,
          44.574041444,
          44.576198698,
          44.570977618,
          44.573716781,
          44.570964061,
          44.577431179,
          44.534556744,
          44.551037343,
          44.568187706,
          44.568166277,
          44.568180525,
          44.568092382,
          44.57445103,
          44.570940743,
          44.526985363,
          44.579166941,
          44.528607317,
          44.551830389,
          44.550934295,
          44.553294793,
          44.553180139,
          44.57530671,
          44.579749175,
          44.578263159,
          44.534562247,
          44.571125873,
          44.577928306,
          44.580146257,
          44.57101406,
          44.580106902,
          44.574472612,
          44.573965547,
          44.526984014,
          44.534537531,
          44.52693367,
          44.526947345,
          44.568131596,
          44.577206801,
          44.528887953,
          44.528787875,
          44.550794528,
          44.53471302,
          44.580562104,
          44.575656798,
          44.527225591,
          44.535062877,
          44.527779086,
          44.534203214,
          44.528731836,
          44.528757969,
          44.534641602,
          44.550814563,
          44.550686668,
          44.529051549,
          44.534567479,
          44.580275528,
          44.574683743,
          44.57690561,
          44.580304353,
          44.575447509,
          44.580066173,
          44.526949019,
          44.572171795,
          44.58020694,
          44.580400524,
          44.534761682,
          44.534143296,
          44.534149994,
          44.53413742,
          44.552232602,
          44.577635094,
          44.574988309,
          44.574932431,
          44.579638475,
          44.576236757,
          44.526937209,
          44.578514877,
          44.577201626,
          44.526965236,
          44.528882558,
          44.550781124,
          44.575403517,
          44.578812042,
          44.576309999,
          44.578644149,
          44.574166775,
          44.574365821,
          44.552855569,
          44.575309061,
          44.575379054,
          44.574680224,
          44.579375345,
          44.578765188,
          44.534027361,
          44.57393026,
          44.534760839,
          44.58058279,
          44.52740095,
          44.527500848,
          44.528718456,
          44.526939686,
          44.535351871,
          44.553180069,
          44.553203955,
          44.53416864,
          44.576182169,
          44.574748325,
          44.573793361,
          44.580230144,
          44.575447815,
          44.575497797,
          44.580293604,
          44.551043508,
          44.534165521,
          44.552655427,
          44.552257254,
          44.552673261,
          44.528763964,
          44.528955536,
          44.529126312,
          44.550820609,
          44.550804653,
          44.550629017,
          44.550770545,
          44.534474968,
          44.538109946,
          44.551675879,
          44.579120469,
          44.580346956,
          44.567420479,
          44.58017348,
          44.580399469,
          44.571968223,
          44.527009341,
          44.527036052,
          44.534215574,
          44.567647165,
          44.527357027,
          44.528925725,
          44.550823042,
          44.529037938,
          44.535194947,
          44.56156175,
          44.553042259,
          44.580357124,
          44.567436812,
          44.575356501,
          44.574312791,
          44.551067037,
          44.580048357,
          44.580055708,
          44.527014621,
          44.534174595,
          44.580609576,
          44.561905663,
          44.579035123,
          44.551287306,
          44.552212285,
          44.55240169,
          44.552465323,
          44.552490042,
          44.551626848,
          44.551707406,
          44.55115757,
          44.551231274,
          44.528841767,
          44.528688922,
          44.5274077,
          44.528683062,
          44.534175722,
          44.550816718,
          44.550842164,
          44.550858454,
          44.53467235,
          44.549536456,
          44.55019436,
          44.534470744,
          44.567158679,
          44.567114008,
          44.534090768,
          44.533698622,
          44.552318775,
          44.552673129,
          44.552324151,
          44.552134622,
          44.551966246,
          44.551531317,
          44.533602268,
          44.552128284,
          44.563222079,
          44.552741134,
          44.563353655,
          44.534605322,
          44.534753594,
          44.534537108,
          44.529681703,
          44.580261689,
          44.534173851,
          44.54761293,
          44.561758927,
          44.561671857,
          44.567252793,
          44.552831406,
          44.552948094,
          44.552961345,
          44.553095521,
          44.552910416,
          44.580442062,
          44.533782621,
          44.580491869,
          44.580164924,
          44.534239682,
          44.580441742,
          44.580150564,
          44.578599094,
          44.57905045,
          44.567683658,
          44.579219653,
          44.550948337,
          44.551153797,
          44.534032008,
          44.527209811,
          44.527063873,
          44.534181935,
          44.527032253,
          44.562438054,
          44.562390027,
          44.562483599,
          44.553121331,
          44.528641729,
          44.528713133,
          44.527566406,
          44.528620352,
          44.527650661,
          44.52751999,
          44.533572303,
          44.527557421,
          44.527559112,
          44.527305614,
          44.546015611,
          44.528693934,
          44.562370733,
          44.527730767,
          44.546073628,
          44.528681952,
          44.562367886,
          44.562499705,
          44.579851724,
          44.528684008,
          44.562149318,
          44.533456978,
          44.564685154,
          44.562023717,
          44.561967834,
          44.56212773,
          44.564859168,
          44.562202751,
          44.562086883,
          44.561852914,
          44.550774798,
          44.527558627,
          44.533734044,
          44.533796584,
          44.527610528,
          44.534101685,
          44.534053628,
          44.581199002,
          44.579126864,
          44.580071095,
          44.550613414,
          44.533889385,
          44.527458209,
          44.534185807,
          44.534126253,
          44.579071468,
          44.533811941,
          44.5273026,
          44.534066093,
          44.57998129,
          44.545967712,
          44.534029758,
          44.534090261,
          44.579156739,
          44.534031087,
          44.58031352,
          44.579717809,
          44.545778178,
          44.533799626,
          44.533815055,
          44.533993659,
          44.534026743,
          44.57900704,
          44.527446348,
          44.534356016,
          44.534027179,
          44.579629496,
          44.533920253,
          44.580250606,
          44.55078428,
          44.550703573,
          44.526941668,
          44.550843438,
          44.533717685,
          44.579225666,
          44.580622806,
          44.579297057,
          44.533479525,
          44.579412789,
          44.546419604,
          44.526938283,
          44.552631408,
          44.552519284,
          44.552576085,
          44.551511699,
          44.551667433,
          44.552286369,
          44.552357526,
          44.5524321,
          44.552316625,
          44.552688893,
          44.552887499,
          44.551275308,
          44.552660195,
          44.55291072,
          44.552914679,
          44.528812439,
          44.527401967,
          44.527348154,
          44.550845712,
          44.55080302,
          44.562263071,
          44.526989523,
          44.534683249,
          44.551005371,
          44.551351791,
          44.551464784,
          44.55159065,
          44.564127793,
          44.546161327,
          44.564220831,
          44.55124643,
          44.552639399,
          44.552563987,
          44.552472965,
          44.55239309,
          44.552341701,
          44.552308109,
          44.549586746,
          44.565019435,
          44.551122728,
          44.551323668,
          44.533279676,
          44.549521021,
          44.549597688,
          44.56404483,
          44.549465694,
          44.545802366,
          44.545613831,
          44.564774399,
          44.546218439,
          44.546383515,
          44.546473862,
          44.546468351,
          44.546276049,
          44.546447495,
          44.546460659,
          44.546279628,
          44.546382775,
          44.54643262,
          44.527876985,
          44.534598787,
          44.535016747,
          44.53455206,
          44.527037128,
          44.534548867,
          44.534714994,
          44.53472552,
          44.567188591,
          44.537932618,
          44.567162563,
          44.567107155,
          44.567151357,
          44.538004543,
          44.567100575,
          44.537815381,
          44.537860539,
          44.538057099,
          44.567112405,
          44.567058263,
          44.550858947,
          44.547620607,
          44.528547292,
          44.551385886,
          44.545354855,
          44.54628923,
          44.546477882,
          44.552466904,
          44.552413906,
          44.534139682,
          44.54647356,
          44.552326657,
          44.552134336,
          44.533642271,
          44.534102316,
          44.534101014,
          44.534176818,
          44.579430855,
          44.546319527,
          44.54619594,
          44.545940942,
          44.552153078,
          44.534187631,
          44.579227919,
          44.546313347,
          44.545961563,
          44.563674084,
          44.551648445,
          44.552156845,
          44.53418113,
          44.546169624,
          44.552181484,
          44.534094573,
          44.546191889,
          44.551539285,
          44.526986457,
          44.56347963,
          44.563614554,
          44.563552621,
          44.552042873,
          44.545694507,
          44.546230371,
          44.5506272,
          44.545531128,
          44.545477291,
          44.550693479,
          44.551049098,
          44.549603035,
          44.545337844,
          44.551023908,
          44.550957838,
          44.545257931,
          44.551011453,
          44.534542458,
          44.534551491,
          44.534564754,
          44.534572376,
          44.534607695,
          44.534581535,
          44.53454964,
          44.534576979,
          44.534594799,
          44.53462185,
          44.535315658,
          44.535010756,
          44.534805868,
          44.534724525,
          44.534504182,
          44.534680014,
          44.534547605,
          44.534624831,
          44.53529669,
          44.534753703,
          44.53464393,
          44.534834385,
          44.535379528,
          44.534906034,
          44.535238681,
          44.534582637,
          44.535250816,
          44.5352082,
          44.526937405,
          44.549419214,
          44.549493739,
          44.545431359,
          44.550259915,
          44.550141177,
          44.53803848,
          44.538223845,
          44.551077226,
          44.551011448,
          44.550982039,
          44.579738043,
          44.561219918,
          44.561308101,
          44.561126259,
          44.580012486,
          44.57982492,
          44.579799961,
          44.579760694,
          44.551282512,
          44.561331507,
          44.561779617,
          44.562857466,
          44.56222013,
          44.562780732,
          44.561940497,
          44.561414611,
          44.579805629,
          44.545525932,
          44.56160908,
          44.561708809,
          44.537828514,
          44.561849207,
          44.567045199,
          44.537844455,
          44.562548394,
          44.5287757,
          44.562654881,
          44.561507879,
          44.551002551,
          44.545291396,
          44.553143571,
          44.537942418,
          44.538134774,
          44.539041509,
          44.5340518,
          44.550739329,
          44.552737713,
          44.545891875,
          44.533276145,
          44.534063346,
          44.534193212,
          44.53410914,
          44.534133674,
          44.579350916,
          44.562251187,
          44.579846718,
          44.552435907,
          44.552433062,
          44.552371623,
          44.550848983,
          44.553218208,
          44.526960463,
          44.552410896,
          44.561680978,
          44.561654695,
          44.561829277,
          44.561770745,
          44.561707396,
          44.561838944,
          44.551318175,
          44.527132888,
          44.527144668,
          44.527199677,
          44.527193381,
          44.528641084,
          44.527189742,
          44.528643518,
          44.526983491,
          44.527147578,
          44.528533379,
          44.526993635,
          44.526950534,
          44.579461941,
          44.580553146,
          44.579446508,
          44.579334042,
          44.580591848,
          44.579522703,
          44.579607514,
          44.562156828,
          44.562263064,
          44.535341066,
          44.556389,
          44.546047,
          44.536218,
          44.581713,
          44.557256,
          44.54486,
          44.549777,
          44.538465,
          44.537522,
          44.545065,
          44.550227,
          44.554321,
          44.558175,
          44.547426,
          44.545593,
          44.546348,
          44.554616,
          44.564612,
          44.514712,
          44.540483,
          44.546195,
          44.549692,
          44.549005,
          44.540192,
          44.547598,
          44.546274,
          44.551369,
          44.542394,
          44.549533,
          44.555094,
          44.554187,
          44.537833,
          44.553242,
          44.546088,
          44.543793,
          44.535227,
          44.532596,
          44.548681,
          44.544544,
          44.550765,
          44.556073,
          44.543976,
          44.547812,
          44.57294,
          44.545358,
          44.54054,
          44.556049,
          44.549738,
          44.552399,
          44.549833,
          44.543193,
          44.576293,
          44.563043,
          44.550849,
          44.544561,
          44.540383,
          44.554778,
          44.510936,
          44.52294,
          44.548491,
          44.539342,
          44.548741,
          44.54734,
          44.545128,
          44.543581,
          44.54925,
          44.545136,
          44.536094,
          44.546169,
          44.539751,
          44.573693,
          44.536972,
          44.545474,
          44.552913,
          44.576297,
          44.555124,
          44.570596,
          44.545823,
          44.549321,
          44.555626,
          44.578402,
          44.548351,
          44.583999,
          44.574319,
          44.549403,
          44.549821,
          44.552132,
          44.577558,
          44.554095,
          44.53925,
          44.548844,
          44.547733,
          44.553299,
          44.541883,
          44.555869,
          44.57523,
          44.534766,
          44.562835,
          44.547992,
          44.552747,
          44.555693,
          44.555451,
          44.537501,
          44.575248,
          44.544553,
          44.555266,
          44.537524,
          44.555338,
          44.548437,
          44.538296,
          44.543767,
          44.558161,
          44.543418,
          44.550817,
          44.538287,
          44.548163,
          44.543642,
          44.549337,
          44.55124,
          44.545136,
          44.547838,
          44.549571,
          44.546789,
          44.551506,
          44.549335,
          44.550646,
          44.547128,
          44.537685,
          44.544097,
          44.549882,
          44.576402,
          44.543793,
          44.554893,
          44.554123,
          44.550975,
          44.551078,
          44.546679,
          44.537922,
          44.556081,
          44.543651,
          44.545853,
          44.551787,
          44.558138,
          44.57528,
          44.551676,
          44.546286,
          44.540163,
          44.548684,
          44.548684,
          44.547235,
          44.550195,
          44.548789,
          44.545311,
          44.548877,
          44.537256,
          44.521261,
          44.549161,
          44.535126,
          44.553404,
          44.540127,
          44.538664,
          44.543233,
          44.566399,
          44.56697,
          44.539655,
          44.555051,
          44.57535,
          44.576554,
          44.552834,
          44.545744,
          44.549187,
          44.540947,
          44.554747,
          44.554906,
          44.553737,
          44.542723,
          44.557979,
          44.560474,
          44.554438,
          44.560578,
          44.538807,
          44.513763,
          44.544391,
          44.564896,
          44.55929,
          44.542145,
          44.544976,
          44.575513,
          44.552133,
          44.574578,
          44.557585,
          44.543569,
          44.547877,
          44.553764,
          44.556239,
          44.555881,
          44.551145,
          44.532841,
          44.548824,
          44.511651,
          44.552562,
          44.506117,
          44.5707,
          44.554601,
          44.553423,
          44.538431,
          44.548256,
          44.557187,
          44.557887,
          44.561562,
          44.5358,
          44.561528,
          44.551276,
          44.544349,
          44.547115,
          44.561829,
          44.543841,
          44.5803,
          44.529517,
          44.562643,
          44.540011,
          44.54687,
          44.56281,
          44.559779,
          44.547677,
          44.553565,
          44.555001,
          44.549743,
          44.549889,
          44.560474,
          44.546692,
          44.556896,
          44.549954,
          44.550248,
          44.559991,
          44.542774,
          44.550486,
          44.550847,
          44.550958,
          44.540578,
          44.552524,
          44.557638,
          44.550798,
          44.540885,
          44.539029,
          44.561895,
          44.52102,
          44.550267,
          44.575544,
          44.547943,
          44.555909,
          44.557555,
          44.542984,
          44.559506,
          44.555269,
          44.516855,
          44.555066,
          44.558736,
          44.559679,
          44.550955,
          44.562249,
          44.560921,
          44.549687,
          44.560075,
          44.581206,
          44.540622,
          44.555104,
          44.541066,
          44.572983,
          44.552938,
          44.562042,
          44.547027,
          44.551256,
          44.549539,
          44.546493,
          44.563184,
          44.544493,
          44.548888,
          44.561941,
          44.561611,
          44.562549,
          44.552364,
          44.56253,
          44.556441,
          44.55477,
          44.543475,
          44.545123,
          44.561413,
          44.556499,
          44.56569,
          44.57294,
          44.554747,
          44.551369,
          44.554226,
          44.555139,
          44.552497,
          44.551154,
          44.57294,
          44.550233,
          44.568972,
          44.550195,
          44.556081,
          44.5499,
          44.55899,
          44.54855,
          44.509692,
          44.529162,
          44.534331,
          44.556211,
          44.552073,
          44.562742,
          44.548565,
          44.550539,
          44.56439,
          44.567792,
          44.566065,
          44.568677,
          44.568677,
          44.581446,
          44.576472,
          44.542792,
          44.57088,
          44.566048,
          44.555783,
          44.551624,
          44.5465,
          44.543434,
          44.540224,
          44.542792,
          44.544284
         ],
         "legendgroup": "",
         "lon": [
          -69.633445106,
          -69.629734075,
          -69.627130501,
          -69.629360613,
          -69.662300718,
          -69.659009354,
          -69.661506932,
          -69.627170641,
          -69.630103804,
          -69.627096196,
          -69.661540577,
          -69.627276043,
          -69.652626982,
          -69.627339754,
          -69.62782513,
          -69.627482167,
          -69.627441574,
          -69.652709761,
          -69.652367482,
          -69.661991992,
          -69.660249397,
          -69.643120213,
          -69.627292801,
          -69.629823116,
          -69.627520494,
          -69.633161938,
          -69.628123712,
          -69.652188339,
          -69.66124895,
          -69.660609127,
          -69.643137725,
          -69.642382613,
          -69.627251596,
          -69.627295519,
          -69.65940466,
          -69.627561064,
          -69.627587861,
          -69.627235811,
          -69.627433234,
          -69.652065966,
          -69.652679381,
          -69.650807453,
          -69.652064231,
          -69.651104172,
          -69.653245237,
          -69.643134555,
          -69.643590051,
          -69.630623608,
          -69.630423726,
          -69.630521764,
          -69.629933097,
          -69.65216823,
          -69.651074616,
          -69.659877912,
          -69.654590877,
          -69.662159381,
          -69.62820905,
          -69.642772202,
          -69.627628591,
          -69.627530907,
          -69.652270541,
          -69.655004135,
          -69.654029137,
          -69.643770732,
          -69.651208826,
          -69.653621634,
          -69.65497412,
          -69.651122965,
          -69.654953897,
          -69.652007154,
          -69.652095135,
          -69.659816354,
          -69.643117271,
          -69.65951182,
          -69.659679363,
          -69.630236962,
          -69.653036823,
          -69.662730791,
          -69.662393433,
          -69.627586305,
          -69.642671031,
          -69.655936395,
          -69.652349943,
          -69.659379634,
          -69.642369785,
          -69.661276374,
          -69.660152068,
          -69.662369434,
          -69.66235045,
          -69.643105089,
          -69.627481594,
          -69.627746155,
          -69.662999703,
          -69.643196374,
          -69.655138926,
          -69.652068179,
          -69.652936893,
          -69.655165849,
          -69.652305115,
          -69.65495702,
          -69.659424262,
          -69.651331593,
          -69.65504533,
          -69.655206893,
          -69.642572271,
          -69.659002272,
          -69.659022498,
          -69.659083374,
          -69.627102918,
          -69.653361663,
          -69.652410953,
          -69.652365954,
          -69.654787765,
          -69.652682592,
          -69.659735434,
          -69.654278425,
          -69.653068348,
          -69.659840362,
          -69.662604021,
          -69.632952518,
          -69.65230187,
          -69.654393038,
          -69.652777909,
          -69.654338967,
          -69.651951748,
          -69.65199138,
          -69.627185864,
          -69.652267985,
          -69.652254537,
          -69.652298428,
          -69.654646604,
          -69.654399705,
          -69.660765979,
          -69.652066059,
          -69.642589696,
          -69.656218736,
          -69.66122492,
          -69.661268433,
          -69.662314828,
          -69.659834538,
          -69.64232827,
          -69.628121475,
          -69.628138644,
          -69.660057978,
          -69.652657391,
          -69.652119254,
          -69.652056251,
          -69.655041939,
          -69.652298815,
          -69.652291113,
          -69.655061263,
          -69.627712055,
          -69.658934085,
          -69.627188771,
          -69.627136031,
          -69.627161179,
          -69.662390349,
          -69.662876484,
          -69.663110979,
          -69.633496756,
          -69.627911422,
          -69.627705984,
          -69.627832251,
          -69.643681873,
          -69.638579768,
          -69.62822185,
          -69.65453839,
          -69.655177022,
          -69.631143566,
          -69.65520196,
          -69.655255377,
          -69.651463194,
          -69.660258939,
          -69.660130139,
          -69.660742049,
          -69.631031761,
          -69.661080904,
          -69.662852182,
          -69.627535547,
          -69.662996024,
          -69.64236807,
          -69.64630032,
          -69.627503344,
          -69.655232157,
          -69.631097597,
          -69.652270663,
          -69.652146604,
          -69.627548722,
          -69.655138318,
          -69.655171658,
          -69.66027415799999,
          -69.66069974,
          -69.656248935,
          -69.646326048,
          -69.654663634,
          -69.627184597,
          -69.627084652,
          -69.627203952,
          -69.627205471,
          -69.627243396,
          -69.627155242,
          -69.627146612,
          -69.627188632,
          -69.627224027,
          -69.662652941,
          -69.662271575,
          -69.661195772,
          -69.662260276,
          -69.660540242,
          -69.627462484,
          -69.633630843,
          -69.633751475,
          -69.642755904,
          -69.629180762,
          -69.628330238,
          -69.64368957,
          -69.630549835,
          -69.630260177,
          -69.658869082,
          -69.660469546,
          -69.628191219,
          -69.628173551,
          -69.628203633,
          -69.628181923,
          -69.628225731,
          -69.628221847,
          -69.660433636,
          -69.628197902,
          -69.646170427,
          -69.628173615,
          -69.646332353,
          -69.643200389,
          -69.642705376,
          -69.643560654,
          -69.661456284,
          -69.655100595,
          -69.659194841,
          -69.635817125,
          -69.645284968,
          -69.645394575,
          -69.630864463,
          -69.627443773,
          -69.627390599,
          -69.627462326,
          -69.627437269,
          -69.627198538,
          -69.655900935,
          -69.660531149,
          -69.655889006,
          -69.655182389,
          -69.660187352,
          -69.655277268,
          -69.655200427,
          -69.6543411,
          -69.654514811,
          -69.631011941,
          -69.654581214,
          -69.627784007,
          -69.627433923,
          -69.659008709,
          -69.660747163,
          -69.660463431,
          -69.66071334,
          -69.66031406,
          -69.64589251,
          -69.646085003,
          -69.645948834,
          -69.628095893,
          -69.66212271,
          -69.662281421,
          -69.661279845,
          -69.662122754,
          -69.661257411,
          -69.66127555,
          -69.660364382,
          -69.661318763,
          -69.661319502,
          -69.660916033,
          -69.632787613,
          -69.662240958,
          -69.646017612,
          -69.6613353,
          -69.632878265,
          -69.662144845,
          -69.630572671,
          -69.630492737,
          -69.655008274,
          -69.662130981,
          -69.644996149,
          -69.660230611,
          -69.647938414,
          -69.646487087,
          -69.646411767,
          -69.646671514,
          -69.648137734,
          -69.646702032,
          -69.646594589,
          -69.646250489,
          -69.628178962,
          -69.659243802,
          -69.660490021,
          -69.660521494,
          -69.65919482,
          -69.659080366,
          -69.659032008,
          -69.656578388,
          -69.65470291,
          -69.654961952,
          -69.62814937,
          -69.660663998,
          -69.659243151,
          -69.659623593,
          -69.658967635,
          -69.654551728,
          -69.660536747,
          -69.659303332,
          -69.658823963,
          -69.654872067,
          -69.634583091,
          -69.660768525,
          -69.658914936,
          -69.654712859,
          -69.660716712,
          -69.655363069,
          -69.654971911,
          -69.63481117,
          -69.660564514,
          -69.660564364,
          -69.660712545,
          -69.660774381,
          -69.654649511,
          -69.661259036,
          -69.660263354,
          -69.660722068,
          -69.654960134,
          -69.660664476,
          -69.655264818,
          -69.627739925,
          -69.627674588,
          -69.65954621,
          -69.627685549,
          -69.66049525,
          -69.654596416,
          -69.656005297,
          -69.654639015,
          -69.660291057,
          -69.654681044,
          -69.633557488,
          -69.659752246,
          -69.627266982,
          -69.627223746,
          -69.627167156,
          -69.627043157,
          -69.627195413,
          -69.627124771,
          -69.627223061,
          -69.627154943,
          -69.627196143,
          -69.627192099,
          -69.62741295,
          -69.627235139,
          -69.627381076,
          -69.627345463,
          -69.627397874,
          -69.662570964,
          -69.661258465,
          -69.66113757,
          -69.632901785,
          -69.633366718,
          -69.645798294,
          -69.65986478,
          -69.643024777,
          -69.633531438,
          -69.627177903,
          -69.627134979,
          -69.627172932,
          -69.647300432,
          -69.633022034,
          -69.647396068,
          -69.633159784,
          -69.627498037,
          -69.627505921,
          -69.627522603,
          -69.627465609,
          -69.627386932,
          -69.627307704,
          -69.629622923,
          -69.648363313,
          -69.633150233,
          -69.633712657,
          -69.660292756,
          -69.629027532,
          -69.62902942,
          -69.647179811,
          -69.629058288,
          -69.63463146,
          -69.634610649,
          -69.648042145,
          -69.632855203,
          -69.633379395,
          -69.633685339,
          -69.633724591,
          -69.633262204,
          -69.633619435,
          -69.633740748,
          -69.633296408,
          -69.633342166,
          -69.633565447,
          -69.661230374,
          -69.643260114,
          -69.642562494,
          -69.643422274,
          -69.65999375,
          -69.643347235,
          -69.64272214,
          -69.642663305,
          -69.630710418,
          -69.63861643,
          -69.630632438,
          -69.630346499,
          -69.630457709,
          -69.638626601,
          -69.630063942,
          -69.638895205,
          -69.638672801,
          -69.638580192,
          -69.630201576,
          -69.630019996,
          -69.633316819,
          -69.63589461,
          -69.661752566,
          -69.633902839,
          -69.633727642,
          -69.633298278,
          -69.63365708,
          -69.6281684,
          -69.628190483,
          -69.659370746,
          -69.633711421,
          -69.628205388,
          -69.628208066,
          -69.660381219,
          -69.659057314,
          -69.659394879,
          -69.65969233,
          -69.654700619,
          -69.633322704,
          -69.634225117,
          -69.634603116,
          -69.628212251,
          -69.658962323,
          -69.654740511,
          -69.634013906,
          -69.634613214,
          -69.646712077,
          -69.643090637,
          -69.628178262,
          -69.659530309,
          -69.634297803,
          -69.628190198,
          -69.659112917,
          -69.634250376,
          -69.628208014,
          -69.659491033,
          -69.64648815,
          -69.646647965,
          -69.646579697,
          -69.62819165,
          -69.634704393,
          -69.634179413,
          -69.627929489,
          -69.634538219,
          -69.634458185,
          -69.633036709,
          -69.633901181,
          -69.62975644,
          -69.634298901,
          -69.633738017,
          -69.633286615,
          -69.633323804,
          -69.632767725,
          -69.643533359,
          -69.643497055,
          -69.643445977,
          -69.643381889,
          -69.643206817,
          -69.643181137,
          -69.643529126,
          -69.643348454,
          -69.64328551,
          -69.643131652,
          -69.642308871,
          -69.642572993,
          -69.642624051,
          -69.642723619,
          -69.643613383,
          -69.642741838,
          -69.643593784,
          -69.643179757,
          -69.642355591,
          -69.642699168,
          -69.643175024,
          -69.642647958,
          -69.642302047,
          -69.642636455,
          -69.642388492,
          -69.643427378,
          -69.642398572,
          -69.642391963,
          -69.659694425,
          -69.628761783,
          -69.628765302,
          -69.633104364,
          -69.628102697,
          -69.62808311,
          -69.639073484,
          -69.639170577,
          -69.642756055,
          -69.643351512,
          -69.643113738,
          -69.654831603,
          -69.644398958,
          -69.644259668,
          -69.644541863,
          -69.654905242,
          -69.654871756,
          -69.654818667,
          -69.654839456,
          -69.642763542,
          -69.644008632,
          -69.644443651,
          -69.645736972,
          -69.645732416,
          -69.645656695,
          -69.644618628,
          -69.644183643,
          -69.654847879,
          -69.633045681,
          -69.644236333,
          -69.644362374,
          -69.638798013,
          -69.644539664,
          -69.629831769,
          -69.638994342,
          -69.6302281,
          -69.662518985,
          -69.630165457,
          -69.644510857,
          -69.627338373,
          -69.633290805,
          -69.627235908,
          -69.639110165,
          -69.639041524,
          -69.637515719,
          -69.659059904,
          -69.633193524,
          -69.627494107,
          -69.632821154,
          -69.660231316,
          -69.660764034,
          -69.660083326,
          -69.659665291,
          -69.659557883,
          -69.654668513,
          -69.645380863,
          -69.654832198,
          -69.645315615,
          -69.645275659,
          -69.64519408,
          -69.627853186,
          -69.627702202,
          -69.659844495,
          -69.645241598,
          -69.64608247,
          -69.646146886,
          -69.645756261,
          -69.645857525,
          -69.645961331,
          -69.645681973,
          -69.633543041,
          -69.660599277,
          -69.660510771,
          -69.660746353,
          -69.660724878,
          -69.66198926,
          -69.660853456,
          -69.662000013,
          -69.660424504,
          -69.660719057,
          -69.661986796,
          -69.660165992,
          -69.66034805,
          -69.654667413,
          -69.655923815,
          -69.654651434,
          -69.654659334,
          -69.655980383,
          -69.654729221,
          -69.654764614,
          -69.630520188,
          -69.630518182,
          -69.642330379,
          -69.642501,
          -69.63492,
          -69.659131,
          -69.650531,
          -69.640406,
          -69.660802,
          -69.674505,
          -69.661322,
          -69.661214,
          -69.660484,
          -69.656639,
          -69.617809,
          -69.642683,
          -69.660032,
          -69.657846,
          -69.659686,
          -69.655127,
          -69.628121,
          -69.714351,
          -69.645345,
          -69.658142,
          -69.654996,
          -69.646082,
          -69.657779,
          -69.657623,
          -69.656928,
          -69.656161,
          -69.647368,
          -69.669347,
          -69.644682,
          -69.652271,
          -69.660137,
          -69.630605,
          -69.66183,
          -69.642801,
          -69.658623,
          -69.656636,
          -69.654746,
          -69.660988,
          -69.656337,
          -69.641892,
          -69.643043,
          -69.658765,
          -69.647373,
          -69.661916,
          -69.659029,
          -69.645423,
          -69.656476,
          -69.652439,
          -69.657145,
          -69.636633,
          -69.63307,
          -69.639072,
          -69.639883,
          -69.67041,
          -69.658989,
          -69.653753,
          -69.67736,
          -69.66986,
          -69.675013,
          -69.659267,
          -69.669199,
          -69.659389,
          -69.655002,
          -69.645203,
          -69.668401,
          -69.662876,
          -69.641433,
          -69.658715,
          -69.65705,
          -69.641519,
          -69.663514,
          -69.659022,
          -69.641926,
          -69.638682,
          -69.6402,
          -69.640848,
          -69.658566,
          -69.668583,
          -69.640596,
          -69.638232,
          -69.648662,
          -69.651458,
          -69.637432,
          -69.668398,
          -69.65535,
          -69.672021,
          -69.636208,
          -69.672799,
          -69.642965,
          -69.655365,
          -69.658342,
          -69.653161,
          -69.65095,
          -69.654103,
          -69.641126,
          -69.693755,
          -69.644969,
          -69.673414,
          -69.651354,
          -69.655624,
          -69.639593,
          -69.663935,
          -69.642751,
          -69.661749,
          -69.650073,
          -69.661223,
          -69.641329,
          -69.631768,
          -69.664114,
          -69.657586,
          -69.641127,
          -69.661101,
          -69.655078,
          -69.661074,
          -69.670326,
          -69.659813,
          -69.668389,
          -69.655159,
          -69.661397,
          -69.660389,
          -69.657362,
          -69.647864,
          -69.652681,
          -69.6482,
          -69.639981,
          -69.660287,
          -69.661564,
          -69.644794,
          -69.655729,
          -69.636044,
          -69.664057,
          -69.63632,
          -69.650029,
          -69.644782,
          -69.64557,
          -69.658456,
          -69.689079,
          -69.641268,
          -69.663665,
          -69.66126,
          -69.630627,
          -69.647681,
          -69.635415,
          -69.656045,
          -69.657098,
          -69.660478,
          -69.670521,
          -69.670521,
          -69.658909,
          -69.674516,
          -69.638878,
          -69.656036,
          -69.669037,
          -69.661799,
          -69.671433,
          -69.647034,
          -69.658118,
          -69.645117,
          -69.639117,
          -69.647874,
          -69.654962,
          -69.627258,
          -69.648421,
          -69.642145,
          -69.639582,
          -69.634238,
          -69.637085,
          -69.674377,
          -69.65589,
          -69.647286,
          -69.655654,
          -69.637476,
          -69.653292,
          -69.645013,
          -69.640901,
          -69.645482,
          -69.637363,
          -69.654741,
          -69.638006,
          -69.637661,
          -69.713565,
          -69.649965,
          -69.628029,
          -69.638212,
          -69.652325,
          -69.656372,
          -69.636513,
          -69.637366,
          -69.637756,
          -69.642028,
          -69.662991,
          -69.654447,
          -69.652952,
          -69.644374,
          -69.641631,
          -69.65439,
          -69.655512,
          -69.651814,
          -69.674461,
          -69.637837,
          -69.680826,
          -69.626889,
          -69.651375,
          -69.651192,
          -69.661126,
          -69.645608,
          -69.63015,
          -69.646765,
          -69.635133,
          -69.654463,
          -69.638816,
          -69.635279,
          -69.635022,
          -69.657731,
          -69.640557,
          -69.661131,
          -69.638543,
          -69.628631,
          -69.64134,
          -69.658721,
          -69.65652,
          -69.64218,
          -69.641362,
          -69.657976,
          -69.643683,
          -69.647596,
          -69.638146,
          -69.644153,
          -69.640555,
          -69.649959,
          -69.628226,
          -69.646256,
          -69.645876,
          -69.631943,
          -69.635747,
          -69.63794,
          -69.655425,
          -69.650101,
          -69.641394,
          -69.650917,
          -69.635651,
          -69.637729,
          -69.637193,
          -69.636663,
          -69.639236,
          -69.673268,
          -69.64021,
          -69.634901,
          -69.637144,
          -69.647021,
          -69.645603,
          -69.655198,
          -69.636521,
          -69.638445,
          -69.676661,
          -69.654421,
          -69.633289,
          -69.633816,
          -69.640287,
          -69.638723,
          -69.634679,
          -69.646404,
          -69.639209,
          -69.650274,
          -69.638273,
          -69.639772,
          -69.637755,
          -69.641385,
          -69.639093,
          -69.632085,
          -69.65187,
          -69.639648,
          -69.646415,
          -69.637223,
          -69.642826,
          -69.647114,
          -69.649152,
          -69.641345,
          -69.641568,
          -69.63323,
          -69.637834,
          -69.643165,
          -69.647618,
          -69.635739,
          -69.64969,
          -69.649545,
          -69.635969,
          -69.644547,
          -69.627805,
          -69.647373,
          -69.637476,
          -69.656161,
          -69.650842,
          -69.637468,
          -69.639806,
          -69.640182,
          -69.647373,
          -69.655619,
          -69.625076,
          -69.674516,
          -69.641268,
          -69.65633,
          -69.63965,
          -69.67416,
          -69.679596,
          -69.663829,
          -69.654267,
          -69.658993,
          -69.655218,
          -69.661264,
          -69.673118,
          -69.676892,
          -69.666891,
          -69.660862,
          -69.649482,
          -69.653691,
          -69.653691,
          -69.648023,
          -69.644022,
          -69.661636,
          -69.640377,
          -69.637458,
          -69.63196,
          -69.632225,
          -69.635816,
          -69.641063,
          -69.648855,
          -69.661636,
          -69.670174
         ],
         "marker": {
          "color": "#636efa"
         },
         "mode": "markers",
         "name": "",
         "showlegend": false,
         "subplot": "mapbox",
         "type": "scattermapbox"
        }
       ],
       "layout": {
        "geo": {
         "fitbounds": "locations"
        },
        "legend": {
         "tracegroupgap": 0
        },
        "mapbox": {
         "center": {
          "lat": 44.55096067158476,
          "lon": -69.64684510259549
         },
         "domain": {
          "x": [
           0,
           1
          ],
          "y": [
           0,
           1
          ]
         },
         "style": "open-street-map",
         "zoom": 8
        },
        "margin": {
         "t": 60
        },
        "template": {
         "data": {
          "bar": [
           {
            "error_x": {
             "color": "#2a3f5f"
            },
            "error_y": {
             "color": "#2a3f5f"
            },
            "marker": {
             "line": {
              "color": "#E5ECF6",
              "width": 0.5
             },
             "pattern": {
              "fillmode": "overlay",
              "size": 10,
              "solidity": 0.2
             }
            },
            "type": "bar"
           }
          ],
          "barpolar": [
           {
            "marker": {
             "line": {
              "color": "#E5ECF6",
              "width": 0.5
             },
             "pattern": {
              "fillmode": "overlay",
              "size": 10,
              "solidity": 0.2
             }
            },
            "type": "barpolar"
           }
          ],
          "carpet": [
           {
            "aaxis": {
             "endlinecolor": "#2a3f5f",
             "gridcolor": "white",
             "linecolor": "white",
             "minorgridcolor": "white",
             "startlinecolor": "#2a3f5f"
            },
            "baxis": {
             "endlinecolor": "#2a3f5f",
             "gridcolor": "white",
             "linecolor": "white",
             "minorgridcolor": "white",
             "startlinecolor": "#2a3f5f"
            },
            "type": "carpet"
           }
          ],
          "choropleth": [
           {
            "colorbar": {
             "outlinewidth": 0,
             "ticks": ""
            },
            "type": "choropleth"
           }
          ],
          "contour": [
           {
            "colorbar": {
             "outlinewidth": 0,
             "ticks": ""
            },
            "colorscale": [
             [
              0,
              "#0d0887"
             ],
             [
              0.1111111111111111,
              "#46039f"
             ],
             [
              0.2222222222222222,
              "#7201a8"
             ],
             [
              0.3333333333333333,
              "#9c179e"
             ],
             [
              0.4444444444444444,
              "#bd3786"
             ],
             [
              0.5555555555555556,
              "#d8576b"
             ],
             [
              0.6666666666666666,
              "#ed7953"
             ],
             [
              0.7777777777777778,
              "#fb9f3a"
             ],
             [
              0.8888888888888888,
              "#fdca26"
             ],
             [
              1,
              "#f0f921"
             ]
            ],
            "type": "contour"
           }
          ],
          "contourcarpet": [
           {
            "colorbar": {
             "outlinewidth": 0,
             "ticks": ""
            },
            "type": "contourcarpet"
           }
          ],
          "heatmap": [
           {
            "colorbar": {
             "outlinewidth": 0,
             "ticks": ""
            },
            "colorscale": [
             [
              0,
              "#0d0887"
             ],
             [
              0.1111111111111111,
              "#46039f"
             ],
             [
              0.2222222222222222,
              "#7201a8"
             ],
             [
              0.3333333333333333,
              "#9c179e"
             ],
             [
              0.4444444444444444,
              "#bd3786"
             ],
             [
              0.5555555555555556,
              "#d8576b"
             ],
             [
              0.6666666666666666,
              "#ed7953"
             ],
             [
              0.7777777777777778,
              "#fb9f3a"
             ],
             [
              0.8888888888888888,
              "#fdca26"
             ],
             [
              1,
              "#f0f921"
             ]
            ],
            "type": "heatmap"
           }
          ],
          "heatmapgl": [
           {
            "colorbar": {
             "outlinewidth": 0,
             "ticks": ""
            },
            "colorscale": [
             [
              0,
              "#0d0887"
             ],
             [
              0.1111111111111111,
              "#46039f"
             ],
             [
              0.2222222222222222,
              "#7201a8"
             ],
             [
              0.3333333333333333,
              "#9c179e"
             ],
             [
              0.4444444444444444,
              "#bd3786"
             ],
             [
              0.5555555555555556,
              "#d8576b"
             ],
             [
              0.6666666666666666,
              "#ed7953"
             ],
             [
              0.7777777777777778,
              "#fb9f3a"
             ],
             [
              0.8888888888888888,
              "#fdca26"
             ],
             [
              1,
              "#f0f921"
             ]
            ],
            "type": "heatmapgl"
           }
          ],
          "histogram": [
           {
            "marker": {
             "pattern": {
              "fillmode": "overlay",
              "size": 10,
              "solidity": 0.2
             }
            },
            "type": "histogram"
           }
          ],
          "histogram2d": [
           {
            "colorbar": {
             "outlinewidth": 0,
             "ticks": ""
            },
            "colorscale": [
             [
              0,
              "#0d0887"
             ],
             [
              0.1111111111111111,
              "#46039f"
             ],
             [
              0.2222222222222222,
              "#7201a8"
             ],
             [
              0.3333333333333333,
              "#9c179e"
             ],
             [
              0.4444444444444444,
              "#bd3786"
             ],
             [
              0.5555555555555556,
              "#d8576b"
             ],
             [
              0.6666666666666666,
              "#ed7953"
             ],
             [
              0.7777777777777778,
              "#fb9f3a"
             ],
             [
              0.8888888888888888,
              "#fdca26"
             ],
             [
              1,
              "#f0f921"
             ]
            ],
            "type": "histogram2d"
           }
          ],
          "histogram2dcontour": [
           {
            "colorbar": {
             "outlinewidth": 0,
             "ticks": ""
            },
            "colorscale": [
             [
              0,
              "#0d0887"
             ],
             [
              0.1111111111111111,
              "#46039f"
             ],
             [
              0.2222222222222222,
              "#7201a8"
             ],
             [
              0.3333333333333333,
              "#9c179e"
             ],
             [
              0.4444444444444444,
              "#bd3786"
             ],
             [
              0.5555555555555556,
              "#d8576b"
             ],
             [
              0.6666666666666666,
              "#ed7953"
             ],
             [
              0.7777777777777778,
              "#fb9f3a"
             ],
             [
              0.8888888888888888,
              "#fdca26"
             ],
             [
              1,
              "#f0f921"
             ]
            ],
            "type": "histogram2dcontour"
           }
          ],
          "mesh3d": [
           {
            "colorbar": {
             "outlinewidth": 0,
             "ticks": ""
            },
            "type": "mesh3d"
           }
          ],
          "parcoords": [
           {
            "line": {
             "colorbar": {
              "outlinewidth": 0,
              "ticks": ""
             }
            },
            "type": "parcoords"
           }
          ],
          "pie": [
           {
            "automargin": true,
            "type": "pie"
           }
          ],
          "scatter": [
           {
            "fillpattern": {
             "fillmode": "overlay",
             "size": 10,
             "solidity": 0.2
            },
            "type": "scatter"
           }
          ],
          "scatter3d": [
           {
            "line": {
             "colorbar": {
              "outlinewidth": 0,
              "ticks": ""
             }
            },
            "marker": {
             "colorbar": {
              "outlinewidth": 0,
              "ticks": ""
             }
            },
            "type": "scatter3d"
           }
          ],
          "scattercarpet": [
           {
            "marker": {
             "colorbar": {
              "outlinewidth": 0,
              "ticks": ""
             }
            },
            "type": "scattercarpet"
           }
          ],
          "scattergeo": [
           {
            "marker": {
             "colorbar": {
              "outlinewidth": 0,
              "ticks": ""
             }
            },
            "type": "scattergeo"
           }
          ],
          "scattergl": [
           {
            "marker": {
             "colorbar": {
              "outlinewidth": 0,
              "ticks": ""
             }
            },
            "type": "scattergl"
           }
          ],
          "scattermapbox": [
           {
            "marker": {
             "colorbar": {
              "outlinewidth": 0,
              "ticks": ""
             }
            },
            "type": "scattermapbox"
           }
          ],
          "scatterpolar": [
           {
            "marker": {
             "colorbar": {
              "outlinewidth": 0,
              "ticks": ""
             }
            },
            "type": "scatterpolar"
           }
          ],
          "scatterpolargl": [
           {
            "marker": {
             "colorbar": {
              "outlinewidth": 0,
              "ticks": ""
             }
            },
            "type": "scatterpolargl"
           }
          ],
          "scatterternary": [
           {
            "marker": {
             "colorbar": {
              "outlinewidth": 0,
              "ticks": ""
             }
            },
            "type": "scatterternary"
           }
          ],
          "surface": [
           {
            "colorbar": {
             "outlinewidth": 0,
             "ticks": ""
            },
            "colorscale": [
             [
              0,
              "#0d0887"
             ],
             [
              0.1111111111111111,
              "#46039f"
             ],
             [
              0.2222222222222222,
              "#7201a8"
             ],
             [
              0.3333333333333333,
              "#9c179e"
             ],
             [
              0.4444444444444444,
              "#bd3786"
             ],
             [
              0.5555555555555556,
              "#d8576b"
             ],
             [
              0.6666666666666666,
              "#ed7953"
             ],
             [
              0.7777777777777778,
              "#fb9f3a"
             ],
             [
              0.8888888888888888,
              "#fdca26"
             ],
             [
              1,
              "#f0f921"
             ]
            ],
            "type": "surface"
           }
          ],
          "table": [
           {
            "cells": {
             "fill": {
              "color": "#EBF0F8"
             },
             "line": {
              "color": "white"
             }
            },
            "header": {
             "fill": {
              "color": "#C8D4E3"
             },
             "line": {
              "color": "white"
             }
            },
            "type": "table"
           }
          ]
         },
         "layout": {
          "annotationdefaults": {
           "arrowcolor": "#2a3f5f",
           "arrowhead": 0,
           "arrowwidth": 1
          },
          "autotypenumbers": "strict",
          "coloraxis": {
           "colorbar": {
            "outlinewidth": 0,
            "ticks": ""
           }
          },
          "colorscale": {
           "diverging": [
            [
             0,
             "#8e0152"
            ],
            [
             0.1,
             "#c51b7d"
            ],
            [
             0.2,
             "#de77ae"
            ],
            [
             0.3,
             "#f1b6da"
            ],
            [
             0.4,
             "#fde0ef"
            ],
            [
             0.5,
             "#f7f7f7"
            ],
            [
             0.6,
             "#e6f5d0"
            ],
            [
             0.7,
             "#b8e186"
            ],
            [
             0.8,
             "#7fbc41"
            ],
            [
             0.9,
             "#4d9221"
            ],
            [
             1,
             "#276419"
            ]
           ],
           "sequential": [
            [
             0,
             "#0d0887"
            ],
            [
             0.1111111111111111,
             "#46039f"
            ],
            [
             0.2222222222222222,
             "#7201a8"
            ],
            [
             0.3333333333333333,
             "#9c179e"
            ],
            [
             0.4444444444444444,
             "#bd3786"
            ],
            [
             0.5555555555555556,
             "#d8576b"
            ],
            [
             0.6666666666666666,
             "#ed7953"
            ],
            [
             0.7777777777777778,
             "#fb9f3a"
            ],
            [
             0.8888888888888888,
             "#fdca26"
            ],
            [
             1,
             "#f0f921"
            ]
           ],
           "sequentialminus": [
            [
             0,
             "#0d0887"
            ],
            [
             0.1111111111111111,
             "#46039f"
            ],
            [
             0.2222222222222222,
             "#7201a8"
            ],
            [
             0.3333333333333333,
             "#9c179e"
            ],
            [
             0.4444444444444444,
             "#bd3786"
            ],
            [
             0.5555555555555556,
             "#d8576b"
            ],
            [
             0.6666666666666666,
             "#ed7953"
            ],
            [
             0.7777777777777778,
             "#fb9f3a"
            ],
            [
             0.8888888888888888,
             "#fdca26"
            ],
            [
             1,
             "#f0f921"
            ]
           ]
          },
          "colorway": [
           "#636efa",
           "#EF553B",
           "#00cc96",
           "#ab63fa",
           "#FFA15A",
           "#19d3f3",
           "#FF6692",
           "#B6E880",
           "#FF97FF",
           "#FECB52"
          ],
          "font": {
           "color": "#2a3f5f"
          },
          "geo": {
           "bgcolor": "white",
           "lakecolor": "white",
           "landcolor": "#E5ECF6",
           "showlakes": true,
           "showland": true,
           "subunitcolor": "white"
          },
          "hoverlabel": {
           "align": "left"
          },
          "hovermode": "closest",
          "mapbox": {
           "style": "light"
          },
          "paper_bgcolor": "white",
          "plot_bgcolor": "#E5ECF6",
          "polar": {
           "angularaxis": {
            "gridcolor": "white",
            "linecolor": "white",
            "ticks": ""
           },
           "bgcolor": "#E5ECF6",
           "radialaxis": {
            "gridcolor": "white",
            "linecolor": "white",
            "ticks": ""
           }
          },
          "scene": {
           "xaxis": {
            "backgroundcolor": "#E5ECF6",
            "gridcolor": "white",
            "gridwidth": 2,
            "linecolor": "white",
            "showbackground": true,
            "ticks": "",
            "zerolinecolor": "white"
           },
           "yaxis": {
            "backgroundcolor": "#E5ECF6",
            "gridcolor": "white",
            "gridwidth": 2,
            "linecolor": "white",
            "showbackground": true,
            "ticks": "",
            "zerolinecolor": "white"
           },
           "zaxis": {
            "backgroundcolor": "#E5ECF6",
            "gridcolor": "white",
            "gridwidth": 2,
            "linecolor": "white",
            "showbackground": true,
            "ticks": "",
            "zerolinecolor": "white"
           }
          },
          "shapedefaults": {
           "line": {
            "color": "#2a3f5f"
           }
          },
          "ternary": {
           "aaxis": {
            "gridcolor": "white",
            "linecolor": "white",
            "ticks": ""
           },
           "baxis": {
            "gridcolor": "white",
            "linecolor": "white",
            "ticks": ""
           },
           "bgcolor": "#E5ECF6",
           "caxis": {
            "gridcolor": "white",
            "linecolor": "white",
            "ticks": ""
           }
          },
          "title": {
           "x": 0.05
          },
          "xaxis": {
           "automargin": true,
           "gridcolor": "white",
           "linecolor": "white",
           "ticks": "",
           "title": {
            "standoff": 15
           },
           "zerolinecolor": "white",
           "zerolinewidth": 2
          },
          "yaxis": {
           "automargin": true,
           "gridcolor": "white",
           "linecolor": "white",
           "ticks": "",
           "title": {
            "standoff": 15
           },
           "zerolinecolor": "white",
           "zerolinewidth": 2
          }
         }
        }
       }
      }
     },
     "metadata": {},
     "output_type": "display_data"
    }
   ],
   "source": [
    "fig = px.scatter_mapbox(df, lat='Latitude', lon='Longitude')\n",
    "fig.update_layout(mapbox_style=\"open-street-map\")\n",
    "fig.update_geos(fitbounds=\"locations\")\n",
    "fig.show()"
   ]
  },
  {
   "cell_type": "markdown",
   "id": "5eb8149c",
   "metadata": {},
   "source": [
    "## 2. Consider Transforming/Normalizing the Data <a class=\"anchor\" id=\"normalizeData\"></a>"
   ]
  },
  {
   "cell_type": "markdown",
   "id": "f33acd9a",
   "metadata": {},
   "source": [
    "We can't do PCA on this dataset unless all the variables are converted into quantitative and missing values filled in. A baseline approach (you can do better!):\n",
    "* Each value in every 'object' type column will be converted to the index of the value from a dictionary of the unique values in that column\n",
    "* We call fillna to replace every (remaining) NaN with the median value\n",
    "* We convert all of that to type float64"
   ]
  },
  {
   "cell_type": "code",
   "execution_count": 97,
   "id": "e801cfaf",
   "metadata": {},
   "outputs": [
    {
     "data": {
      "text/html": [
       "<div>\n",
       "<style scoped>\n",
       "    .dataframe tbody tr th:only-of-type {\n",
       "        vertical-align: middle;\n",
       "    }\n",
       "\n",
       "    .dataframe tbody tr th {\n",
       "        vertical-align: top;\n",
       "    }\n",
       "\n",
       "    .dataframe thead th {\n",
       "        text-align: right;\n",
       "    }\n",
       "</style>\n",
       "<table border=\"1\" class=\"dataframe\">\n",
       "  <thead>\n",
       "    <tr style=\"text-align: right;\">\n",
       "      <th></th>\n",
       "      <th>Longitude</th>\n",
       "      <th>Latitude</th>\n",
       "      <th>Common Name</th>\n",
       "      <th>Condition Class / Infestation Pattern</th>\n",
       "      <th>List of Trees on  residential property</th>\n",
       "      <th>BTM positive trees self reported  on residential property</th>\n",
       "      <th>Number of BTM positive Tree Species on property</th>\n",
       "      <th>Dbh 1. inches</th>\n",
       "      <th>Dbh 2</th>\n",
       "      <th>Dbh 3</th>\n",
       "      <th>...</th>\n",
       "      <th>Dbh 5</th>\n",
       "      <th>Dbh 6</th>\n",
       "      <th>Number Observed BTM Nests</th>\n",
       "      <th>Distance to Water (feet)</th>\n",
       "      <th>Entry Source</th>\n",
       "      <th>BTM (Y/N)</th>\n",
       "      <th>Interest in Help</th>\n",
       "      <th>Tree Type (Ornamental | Fruiting / Flowering | Bush)</th>\n",
       "      <th>Proposed Treatment Type (Insert/Injection; Manual Removal; Organic Spray)</th>\n",
       "      <th>Treatm.  Priority (1: High, 2: Med, 3: Low)</th>\n",
       "    </tr>\n",
       "  </thead>\n",
       "  <tbody>\n",
       "    <tr>\n",
       "      <th>0</th>\n",
       "      <td>-69.633445</td>\n",
       "      <td>44.551271</td>\n",
       "      <td>0</td>\n",
       "      <td>0</td>\n",
       "      <td>0</td>\n",
       "      <td>0</td>\n",
       "      <td>1.0</td>\n",
       "      <td>10.0</td>\n",
       "      <td>0</td>\n",
       "      <td>0</td>\n",
       "      <td>...</td>\n",
       "      <td>0</td>\n",
       "      <td>0</td>\n",
       "      <td>0</td>\n",
       "      <td>0</td>\n",
       "      <td>0</td>\n",
       "      <td>0</td>\n",
       "      <td>0</td>\n",
       "      <td>0</td>\n",
       "      <td>0</td>\n",
       "      <td>1.0</td>\n",
       "    </tr>\n",
       "    <tr>\n",
       "      <th>1</th>\n",
       "      <td>-69.629734</td>\n",
       "      <td>44.549535</td>\n",
       "      <td>0</td>\n",
       "      <td>1</td>\n",
       "      <td>0</td>\n",
       "      <td>0</td>\n",
       "      <td>1.0</td>\n",
       "      <td>21.0</td>\n",
       "      <td>0</td>\n",
       "      <td>0</td>\n",
       "      <td>...</td>\n",
       "      <td>0</td>\n",
       "      <td>0</td>\n",
       "      <td>1</td>\n",
       "      <td>0</td>\n",
       "      <td>0</td>\n",
       "      <td>0</td>\n",
       "      <td>0</td>\n",
       "      <td>0</td>\n",
       "      <td>0</td>\n",
       "      <td>1.0</td>\n",
       "    </tr>\n",
       "    <tr>\n",
       "      <th>2</th>\n",
       "      <td>-69.627131</td>\n",
       "      <td>44.551959</td>\n",
       "      <td>1</td>\n",
       "      <td>0</td>\n",
       "      <td>0</td>\n",
       "      <td>0</td>\n",
       "      <td>1.0</td>\n",
       "      <td>4.0</td>\n",
       "      <td>0</td>\n",
       "      <td>0</td>\n",
       "      <td>...</td>\n",
       "      <td>0</td>\n",
       "      <td>0</td>\n",
       "      <td>1</td>\n",
       "      <td>1</td>\n",
       "      <td>0</td>\n",
       "      <td>0</td>\n",
       "      <td>0</td>\n",
       "      <td>1</td>\n",
       "      <td>1</td>\n",
       "      <td>1.0</td>\n",
       "    </tr>\n",
       "    <tr>\n",
       "      <th>3</th>\n",
       "      <td>-69.629361</td>\n",
       "      <td>44.549576</td>\n",
       "      <td>1</td>\n",
       "      <td>0</td>\n",
       "      <td>0</td>\n",
       "      <td>0</td>\n",
       "      <td>1.0</td>\n",
       "      <td>42.0</td>\n",
       "      <td>0</td>\n",
       "      <td>0</td>\n",
       "      <td>...</td>\n",
       "      <td>0</td>\n",
       "      <td>0</td>\n",
       "      <td>1</td>\n",
       "      <td>0</td>\n",
       "      <td>0</td>\n",
       "      <td>0</td>\n",
       "      <td>0</td>\n",
       "      <td>1</td>\n",
       "      <td>1</td>\n",
       "      <td>1.0</td>\n",
       "    </tr>\n",
       "    <tr>\n",
       "      <th>4</th>\n",
       "      <td>-69.662301</td>\n",
       "      <td>44.528730</td>\n",
       "      <td>2</td>\n",
       "      <td>0</td>\n",
       "      <td>0</td>\n",
       "      <td>0</td>\n",
       "      <td>1.0</td>\n",
       "      <td>24.0</td>\n",
       "      <td>0</td>\n",
       "      <td>0</td>\n",
       "      <td>...</td>\n",
       "      <td>0</td>\n",
       "      <td>0</td>\n",
       "      <td>1</td>\n",
       "      <td>0</td>\n",
       "      <td>0</td>\n",
       "      <td>0</td>\n",
       "      <td>0</td>\n",
       "      <td>1</td>\n",
       "      <td>1</td>\n",
       "      <td>1.0</td>\n",
       "    </tr>\n",
       "  </tbody>\n",
       "</table>\n",
       "<p>5 rows × 21 columns</p>\n",
       "</div>"
      ],
      "text/plain": [
       "   Longitude   Latitude  Common Name  Condition Class / Infestation Pattern  \\\n",
       "0 -69.633445  44.551271            0                                      0   \n",
       "1 -69.629734  44.549535            0                                      1   \n",
       "2 -69.627131  44.551959            1                                      0   \n",
       "3 -69.629361  44.549576            1                                      0   \n",
       "4 -69.662301  44.528730            2                                      0   \n",
       "\n",
       "   List of Trees on  residential property  \\\n",
       "0                                       0   \n",
       "1                                       0   \n",
       "2                                       0   \n",
       "3                                       0   \n",
       "4                                       0   \n",
       "\n",
       "   BTM positive trees self reported  on residential property  \\\n",
       "0                                                  0           \n",
       "1                                                  0           \n",
       "2                                                  0           \n",
       "3                                                  0           \n",
       "4                                                  0           \n",
       "\n",
       "   Number of BTM positive Tree Species on property  Dbh 1. inches  Dbh 2  \\\n",
       "0                                              1.0           10.0      0   \n",
       "1                                              1.0           21.0      0   \n",
       "2                                              1.0            4.0      0   \n",
       "3                                              1.0           42.0      0   \n",
       "4                                              1.0           24.0      0   \n",
       "\n",
       "   Dbh 3  ...  Dbh 5  Dbh 6  Number Observed BTM Nests  \\\n",
       "0      0  ...      0      0                          0   \n",
       "1      0  ...      0      0                          1   \n",
       "2      0  ...      0      0                          1   \n",
       "3      0  ...      0      0                          1   \n",
       "4      0  ...      0      0                          1   \n",
       "\n",
       "   Distance to Water (feet)  Entry Source  BTM (Y/N)  Interest in Help  \\\n",
       "0                         0             0          0                 0   \n",
       "1                         0             0          0                 0   \n",
       "2                         1             0          0                 0   \n",
       "3                         0             0          0                 0   \n",
       "4                         0             0          0                 0   \n",
       "\n",
       "   Tree Type (Ornamental | Fruiting / Flowering | Bush)  \\\n",
       "0                                                  0      \n",
       "1                                                  0      \n",
       "2                                                  1      \n",
       "3                                                  1      \n",
       "4                                                  1      \n",
       "\n",
       "   Proposed Treatment Type (Insert/Injection; Manual Removal; Organic Spray)  \\\n",
       "0                                                  0                           \n",
       "1                                                  0                           \n",
       "2                                                  1                           \n",
       "3                                                  1                           \n",
       "4                                                  1                           \n",
       "\n",
       "   Treatm.  Priority (1: High, 2: Med, 3: Low)  \n",
       "0                                          1.0  \n",
       "1                                          1.0  \n",
       "2                                          1.0  \n",
       "3                                          1.0  \n",
       "4                                          1.0  \n",
       "\n",
       "[5 rows x 21 columns]"
      ]
     },
     "metadata": {},
     "output_type": "display_data"
    },
    {
     "data": {
      "text/html": [
       "<div>\n",
       "<style scoped>\n",
       "    .dataframe tbody tr th:only-of-type {\n",
       "        vertical-align: middle;\n",
       "    }\n",
       "\n",
       "    .dataframe tbody tr th {\n",
       "        vertical-align: top;\n",
       "    }\n",
       "\n",
       "    .dataframe thead th {\n",
       "        text-align: right;\n",
       "    }\n",
       "</style>\n",
       "<table border=\"1\" class=\"dataframe\">\n",
       "  <thead>\n",
       "    <tr style=\"text-align: right;\">\n",
       "      <th></th>\n",
       "      <th>Longitude</th>\n",
       "      <th>Latitude</th>\n",
       "      <th>Common Name</th>\n",
       "      <th>Condition Class / Infestation Pattern</th>\n",
       "      <th>List of Trees on  residential property</th>\n",
       "      <th>BTM positive trees self reported  on residential property</th>\n",
       "      <th>Number of BTM positive Tree Species on property</th>\n",
       "      <th>Dbh 1. inches</th>\n",
       "      <th>Dbh 2</th>\n",
       "      <th>Dbh 3</th>\n",
       "      <th>...</th>\n",
       "      <th>Dbh 5</th>\n",
       "      <th>Dbh 6</th>\n",
       "      <th>Number Observed BTM Nests</th>\n",
       "      <th>Distance to Water (feet)</th>\n",
       "      <th>Entry Source</th>\n",
       "      <th>BTM (Y/N)</th>\n",
       "      <th>Interest in Help</th>\n",
       "      <th>Tree Type (Ornamental | Fruiting / Flowering | Bush)</th>\n",
       "      <th>Proposed Treatment Type (Insert/Injection; Manual Removal; Organic Spray)</th>\n",
       "      <th>Treatm.  Priority (1: High, 2: Med, 3: Low)</th>\n",
       "    </tr>\n",
       "  </thead>\n",
       "  <tbody>\n",
       "    <tr>\n",
       "      <th>0</th>\n",
       "      <td>-69.633445</td>\n",
       "      <td>44.551271</td>\n",
       "      <td>0</td>\n",
       "      <td>0</td>\n",
       "      <td>0</td>\n",
       "      <td>0</td>\n",
       "      <td>1.0</td>\n",
       "      <td>10.0</td>\n",
       "      <td>0</td>\n",
       "      <td>0</td>\n",
       "      <td>...</td>\n",
       "      <td>0</td>\n",
       "      <td>0</td>\n",
       "      <td>0</td>\n",
       "      <td>0</td>\n",
       "      <td>0</td>\n",
       "      <td>0</td>\n",
       "      <td>0</td>\n",
       "      <td>0</td>\n",
       "      <td>0</td>\n",
       "      <td>1.0</td>\n",
       "    </tr>\n",
       "    <tr>\n",
       "      <th>1</th>\n",
       "      <td>-69.629734</td>\n",
       "      <td>44.549535</td>\n",
       "      <td>0</td>\n",
       "      <td>1</td>\n",
       "      <td>0</td>\n",
       "      <td>0</td>\n",
       "      <td>1.0</td>\n",
       "      <td>21.0</td>\n",
       "      <td>0</td>\n",
       "      <td>0</td>\n",
       "      <td>...</td>\n",
       "      <td>0</td>\n",
       "      <td>0</td>\n",
       "      <td>1</td>\n",
       "      <td>0</td>\n",
       "      <td>0</td>\n",
       "      <td>0</td>\n",
       "      <td>0</td>\n",
       "      <td>0</td>\n",
       "      <td>0</td>\n",
       "      <td>1.0</td>\n",
       "    </tr>\n",
       "    <tr>\n",
       "      <th>2</th>\n",
       "      <td>-69.627131</td>\n",
       "      <td>44.551959</td>\n",
       "      <td>1</td>\n",
       "      <td>0</td>\n",
       "      <td>0</td>\n",
       "      <td>0</td>\n",
       "      <td>1.0</td>\n",
       "      <td>4.0</td>\n",
       "      <td>0</td>\n",
       "      <td>0</td>\n",
       "      <td>...</td>\n",
       "      <td>0</td>\n",
       "      <td>0</td>\n",
       "      <td>1</td>\n",
       "      <td>1</td>\n",
       "      <td>0</td>\n",
       "      <td>0</td>\n",
       "      <td>0</td>\n",
       "      <td>1</td>\n",
       "      <td>1</td>\n",
       "      <td>1.0</td>\n",
       "    </tr>\n",
       "    <tr>\n",
       "      <th>3</th>\n",
       "      <td>-69.629361</td>\n",
       "      <td>44.549576</td>\n",
       "      <td>1</td>\n",
       "      <td>0</td>\n",
       "      <td>0</td>\n",
       "      <td>0</td>\n",
       "      <td>1.0</td>\n",
       "      <td>42.0</td>\n",
       "      <td>0</td>\n",
       "      <td>0</td>\n",
       "      <td>...</td>\n",
       "      <td>0</td>\n",
       "      <td>0</td>\n",
       "      <td>1</td>\n",
       "      <td>0</td>\n",
       "      <td>0</td>\n",
       "      <td>0</td>\n",
       "      <td>0</td>\n",
       "      <td>1</td>\n",
       "      <td>1</td>\n",
       "      <td>1.0</td>\n",
       "    </tr>\n",
       "    <tr>\n",
       "      <th>4</th>\n",
       "      <td>-69.662301</td>\n",
       "      <td>44.528730</td>\n",
       "      <td>2</td>\n",
       "      <td>0</td>\n",
       "      <td>0</td>\n",
       "      <td>0</td>\n",
       "      <td>1.0</td>\n",
       "      <td>24.0</td>\n",
       "      <td>0</td>\n",
       "      <td>0</td>\n",
       "      <td>...</td>\n",
       "      <td>0</td>\n",
       "      <td>0</td>\n",
       "      <td>1</td>\n",
       "      <td>0</td>\n",
       "      <td>0</td>\n",
       "      <td>0</td>\n",
       "      <td>0</td>\n",
       "      <td>1</td>\n",
       "      <td>1</td>\n",
       "      <td>1.0</td>\n",
       "    </tr>\n",
       "  </tbody>\n",
       "</table>\n",
       "<p>5 rows × 21 columns</p>\n",
       "</div>"
      ],
      "text/plain": [
       "   Longitude   Latitude  Common Name  Condition Class / Infestation Pattern  \\\n",
       "0 -69.633445  44.551271            0                                      0   \n",
       "1 -69.629734  44.549535            0                                      1   \n",
       "2 -69.627131  44.551959            1                                      0   \n",
       "3 -69.629361  44.549576            1                                      0   \n",
       "4 -69.662301  44.528730            2                                      0   \n",
       "\n",
       "   List of Trees on  residential property  \\\n",
       "0                                       0   \n",
       "1                                       0   \n",
       "2                                       0   \n",
       "3                                       0   \n",
       "4                                       0   \n",
       "\n",
       "   BTM positive trees self reported  on residential property  \\\n",
       "0                                                  0           \n",
       "1                                                  0           \n",
       "2                                                  0           \n",
       "3                                                  0           \n",
       "4                                                  0           \n",
       "\n",
       "   Number of BTM positive Tree Species on property  Dbh 1. inches  Dbh 2  \\\n",
       "0                                              1.0           10.0      0   \n",
       "1                                              1.0           21.0      0   \n",
       "2                                              1.0            4.0      0   \n",
       "3                                              1.0           42.0      0   \n",
       "4                                              1.0           24.0      0   \n",
       "\n",
       "   Dbh 3  ...  Dbh 5  Dbh 6  Number Observed BTM Nests  \\\n",
       "0      0  ...      0      0                          0   \n",
       "1      0  ...      0      0                          1   \n",
       "2      0  ...      0      0                          1   \n",
       "3      0  ...      0      0                          1   \n",
       "4      0  ...      0      0                          1   \n",
       "\n",
       "   Distance to Water (feet)  Entry Source  BTM (Y/N)  Interest in Help  \\\n",
       "0                         0             0          0                 0   \n",
       "1                         0             0          0                 0   \n",
       "2                         1             0          0                 0   \n",
       "3                         0             0          0                 0   \n",
       "4                         0             0          0                 0   \n",
       "\n",
       "   Tree Type (Ornamental | Fruiting / Flowering | Bush)  \\\n",
       "0                                                  0      \n",
       "1                                                  0      \n",
       "2                                                  1      \n",
       "3                                                  1      \n",
       "4                                                  1      \n",
       "\n",
       "   Proposed Treatment Type (Insert/Injection; Manual Removal; Organic Spray)  \\\n",
       "0                                                  0                           \n",
       "1                                                  0                           \n",
       "2                                                  1                           \n",
       "3                                                  1                           \n",
       "4                                                  1                           \n",
       "\n",
       "   Treatm.  Priority (1: High, 2: Med, 3: Low)  \n",
       "0                                          1.0  \n",
       "1                                          1.0  \n",
       "2                                          1.0  \n",
       "3                                          1.0  \n",
       "4                                          1.0  \n",
       "\n",
       "[5 rows x 21 columns]"
      ]
     },
     "metadata": {},
     "output_type": "display_data"
    }
   ],
   "source": [
    "converted_df = pd.DataFrame(df)\n",
    "for col in df.columns:\n",
    "    if df[col].dtype == 'object':\n",
    "        vals = {name: index for index, name in enumerate(df[col].unique())}\n",
    "        converted_df[col] = df[col].apply(lambda x : vals[x])\n",
    "    else:\n",
    "        converted_df[col] = df[col]\n",
    "display(converted_df.head())\n",
    "display(df.head())"
   ]
  },
  {
   "cell_type": "code",
   "execution_count": 98,
   "id": "d0955b15",
   "metadata": {},
   "outputs": [
    {
     "data": {
      "text/html": [
       "<div>\n",
       "<style scoped>\n",
       "    .dataframe tbody tr th:only-of-type {\n",
       "        vertical-align: middle;\n",
       "    }\n",
       "\n",
       "    .dataframe tbody tr th {\n",
       "        vertical-align: top;\n",
       "    }\n",
       "\n",
       "    .dataframe thead th {\n",
       "        text-align: right;\n",
       "    }\n",
       "</style>\n",
       "<table border=\"1\" class=\"dataframe\">\n",
       "  <thead>\n",
       "    <tr style=\"text-align: right;\">\n",
       "      <th></th>\n",
       "      <th>Longitude</th>\n",
       "      <th>Latitude</th>\n",
       "      <th>Common Name</th>\n",
       "      <th>Condition Class / Infestation Pattern</th>\n",
       "      <th>List of Trees on  residential property</th>\n",
       "      <th>BTM positive trees self reported  on residential property</th>\n",
       "      <th>Number of BTM positive Tree Species on property</th>\n",
       "      <th>Dbh 1. inches</th>\n",
       "      <th>Dbh 2</th>\n",
       "      <th>Dbh 3</th>\n",
       "      <th>...</th>\n",
       "      <th>Dbh 5</th>\n",
       "      <th>Dbh 6</th>\n",
       "      <th>Number Observed BTM Nests</th>\n",
       "      <th>Distance to Water (feet)</th>\n",
       "      <th>Entry Source</th>\n",
       "      <th>BTM (Y/N)</th>\n",
       "      <th>Interest in Help</th>\n",
       "      <th>Tree Type (Ornamental | Fruiting / Flowering | Bush)</th>\n",
       "      <th>Proposed Treatment Type (Insert/Injection; Manual Removal; Organic Spray)</th>\n",
       "      <th>Treatm.  Priority (1: High, 2: Med, 3: Low)</th>\n",
       "    </tr>\n",
       "  </thead>\n",
       "  <tbody>\n",
       "    <tr>\n",
       "      <th>0</th>\n",
       "      <td>-69.633445</td>\n",
       "      <td>44.551271</td>\n",
       "      <td>0.0</td>\n",
       "      <td>0.0</td>\n",
       "      <td>0.0</td>\n",
       "      <td>0.0</td>\n",
       "      <td>1.0</td>\n",
       "      <td>10.0</td>\n",
       "      <td>0.0</td>\n",
       "      <td>0.0</td>\n",
       "      <td>...</td>\n",
       "      <td>0.0</td>\n",
       "      <td>0.0</td>\n",
       "      <td>0.0</td>\n",
       "      <td>0.0</td>\n",
       "      <td>0.0</td>\n",
       "      <td>0.0</td>\n",
       "      <td>0.0</td>\n",
       "      <td>0.0</td>\n",
       "      <td>0.0</td>\n",
       "      <td>1.0</td>\n",
       "    </tr>\n",
       "    <tr>\n",
       "      <th>1</th>\n",
       "      <td>-69.629734</td>\n",
       "      <td>44.549535</td>\n",
       "      <td>0.0</td>\n",
       "      <td>1.0</td>\n",
       "      <td>0.0</td>\n",
       "      <td>0.0</td>\n",
       "      <td>1.0</td>\n",
       "      <td>21.0</td>\n",
       "      <td>0.0</td>\n",
       "      <td>0.0</td>\n",
       "      <td>...</td>\n",
       "      <td>0.0</td>\n",
       "      <td>0.0</td>\n",
       "      <td>1.0</td>\n",
       "      <td>0.0</td>\n",
       "      <td>0.0</td>\n",
       "      <td>0.0</td>\n",
       "      <td>0.0</td>\n",
       "      <td>0.0</td>\n",
       "      <td>0.0</td>\n",
       "      <td>1.0</td>\n",
       "    </tr>\n",
       "    <tr>\n",
       "      <th>2</th>\n",
       "      <td>-69.627131</td>\n",
       "      <td>44.551959</td>\n",
       "      <td>1.0</td>\n",
       "      <td>0.0</td>\n",
       "      <td>0.0</td>\n",
       "      <td>0.0</td>\n",
       "      <td>1.0</td>\n",
       "      <td>4.0</td>\n",
       "      <td>0.0</td>\n",
       "      <td>0.0</td>\n",
       "      <td>...</td>\n",
       "      <td>0.0</td>\n",
       "      <td>0.0</td>\n",
       "      <td>1.0</td>\n",
       "      <td>1.0</td>\n",
       "      <td>0.0</td>\n",
       "      <td>0.0</td>\n",
       "      <td>0.0</td>\n",
       "      <td>1.0</td>\n",
       "      <td>1.0</td>\n",
       "      <td>1.0</td>\n",
       "    </tr>\n",
       "    <tr>\n",
       "      <th>3</th>\n",
       "      <td>-69.629361</td>\n",
       "      <td>44.549576</td>\n",
       "      <td>1.0</td>\n",
       "      <td>0.0</td>\n",
       "      <td>0.0</td>\n",
       "      <td>0.0</td>\n",
       "      <td>1.0</td>\n",
       "      <td>42.0</td>\n",
       "      <td>0.0</td>\n",
       "      <td>0.0</td>\n",
       "      <td>...</td>\n",
       "      <td>0.0</td>\n",
       "      <td>0.0</td>\n",
       "      <td>1.0</td>\n",
       "      <td>0.0</td>\n",
       "      <td>0.0</td>\n",
       "      <td>0.0</td>\n",
       "      <td>0.0</td>\n",
       "      <td>1.0</td>\n",
       "      <td>1.0</td>\n",
       "      <td>1.0</td>\n",
       "    </tr>\n",
       "    <tr>\n",
       "      <th>4</th>\n",
       "      <td>-69.662301</td>\n",
       "      <td>44.528730</td>\n",
       "      <td>2.0</td>\n",
       "      <td>0.0</td>\n",
       "      <td>0.0</td>\n",
       "      <td>0.0</td>\n",
       "      <td>1.0</td>\n",
       "      <td>24.0</td>\n",
       "      <td>0.0</td>\n",
       "      <td>0.0</td>\n",
       "      <td>...</td>\n",
       "      <td>0.0</td>\n",
       "      <td>0.0</td>\n",
       "      <td>1.0</td>\n",
       "      <td>0.0</td>\n",
       "      <td>0.0</td>\n",
       "      <td>0.0</td>\n",
       "      <td>0.0</td>\n",
       "      <td>1.0</td>\n",
       "      <td>1.0</td>\n",
       "      <td>1.0</td>\n",
       "    </tr>\n",
       "  </tbody>\n",
       "</table>\n",
       "<p>5 rows × 21 columns</p>\n",
       "</div>"
      ],
      "text/plain": [
       "   Longitude   Latitude  Common Name  Condition Class / Infestation Pattern  \\\n",
       "0 -69.633445  44.551271          0.0                                    0.0   \n",
       "1 -69.629734  44.549535          0.0                                    1.0   \n",
       "2 -69.627131  44.551959          1.0                                    0.0   \n",
       "3 -69.629361  44.549576          1.0                                    0.0   \n",
       "4 -69.662301  44.528730          2.0                                    0.0   \n",
       "\n",
       "   List of Trees on  residential property  \\\n",
       "0                                     0.0   \n",
       "1                                     0.0   \n",
       "2                                     0.0   \n",
       "3                                     0.0   \n",
       "4                                     0.0   \n",
       "\n",
       "   BTM positive trees self reported  on residential property  \\\n",
       "0                                                0.0           \n",
       "1                                                0.0           \n",
       "2                                                0.0           \n",
       "3                                                0.0           \n",
       "4                                                0.0           \n",
       "\n",
       "   Number of BTM positive Tree Species on property  Dbh 1. inches  Dbh 2  \\\n",
       "0                                              1.0           10.0    0.0   \n",
       "1                                              1.0           21.0    0.0   \n",
       "2                                              1.0            4.0    0.0   \n",
       "3                                              1.0           42.0    0.0   \n",
       "4                                              1.0           24.0    0.0   \n",
       "\n",
       "   Dbh 3  ...  Dbh 5  Dbh 6  Number Observed BTM Nests  \\\n",
       "0    0.0  ...    0.0    0.0                        0.0   \n",
       "1    0.0  ...    0.0    0.0                        1.0   \n",
       "2    0.0  ...    0.0    0.0                        1.0   \n",
       "3    0.0  ...    0.0    0.0                        1.0   \n",
       "4    0.0  ...    0.0    0.0                        1.0   \n",
       "\n",
       "   Distance to Water (feet)  Entry Source  BTM (Y/N)  Interest in Help  \\\n",
       "0                       0.0           0.0        0.0               0.0   \n",
       "1                       0.0           0.0        0.0               0.0   \n",
       "2                       1.0           0.0        0.0               0.0   \n",
       "3                       0.0           0.0        0.0               0.0   \n",
       "4                       0.0           0.0        0.0               0.0   \n",
       "\n",
       "   Tree Type (Ornamental | Fruiting / Flowering | Bush)  \\\n",
       "0                                                0.0      \n",
       "1                                                0.0      \n",
       "2                                                1.0      \n",
       "3                                                1.0      \n",
       "4                                                1.0      \n",
       "\n",
       "   Proposed Treatment Type (Insert/Injection; Manual Removal; Organic Spray)  \\\n",
       "0                                                0.0                           \n",
       "1                                                0.0                           \n",
       "2                                                1.0                           \n",
       "3                                                1.0                           \n",
       "4                                                1.0                           \n",
       "\n",
       "   Treatm.  Priority (1: High, 2: Med, 3: Low)  \n",
       "0                                          1.0  \n",
       "1                                          1.0  \n",
       "2                                          1.0  \n",
       "3                                          1.0  \n",
       "4                                          1.0  \n",
       "\n",
       "[5 rows x 21 columns]"
      ]
     },
     "metadata": {},
     "output_type": "display_data"
    }
   ],
   "source": [
    "converted_df = converted_df.fillna(converted_df.median().round(1)).astype('float64')\n",
    "display(converted_df.head())"
   ]
  },
  {
   "cell_type": "markdown",
   "id": "42425237",
   "metadata": {},
   "source": [
    "Let's zscore."
   ]
  },
  {
   "cell_type": "code",
   "execution_count": 99,
   "id": "86e34aa8",
   "metadata": {},
   "outputs": [],
   "source": [
    "for col in ['Number of BTM positive Tree Species on property', 'Dbh 1. inches']:\n",
    "    converted_df[col] = zscore(converted_df[col])"
   ]
  },
  {
   "cell_type": "code",
   "execution_count": 100,
   "id": "1dfdb5d6",
   "metadata": {},
   "outputs": [
    {
     "name": "stdout",
     "output_type": "stream",
     "text": [
      "\n",
      "shape\n",
      " (932, 21)\n",
      "\n",
      "dtypes\n",
      " Longitude                                                                    float64\n",
      "Latitude                                                                     float64\n",
      "Common Name                                                                  float64\n",
      "Condition Class / Infestation Pattern                                        float64\n",
      "List of Trees on  residential property                                       float64\n",
      "BTM positive trees self reported  on residential property                    float64\n",
      "Number of BTM positive Tree Species on property                              float64\n",
      "Dbh 1. inches                                                                float64\n",
      "Dbh 2                                                                        float64\n",
      "Dbh 3                                                                        float64\n",
      "Dbh 4                                                                        float64\n",
      "Dbh 5                                                                        float64\n",
      "Dbh 6                                                                        float64\n",
      "Number Observed BTM Nests                                                    float64\n",
      "Distance to Water (feet)                                                     float64\n",
      "Entry Source                                                                 float64\n",
      "BTM (Y/N)                                                                    float64\n",
      "Interest in Help                                                             float64\n",
      "Tree Type (Ornamental | Fruiting / Flowering | Bush)                         float64\n",
      "Proposed Treatment Type (Insert/Injection; Manual Removal; Organic Spray)    float64\n",
      "Treatm.  Priority (1: High, 2: Med, 3: Low)                                  float64\n",
      "dtype: object\n",
      "\n",
      "missing values\n",
      " Longitude                                                                    False\n",
      "Latitude                                                                     False\n",
      "Common Name                                                                  False\n",
      "Condition Class / Infestation Pattern                                        False\n",
      "List of Trees on  residential property                                       False\n",
      "BTM positive trees self reported  on residential property                    False\n",
      "Number of BTM positive Tree Species on property                              False\n",
      "Dbh 1. inches                                                                False\n",
      "Dbh 2                                                                        False\n",
      "Dbh 3                                                                        False\n",
      "Dbh 4                                                                        False\n",
      "Dbh 5                                                                        False\n",
      "Dbh 6                                                                        False\n",
      "Number Observed BTM Nests                                                    False\n",
      "Distance to Water (feet)                                                     False\n",
      "Entry Source                                                                 False\n",
      "BTM (Y/N)                                                                    False\n",
      "Interest in Help                                                             False\n",
      "Tree Type (Ornamental | Fruiting / Flowering | Bush)                         False\n",
      "Proposed Treatment Type (Insert/Injection; Manual Removal; Organic Spray)    False\n",
      "Treatm.  Priority (1: High, 2: Med, 3: Low)                                  False\n",
      "dtype: bool\n"
     ]
    }
   ],
   "source": [
    "print(\"\\nshape\\n\", converted_df.shape)\n",
    "print(\"\\ndtypes\\n\", converted_df.dtypes)\n",
    "print(\"\\nmissing values\\n\", converted_df.isnull().any())"
   ]
  },
  {
   "cell_type": "markdown",
   "id": "09e8ae19",
   "metadata": {},
   "source": [
    "## 3. Consider Dimensionality Reduction <a class=\"anchor\" id=\"pcaData\"></a>\n",
    "\n",
    "* In what circumstances do we want to use dimensionality reduction?\n",
    "* We use PCA for dimensionality reduction. "
   ]
  },
  {
   "cell_type": "code",
   "execution_count": 101,
   "id": "ca304173",
   "metadata": {},
   "outputs": [
    {
     "name": "stdout",
     "output_type": "stream",
     "text": [
      "[0.718009   0.16746416 0.06200545 0.03174084 0.01089151]\n",
      "(932, 5) float64\n",
      "[[-21.14219886  15.73116401   2.24697469  16.30201305   9.14539163]\n",
      " [-21.01369614  15.46527313   2.19078914  15.71451011   8.60963053]\n",
      " [-20.60182184  14.81626567   1.95792436  15.26378303   8.88246844]\n",
      " ...\n",
      " [  3.73180123 -24.84577662  -2.1487255    2.2091087   -0.9696971 ]\n",
      " [  3.89049775 -25.24077955  -2.25876013   0.89805154  -2.38889021]\n",
      " [  3.7318027  -24.84577741  -2.14872058   2.20911317  -0.96970658]]\n"
     ]
    }
   ],
   "source": [
    "pca = PCA(n_components=5)\n",
    "pca.fit(converted_df)\n",
    "print(pca.explained_variance_ratio_)\n",
    "pca_df = pca.transform(converted_df)\n",
    "print(pca_df.shape, pca_df.dtype)\n",
    "print(pca_df)"
   ]
  },
  {
   "cell_type": "markdown",
   "id": "f5923b90",
   "metadata": {},
   "source": [
    "[Go back to the top](#review)\n",
    "\n",
    "## 4. Clustering <a class=\"anchor\" id=\"clustering\"></a>\n",
    "\n",
    "We can run kmeans clustering on converted_df or on pca_df."
   ]
  },
  {
   "cell_type": "code",
   "execution_count": 102,
   "id": "707d25f0",
   "metadata": {},
   "outputs": [
    {
     "data": {
      "text/html": [
       "<div>\n",
       "<style scoped>\n",
       "    .dataframe tbody tr th:only-of-type {\n",
       "        vertical-align: middle;\n",
       "    }\n",
       "\n",
       "    .dataframe tbody tr th {\n",
       "        vertical-align: top;\n",
       "    }\n",
       "\n",
       "    .dataframe thead th {\n",
       "        text-align: right;\n",
       "    }\n",
       "</style>\n",
       "<table border=\"1\" class=\"dataframe\">\n",
       "  <thead>\n",
       "    <tr style=\"text-align: right;\">\n",
       "      <th></th>\n",
       "      <th>Longitude</th>\n",
       "      <th>Latitude</th>\n",
       "      <th>Common Name</th>\n",
       "      <th>Condition Class / Infestation Pattern</th>\n",
       "      <th>List of Trees on  residential property</th>\n",
       "      <th>BTM positive trees self reported  on residential property</th>\n",
       "      <th>Number of BTM positive Tree Species on property</th>\n",
       "      <th>Dbh 1. inches</th>\n",
       "      <th>Dbh 2</th>\n",
       "      <th>Dbh 3</th>\n",
       "      <th>...</th>\n",
       "      <th>Dbh 6</th>\n",
       "      <th>Number Observed BTM Nests</th>\n",
       "      <th>Distance to Water (feet)</th>\n",
       "      <th>Entry Source</th>\n",
       "      <th>BTM (Y/N)</th>\n",
       "      <th>Interest in Help</th>\n",
       "      <th>Tree Type (Ornamental | Fruiting / Flowering | Bush)</th>\n",
       "      <th>Proposed Treatment Type (Insert/Injection; Manual Removal; Organic Spray)</th>\n",
       "      <th>Treatm.  Priority (1: High, 2: Med, 3: Low)</th>\n",
       "      <th>KMeans Labels</th>\n",
       "    </tr>\n",
       "  </thead>\n",
       "  <tbody>\n",
       "    <tr>\n",
       "      <th>0</th>\n",
       "      <td>-69.633445</td>\n",
       "      <td>44.551271</td>\n",
       "      <td>0</td>\n",
       "      <td>0</td>\n",
       "      <td>0</td>\n",
       "      <td>0</td>\n",
       "      <td>1.0</td>\n",
       "      <td>10.0</td>\n",
       "      <td>0</td>\n",
       "      <td>0</td>\n",
       "      <td>...</td>\n",
       "      <td>0</td>\n",
       "      <td>0</td>\n",
       "      <td>0</td>\n",
       "      <td>0</td>\n",
       "      <td>0</td>\n",
       "      <td>0</td>\n",
       "      <td>0</td>\n",
       "      <td>0</td>\n",
       "      <td>1.0</td>\n",
       "      <td>4</td>\n",
       "    </tr>\n",
       "    <tr>\n",
       "      <th>1</th>\n",
       "      <td>-69.629734</td>\n",
       "      <td>44.549535</td>\n",
       "      <td>0</td>\n",
       "      <td>1</td>\n",
       "      <td>0</td>\n",
       "      <td>0</td>\n",
       "      <td>1.0</td>\n",
       "      <td>21.0</td>\n",
       "      <td>0</td>\n",
       "      <td>0</td>\n",
       "      <td>...</td>\n",
       "      <td>0</td>\n",
       "      <td>1</td>\n",
       "      <td>0</td>\n",
       "      <td>0</td>\n",
       "      <td>0</td>\n",
       "      <td>0</td>\n",
       "      <td>0</td>\n",
       "      <td>0</td>\n",
       "      <td>1.0</td>\n",
       "      <td>4</td>\n",
       "    </tr>\n",
       "    <tr>\n",
       "      <th>2</th>\n",
       "      <td>-69.627131</td>\n",
       "      <td>44.551959</td>\n",
       "      <td>1</td>\n",
       "      <td>0</td>\n",
       "      <td>0</td>\n",
       "      <td>0</td>\n",
       "      <td>1.0</td>\n",
       "      <td>4.0</td>\n",
       "      <td>0</td>\n",
       "      <td>0</td>\n",
       "      <td>...</td>\n",
       "      <td>0</td>\n",
       "      <td>1</td>\n",
       "      <td>1</td>\n",
       "      <td>0</td>\n",
       "      <td>0</td>\n",
       "      <td>0</td>\n",
       "      <td>1</td>\n",
       "      <td>1</td>\n",
       "      <td>1.0</td>\n",
       "      <td>4</td>\n",
       "    </tr>\n",
       "    <tr>\n",
       "      <th>3</th>\n",
       "      <td>-69.629361</td>\n",
       "      <td>44.549576</td>\n",
       "      <td>1</td>\n",
       "      <td>0</td>\n",
       "      <td>0</td>\n",
       "      <td>0</td>\n",
       "      <td>1.0</td>\n",
       "      <td>42.0</td>\n",
       "      <td>0</td>\n",
       "      <td>0</td>\n",
       "      <td>...</td>\n",
       "      <td>0</td>\n",
       "      <td>1</td>\n",
       "      <td>0</td>\n",
       "      <td>0</td>\n",
       "      <td>0</td>\n",
       "      <td>0</td>\n",
       "      <td>1</td>\n",
       "      <td>1</td>\n",
       "      <td>1.0</td>\n",
       "      <td>4</td>\n",
       "    </tr>\n",
       "    <tr>\n",
       "      <th>4</th>\n",
       "      <td>-69.662301</td>\n",
       "      <td>44.528730</td>\n",
       "      <td>2</td>\n",
       "      <td>0</td>\n",
       "      <td>0</td>\n",
       "      <td>0</td>\n",
       "      <td>1.0</td>\n",
       "      <td>24.0</td>\n",
       "      <td>0</td>\n",
       "      <td>0</td>\n",
       "      <td>...</td>\n",
       "      <td>0</td>\n",
       "      <td>1</td>\n",
       "      <td>0</td>\n",
       "      <td>0</td>\n",
       "      <td>0</td>\n",
       "      <td>0</td>\n",
       "      <td>1</td>\n",
       "      <td>1</td>\n",
       "      <td>1.0</td>\n",
       "      <td>4</td>\n",
       "    </tr>\n",
       "  </tbody>\n",
       "</table>\n",
       "<p>5 rows × 22 columns</p>\n",
       "</div>"
      ],
      "text/plain": [
       "   Longitude   Latitude  Common Name  Condition Class / Infestation Pattern  \\\n",
       "0 -69.633445  44.551271            0                                      0   \n",
       "1 -69.629734  44.549535            0                                      1   \n",
       "2 -69.627131  44.551959            1                                      0   \n",
       "3 -69.629361  44.549576            1                                      0   \n",
       "4 -69.662301  44.528730            2                                      0   \n",
       "\n",
       "   List of Trees on  residential property  \\\n",
       "0                                       0   \n",
       "1                                       0   \n",
       "2                                       0   \n",
       "3                                       0   \n",
       "4                                       0   \n",
       "\n",
       "   BTM positive trees self reported  on residential property  \\\n",
       "0                                                  0           \n",
       "1                                                  0           \n",
       "2                                                  0           \n",
       "3                                                  0           \n",
       "4                                                  0           \n",
       "\n",
       "   Number of BTM positive Tree Species on property  Dbh 1. inches  Dbh 2  \\\n",
       "0                                              1.0           10.0      0   \n",
       "1                                              1.0           21.0      0   \n",
       "2                                              1.0            4.0      0   \n",
       "3                                              1.0           42.0      0   \n",
       "4                                              1.0           24.0      0   \n",
       "\n",
       "   Dbh 3  ...  Dbh 6  Number Observed BTM Nests  Distance to Water (feet)  \\\n",
       "0      0  ...      0                          0                         0   \n",
       "1      0  ...      0                          1                         0   \n",
       "2      0  ...      0                          1                         1   \n",
       "3      0  ...      0                          1                         0   \n",
       "4      0  ...      0                          1                         0   \n",
       "\n",
       "   Entry Source  BTM (Y/N)  Interest in Help  \\\n",
       "0             0          0                 0   \n",
       "1             0          0                 0   \n",
       "2             0          0                 0   \n",
       "3             0          0                 0   \n",
       "4             0          0                 0   \n",
       "\n",
       "   Tree Type (Ornamental | Fruiting / Flowering | Bush)  \\\n",
       "0                                                  0      \n",
       "1                                                  0      \n",
       "2                                                  1      \n",
       "3                                                  1      \n",
       "4                                                  1      \n",
       "\n",
       "   Proposed Treatment Type (Insert/Injection; Manual Removal; Organic Spray)  \\\n",
       "0                                                  0                           \n",
       "1                                                  0                           \n",
       "2                                                  1                           \n",
       "3                                                  1                           \n",
       "4                                                  1                           \n",
       "\n",
       "   Treatm.  Priority (1: High, 2: Med, 3: Low)  KMeans Labels  \n",
       "0                                          1.0              4  \n",
       "1                                          1.0              4  \n",
       "2                                          1.0              4  \n",
       "3                                          1.0              4  \n",
       "4                                          1.0              4  \n",
       "\n",
       "[5 rows x 22 columns]"
      ]
     },
     "metadata": {},
     "output_type": "display_data"
    }
   ],
   "source": [
    "km = KMeans(n_clusters=5)\n",
    "km.fit(pca_df)\n",
    "df['KMeans Labels'] = km.labels_\n",
    "display(df.head())"
   ]
  },
  {
   "cell_type": "code",
   "execution_count": 166,
   "id": "af37acbf",
   "metadata": {},
   "outputs": [
    {
     "data": {
      "application/vnd.plotly.v1+json": {
       "config": {
        "plotlyServerURL": "https://plot.ly"
       },
       "data": [
        {
         "hovertemplate": "color=4<br>Latitude=%{lat}<br>Longitude=%{lon}<extra></extra>",
         "lat": [
          44.551270843,
          44.549535104,
          44.551959107,
          44.549576086,
          44.528730089,
          44.527892994,
          44.528500767,
          44.552107498,
          44.568119203,
          44.552256336,
          44.528507084,
          44.552245492,
          44.576115339,
          44.550694524,
          44.551100061,
          44.550643005,
          44.550653336,
          44.576258458,
          44.575610585,
          44.528531891,
          44.534185649,
          44.534541383,
          44.552707302,
          44.549624139,
          44.550650788,
          44.550885231,
          44.550409868,
          44.574355202,
          44.527790497,
          44.534242873,
          44.534525742,
          44.535067257,
          44.552649305,
          44.552631229,
          44.526922708,
          44.550660512,
          44.550682722,
          44.55280444,
          44.55288368,
          44.574041444,
          44.576198698,
          44.570977618,
          44.573716781,
          44.570964061,
          44.577431179,
          44.534556744,
          44.551037343,
          44.568187706,
          44.568166277,
          44.568180525,
          44.568092382,
          44.57445103,
          44.570940743,
          44.526985363,
          44.579166941,
          44.528607317,
          44.551830389,
          44.550934295,
          44.553294793,
          44.553180139,
          44.57530671,
          44.579749175,
          44.578263159,
          44.534562247,
          44.571125873,
          44.577928306,
          44.580146257,
          44.57101406,
          44.580106902,
          44.574472612,
          44.573965547,
          44.526984014,
          44.534537531,
          44.52693367,
          44.526947345,
          44.568131596,
          44.577206801,
          44.528887953,
          44.528787875,
          44.550794528,
          44.53471302,
          44.580562104,
          44.575656798,
          44.527225591,
          44.535062877,
          44.527779086,
          44.534203214,
          44.528731836,
          44.528757969,
          44.534641602,
          44.550814563,
          44.550686668,
          44.529051549,
          44.534567479,
          44.580275528,
          44.574683743,
          44.57690561,
          44.580304353,
          44.575447509,
          44.580066173,
          44.526949019,
          44.572171795,
          44.58020694,
          44.580400524,
          44.534761682,
          44.534143296,
          44.534149994,
          44.53413742,
          44.552232602,
          44.577635094,
          44.574988309,
          44.574932431,
          44.579638475,
          44.576236757,
          44.526937209,
          44.578514877,
          44.577201626,
          44.526965236,
          44.528882558,
          44.550781124,
          44.575403517,
          44.578812042,
          44.576309999,
          44.578644149,
          44.574166775,
          44.574365821,
          44.552855569,
          44.575309061,
          44.575379054,
          44.574680224,
          44.579375345,
          44.578765188,
          44.534027361,
          44.57393026,
          44.534760839,
          44.52740095,
          44.527500848,
          44.528718456,
          44.526939686,
          44.535351871,
          44.553180069,
          44.553203955,
          44.53416864,
          44.576182169,
          44.574748325,
          44.573793361,
          44.580230144,
          44.575447815,
          44.575497797,
          44.580293604,
          44.551043508,
          44.552655427,
          44.552257254,
          44.552673261,
          44.528763964,
          44.528955536,
          44.529126312,
          44.550820609,
          44.550804653,
          44.550629017,
          44.550770545,
          44.579120469,
          44.580346956,
          44.567420479,
          44.58017348,
          44.580399469,
          44.571968223,
          44.567647165,
          44.527357027,
          44.528925725,
          44.550823042,
          44.529037938,
          44.580357124,
          44.567436812,
          44.575356501,
          44.574312791,
          44.551067037,
          44.528841767,
          44.528688922,
          44.5274077,
          44.528683062,
          44.534175722,
          44.550816718,
          44.550842164,
          44.550858454,
          44.53467235,
          44.552910416,
          44.580442062,
          44.533782621,
          44.580491869,
          44.580164924,
          44.534239682,
          44.580441742,
          44.580150564,
          44.578599094,
          44.57905045,
          44.567683658,
          44.579219653,
          44.550948337,
          44.551153797,
          44.528812439,
          44.527401967,
          44.527348154,
          44.550845712,
          44.55080302,
          44.562263071,
          44.526989523,
          44.534683249,
          44.545891875,
          44.533276145,
          44.534063346,
          44.534193212,
          44.53410914,
          44.534133674,
          44.579350916,
          44.562251187,
          44.579846718,
          44.552435907,
          44.552433062,
          44.552371623,
          44.550848983,
          44.553218208,
          44.526960463,
          44.552410896
         ],
         "legendgroup": "4",
         "lon": [
          -69.633445106,
          -69.629734075,
          -69.627130501,
          -69.629360613,
          -69.662300718,
          -69.659009354,
          -69.661506932,
          -69.627170641,
          -69.630103804,
          -69.627096196,
          -69.661540577,
          -69.627276043,
          -69.652626982,
          -69.627339754,
          -69.62782513,
          -69.627482167,
          -69.627441574,
          -69.652709761,
          -69.652367482,
          -69.661991992,
          -69.660249397,
          -69.643120213,
          -69.627292801,
          -69.629823116,
          -69.627520494,
          -69.633161938,
          -69.628123712,
          -69.652188339,
          -69.66124895,
          -69.660609127,
          -69.643137725,
          -69.642382613,
          -69.627251596,
          -69.627295519,
          -69.65940466,
          -69.627561064,
          -69.627587861,
          -69.627235811,
          -69.627433234,
          -69.652065966,
          -69.652679381,
          -69.650807453,
          -69.652064231,
          -69.651104172,
          -69.653245237,
          -69.643134555,
          -69.643590051,
          -69.630623608,
          -69.630423726,
          -69.630521764,
          -69.629933097,
          -69.65216823,
          -69.651074616,
          -69.659877912,
          -69.654590877,
          -69.662159381,
          -69.62820905,
          -69.642772202,
          -69.627628591,
          -69.627530907,
          -69.652270541,
          -69.655004135,
          -69.654029137,
          -69.643770732,
          -69.651208826,
          -69.653621634,
          -69.65497412,
          -69.651122965,
          -69.654953897,
          -69.652007154,
          -69.652095135,
          -69.659816354,
          -69.643117271,
          -69.65951182,
          -69.659679363,
          -69.630236962,
          -69.653036823,
          -69.662730791,
          -69.662393433,
          -69.627586305,
          -69.642671031,
          -69.655936395,
          -69.652349943,
          -69.659379634,
          -69.642369785,
          -69.661276374,
          -69.660152068,
          -69.662369434,
          -69.66235045,
          -69.643105089,
          -69.627481594,
          -69.627746155,
          -69.662999703,
          -69.643196374,
          -69.655138926,
          -69.652068179,
          -69.652936893,
          -69.655165849,
          -69.652305115,
          -69.65495702,
          -69.659424262,
          -69.651331593,
          -69.65504533,
          -69.655206893,
          -69.642572271,
          -69.659002272,
          -69.659022498,
          -69.659083374,
          -69.627102918,
          -69.653361663,
          -69.652410953,
          -69.652365954,
          -69.654787765,
          -69.652682592,
          -69.659735434,
          -69.654278425,
          -69.653068348,
          -69.659840362,
          -69.662604021,
          -69.632952518,
          -69.65230187,
          -69.654393038,
          -69.652777909,
          -69.654338967,
          -69.651951748,
          -69.65199138,
          -69.627185864,
          -69.652267985,
          -69.652254537,
          -69.652298428,
          -69.654646604,
          -69.654399705,
          -69.660765979,
          -69.652066059,
          -69.642589696,
          -69.66122492,
          -69.661268433,
          -69.662314828,
          -69.659834538,
          -69.64232827,
          -69.628121475,
          -69.628138644,
          -69.660057978,
          -69.652657391,
          -69.652119254,
          -69.652056251,
          -69.655041939,
          -69.652298815,
          -69.652291113,
          -69.655061263,
          -69.627712055,
          -69.627188771,
          -69.627136031,
          -69.627161179,
          -69.662390349,
          -69.662876484,
          -69.663110979,
          -69.633496756,
          -69.627911422,
          -69.627705984,
          -69.627832251,
          -69.65453839,
          -69.655177022,
          -69.631143566,
          -69.65520196,
          -69.655255377,
          -69.651463194,
          -69.631031761,
          -69.661080904,
          -69.662852182,
          -69.627535547,
          -69.662996024,
          -69.655232157,
          -69.631097597,
          -69.652270663,
          -69.652146604,
          -69.627548722,
          -69.662652941,
          -69.662271575,
          -69.661195772,
          -69.662260276,
          -69.660540242,
          -69.627462484,
          -69.633630843,
          -69.633751475,
          -69.642755904,
          -69.627198538,
          -69.655900935,
          -69.660531149,
          -69.655889006,
          -69.655182389,
          -69.660187352,
          -69.655277268,
          -69.655200427,
          -69.6543411,
          -69.654514811,
          -69.631011941,
          -69.654581214,
          -69.627784007,
          -69.627433923,
          -69.662570964,
          -69.661258465,
          -69.66113757,
          -69.632901785,
          -69.633366718,
          -69.645798294,
          -69.65986478,
          -69.643024777,
          -69.632821154,
          -69.660231316,
          -69.660764034,
          -69.660083326,
          -69.659665291,
          -69.659557883,
          -69.654668513,
          -69.645380863,
          -69.654832198,
          -69.645315615,
          -69.645275659,
          -69.64519408,
          -69.627853186,
          -69.627702202,
          -69.659844495,
          -69.645241598
         ],
         "marker": {
          "color": "#636efa"
         },
         "mode": "markers",
         "name": "4",
         "showlegend": true,
         "subplot": "mapbox",
         "type": "scattermapbox"
        },
        {
         "hovertemplate": "color=0<br>Latitude=%{lat}<br>Longitude=%{lon}<extra></extra>",
         "lat": [
          44.58058279,
          44.534165521,
          44.534474968,
          44.538109946,
          44.551675879,
          44.527009341,
          44.527036052,
          44.534215574,
          44.535194947,
          44.56156175,
          44.553042259,
          44.580048357,
          44.580055708,
          44.527014621,
          44.534174595,
          44.580609576,
          44.561905663,
          44.579035123,
          44.551287306,
          44.552212285,
          44.55240169,
          44.552465323,
          44.552490042,
          44.551626848,
          44.551707406,
          44.55115757,
          44.551231274,
          44.549536456,
          44.55019436,
          44.534470744,
          44.567158679,
          44.567114008,
          44.534090768,
          44.533698622,
          44.552318775,
          44.552673129,
          44.552324151,
          44.552134622,
          44.551966246,
          44.551531317,
          44.533602268,
          44.552128284,
          44.563222079,
          44.552741134,
          44.563353655,
          44.534605322,
          44.534753594,
          44.534537108,
          44.529681703,
          44.580261689,
          44.534173851,
          44.54761293,
          44.561758927,
          44.561671857,
          44.567252793,
          44.552831406,
          44.552948094,
          44.552961345,
          44.553095521,
          44.534032008,
          44.527209811,
          44.527063873,
          44.534181935,
          44.527032253,
          44.562438054,
          44.562390027,
          44.562483599,
          44.553121331,
          44.528641729,
          44.528713133,
          44.527566406,
          44.528620352,
          44.527650661,
          44.52751999,
          44.533572303,
          44.527557421,
          44.527559112,
          44.527305614,
          44.546015611,
          44.528693934,
          44.562370733,
          44.527730767,
          44.546073628,
          44.528681952,
          44.562367886,
          44.562499705,
          44.579851724,
          44.528684008,
          44.562149318,
          44.533456978,
          44.564685154,
          44.562023717,
          44.561967834,
          44.56212773,
          44.564859168,
          44.562202751,
          44.562086883,
          44.561852914,
          44.550774798,
          44.527558627,
          44.533734044,
          44.533796584,
          44.527610528,
          44.534101685,
          44.534053628,
          44.581199002,
          44.579126864,
          44.580071095,
          44.550613414,
          44.533889385,
          44.527458209,
          44.534185807,
          44.534126253,
          44.579071468,
          44.533811941,
          44.5273026,
          44.534066093,
          44.57998129,
          44.545967712,
          44.534029758,
          44.534090261,
          44.579156739,
          44.534031087,
          44.58031352,
          44.579717809,
          44.545778178,
          44.533799626,
          44.533815055,
          44.533993659,
          44.534026743,
          44.57900704,
          44.527446348,
          44.534356016,
          44.534027179,
          44.579629496,
          44.533920253,
          44.580250606,
          44.55078428,
          44.550703573,
          44.526941668,
          44.550843438,
          44.533717685,
          44.579225666,
          44.580622806,
          44.579297057,
          44.533479525,
          44.579412789,
          44.546419604,
          44.526938283,
          44.552631408,
          44.552519284,
          44.552576085,
          44.551511699,
          44.551667433,
          44.552286369,
          44.552357526,
          44.5524321,
          44.552316625,
          44.552688893,
          44.552887499,
          44.551275308,
          44.552660195,
          44.55291072,
          44.552914679,
          44.551005371,
          44.551351791,
          44.551464784,
          44.55159065,
          44.564127793,
          44.546161327,
          44.564220831,
          44.55124643,
          44.552639399,
          44.552563987,
          44.552472965,
          44.55239309,
          44.552341701,
          44.552308109,
          44.549586746,
          44.565019435,
          44.551122728,
          44.551323668,
          44.533279676,
          44.549521021,
          44.549597688,
          44.56404483,
          44.549465694,
          44.545802366,
          44.545613831,
          44.564774399,
          44.546218439,
          44.546383515,
          44.546473862,
          44.546468351,
          44.546276049,
          44.546447495,
          44.546460659,
          44.546279628,
          44.546382775,
          44.54643262,
          44.527876985,
          44.534598787,
          44.535016747,
          44.53455206,
          44.527037128,
          44.534548867,
          44.534714994,
          44.53472552,
          44.567188591,
          44.537932618,
          44.567162563,
          44.567107155,
          44.567151357,
          44.538004543,
          44.567100575,
          44.537815381,
          44.537860539,
          44.538057099,
          44.567112405,
          44.567058263,
          44.550858947,
          44.547620607,
          44.528547292,
          44.551385886,
          44.545354855,
          44.54628923,
          44.546477882,
          44.552466904,
          44.552413906,
          44.534139682,
          44.54647356,
          44.552326657,
          44.552134336,
          44.533642271,
          44.534102316,
          44.534101014,
          44.534176818,
          44.579430855,
          44.546319527,
          44.54619594,
          44.545940942,
          44.552153078,
          44.534187631,
          44.579227919,
          44.546313347,
          44.545961563,
          44.563674084,
          44.551648445,
          44.552156845,
          44.53418113,
          44.546169624,
          44.552181484,
          44.534094573,
          44.546191889,
          44.551539285,
          44.526986457,
          44.56347963,
          44.563614554,
          44.563552621,
          44.552042873,
          44.545694507,
          44.546230371,
          44.5506272,
          44.545531128,
          44.545477291,
          44.550693479,
          44.551049098,
          44.549603035,
          44.545337844,
          44.551023908,
          44.550957838,
          44.545257931,
          44.551011453,
          44.534542458,
          44.534551491,
          44.534564754,
          44.534572376,
          44.534607695,
          44.534581535,
          44.53454964,
          44.534576979,
          44.534594799,
          44.53462185,
          44.535315658,
          44.535010756,
          44.534805868,
          44.534724525,
          44.534504182,
          44.534680014,
          44.534547605,
          44.534624831,
          44.53529669,
          44.534753703,
          44.53464393,
          44.534834385,
          44.535379528,
          44.534906034,
          44.535238681,
          44.534582637,
          44.535250816,
          44.5352082,
          44.526937405,
          44.549419214,
          44.549493739,
          44.545431359,
          44.550259915,
          44.550141177,
          44.53803848,
          44.538223845,
          44.551077226,
          44.551011448,
          44.550982039,
          44.579738043,
          44.561219918,
          44.561308101,
          44.561126259,
          44.580012486,
          44.57982492,
          44.579799961,
          44.579760694,
          44.551282512,
          44.561331507,
          44.561779617,
          44.562857466,
          44.56222013,
          44.562780732,
          44.561940497,
          44.561414611,
          44.579805629,
          44.545525932,
          44.56160908,
          44.561708809,
          44.537828514,
          44.561849207,
          44.567045199,
          44.537844455,
          44.562548394,
          44.5287757,
          44.562654881,
          44.561507879,
          44.551002551,
          44.553143571,
          44.537942418,
          44.538134774,
          44.539041509,
          44.5340518,
          44.550739329,
          44.552737713,
          44.561680978,
          44.561654695,
          44.561829277,
          44.561770745,
          44.561707396,
          44.561838944,
          44.551318175,
          44.527132888,
          44.527144668,
          44.527199677,
          44.527193381,
          44.528641084,
          44.527189742,
          44.528643518,
          44.526983491,
          44.527147578,
          44.528533379,
          44.526993635,
          44.526950534,
          44.579461941,
          44.580553146,
          44.579446508,
          44.579334042,
          44.580591848,
          44.579522703,
          44.579607514,
          44.562156828,
          44.562263064,
          44.535341066
         ],
         "legendgroup": "0",
         "lon": [
          -69.656218736,
          -69.658934085,
          -69.643681873,
          -69.638579768,
          -69.62822185,
          -69.660258939,
          -69.660130139,
          -69.660742049,
          -69.64236807,
          -69.64630032,
          -69.627503344,
          -69.655138318,
          -69.655171658,
          -69.66027415799999,
          -69.66069974,
          -69.656248935,
          -69.646326048,
          -69.654663634,
          -69.627184597,
          -69.627084652,
          -69.627203952,
          -69.627205471,
          -69.627243396,
          -69.627155242,
          -69.627146612,
          -69.627188632,
          -69.627224027,
          -69.629180762,
          -69.628330238,
          -69.64368957,
          -69.630549835,
          -69.630260177,
          -69.658869082,
          -69.660469546,
          -69.628191219,
          -69.628173551,
          -69.628203633,
          -69.628181923,
          -69.628225731,
          -69.628221847,
          -69.660433636,
          -69.628197902,
          -69.646170427,
          -69.628173615,
          -69.646332353,
          -69.643200389,
          -69.642705376,
          -69.643560654,
          -69.661456284,
          -69.655100595,
          -69.659194841,
          -69.635817125,
          -69.645284968,
          -69.645394575,
          -69.630864463,
          -69.627443773,
          -69.627390599,
          -69.627462326,
          -69.627437269,
          -69.659008709,
          -69.660747163,
          -69.660463431,
          -69.66071334,
          -69.66031406,
          -69.64589251,
          -69.646085003,
          -69.645948834,
          -69.628095893,
          -69.66212271,
          -69.662281421,
          -69.661279845,
          -69.662122754,
          -69.661257411,
          -69.66127555,
          -69.660364382,
          -69.661318763,
          -69.661319502,
          -69.660916033,
          -69.632787613,
          -69.662240958,
          -69.646017612,
          -69.6613353,
          -69.632878265,
          -69.662144845,
          -69.630572671,
          -69.630492737,
          -69.655008274,
          -69.662130981,
          -69.644996149,
          -69.660230611,
          -69.647938414,
          -69.646487087,
          -69.646411767,
          -69.646671514,
          -69.648137734,
          -69.646702032,
          -69.646594589,
          -69.646250489,
          -69.628178962,
          -69.659243802,
          -69.660490021,
          -69.660521494,
          -69.65919482,
          -69.659080366,
          -69.659032008,
          -69.656578388,
          -69.65470291,
          -69.654961952,
          -69.62814937,
          -69.660663998,
          -69.659243151,
          -69.659623593,
          -69.658967635,
          -69.654551728,
          -69.660536747,
          -69.659303332,
          -69.658823963,
          -69.654872067,
          -69.634583091,
          -69.660768525,
          -69.658914936,
          -69.654712859,
          -69.660716712,
          -69.655363069,
          -69.654971911,
          -69.63481117,
          -69.660564514,
          -69.660564364,
          -69.660712545,
          -69.660774381,
          -69.654649511,
          -69.661259036,
          -69.660263354,
          -69.660722068,
          -69.654960134,
          -69.660664476,
          -69.655264818,
          -69.627739925,
          -69.627674588,
          -69.65954621,
          -69.627685549,
          -69.66049525,
          -69.654596416,
          -69.656005297,
          -69.654639015,
          -69.660291057,
          -69.654681044,
          -69.633557488,
          -69.659752246,
          -69.627266982,
          -69.627223746,
          -69.627167156,
          -69.627043157,
          -69.627195413,
          -69.627124771,
          -69.627223061,
          -69.627154943,
          -69.627196143,
          -69.627192099,
          -69.62741295,
          -69.627235139,
          -69.627381076,
          -69.627345463,
          -69.627397874,
          -69.633531438,
          -69.627177903,
          -69.627134979,
          -69.627172932,
          -69.647300432,
          -69.633022034,
          -69.647396068,
          -69.633159784,
          -69.627498037,
          -69.627505921,
          -69.627522603,
          -69.627465609,
          -69.627386932,
          -69.627307704,
          -69.629622923,
          -69.648363313,
          -69.633150233,
          -69.633712657,
          -69.660292756,
          -69.629027532,
          -69.62902942,
          -69.647179811,
          -69.629058288,
          -69.63463146,
          -69.634610649,
          -69.648042145,
          -69.632855203,
          -69.633379395,
          -69.633685339,
          -69.633724591,
          -69.633262204,
          -69.633619435,
          -69.633740748,
          -69.633296408,
          -69.633342166,
          -69.633565447,
          -69.661230374,
          -69.643260114,
          -69.642562494,
          -69.643422274,
          -69.65999375,
          -69.643347235,
          -69.64272214,
          -69.642663305,
          -69.630710418,
          -69.63861643,
          -69.630632438,
          -69.630346499,
          -69.630457709,
          -69.638626601,
          -69.630063942,
          -69.638895205,
          -69.638672801,
          -69.638580192,
          -69.630201576,
          -69.630019996,
          -69.633316819,
          -69.63589461,
          -69.661752566,
          -69.633902839,
          -69.633727642,
          -69.633298278,
          -69.63365708,
          -69.6281684,
          -69.628190483,
          -69.659370746,
          -69.633711421,
          -69.628205388,
          -69.628208066,
          -69.660381219,
          -69.659057314,
          -69.659394879,
          -69.65969233,
          -69.654700619,
          -69.633322704,
          -69.634225117,
          -69.634603116,
          -69.628212251,
          -69.658962323,
          -69.654740511,
          -69.634013906,
          -69.634613214,
          -69.646712077,
          -69.643090637,
          -69.628178262,
          -69.659530309,
          -69.634297803,
          -69.628190198,
          -69.659112917,
          -69.634250376,
          -69.628208014,
          -69.659491033,
          -69.64648815,
          -69.646647965,
          -69.646579697,
          -69.62819165,
          -69.634704393,
          -69.634179413,
          -69.627929489,
          -69.634538219,
          -69.634458185,
          -69.633036709,
          -69.633901181,
          -69.62975644,
          -69.634298901,
          -69.633738017,
          -69.633286615,
          -69.633323804,
          -69.632767725,
          -69.643533359,
          -69.643497055,
          -69.643445977,
          -69.643381889,
          -69.643206817,
          -69.643181137,
          -69.643529126,
          -69.643348454,
          -69.64328551,
          -69.643131652,
          -69.642308871,
          -69.642572993,
          -69.642624051,
          -69.642723619,
          -69.643613383,
          -69.642741838,
          -69.643593784,
          -69.643179757,
          -69.642355591,
          -69.642699168,
          -69.643175024,
          -69.642647958,
          -69.642302047,
          -69.642636455,
          -69.642388492,
          -69.643427378,
          -69.642398572,
          -69.642391963,
          -69.659694425,
          -69.628761783,
          -69.628765302,
          -69.633104364,
          -69.628102697,
          -69.62808311,
          -69.639073484,
          -69.639170577,
          -69.642756055,
          -69.643351512,
          -69.643113738,
          -69.654831603,
          -69.644398958,
          -69.644259668,
          -69.644541863,
          -69.654905242,
          -69.654871756,
          -69.654818667,
          -69.654839456,
          -69.642763542,
          -69.644008632,
          -69.644443651,
          -69.645736972,
          -69.645732416,
          -69.645656695,
          -69.644618628,
          -69.644183643,
          -69.654847879,
          -69.633045681,
          -69.644236333,
          -69.644362374,
          -69.638798013,
          -69.644539664,
          -69.629831769,
          -69.638994342,
          -69.6302281,
          -69.662518985,
          -69.630165457,
          -69.644510857,
          -69.627338373,
          -69.627235908,
          -69.639110165,
          -69.639041524,
          -69.637515719,
          -69.659059904,
          -69.633193524,
          -69.627494107,
          -69.64608247,
          -69.646146886,
          -69.645756261,
          -69.645857525,
          -69.645961331,
          -69.645681973,
          -69.633543041,
          -69.660599277,
          -69.660510771,
          -69.660746353,
          -69.660724878,
          -69.66198926,
          -69.660853456,
          -69.662000013,
          -69.660424504,
          -69.660719057,
          -69.661986796,
          -69.660165992,
          -69.66034805,
          -69.654667413,
          -69.655923815,
          -69.654651434,
          -69.654659334,
          -69.655980383,
          -69.654729221,
          -69.654764614,
          -69.630520188,
          -69.630518182,
          -69.642330379
         ],
         "marker": {
          "color": "#EF553B"
         },
         "mode": "markers",
         "name": "0",
         "showlegend": true,
         "subplot": "mapbox",
         "type": "scattermapbox"
        },
        {
         "hovertemplate": "color=2<br>Latitude=%{lat}<br>Longitude=%{lon}<extra></extra>",
         "lat": [
          44.545291396,
          44.556389,
          44.546047,
          44.536218,
          44.581713,
          44.557256,
          44.54486,
          44.549777,
          44.538465,
          44.537522,
          44.545065,
          44.550227,
          44.554321,
          44.558175,
          44.547426,
          44.545593,
          44.546348,
          44.554616,
          44.564612,
          44.514712,
          44.540483,
          44.546195,
          44.549692,
          44.549005,
          44.540192,
          44.547598,
          44.546274,
          44.551369,
          44.542394,
          44.549533,
          44.555094,
          44.554187,
          44.537833,
          44.553242,
          44.546088,
          44.543793,
          44.535227,
          44.532596,
          44.548681,
          44.544544,
          44.550765,
          44.556073,
          44.543976,
          44.547812,
          44.57294,
          44.545358,
          44.54054,
          44.556049,
          44.549738,
          44.552399,
          44.549833,
          44.543193,
          44.576293,
          44.563043,
          44.550849,
          44.544561,
          44.540383,
          44.554778,
          44.510936,
          44.52294,
          44.548741,
          44.545823,
          44.549403,
          44.553299,
          44.541883,
          44.555869,
          44.534766,
          44.552747,
          44.555451,
          44.537501,
          44.537524,
          44.538296,
          44.543767,
          44.558161,
          44.543418,
          44.550817,
          44.543642,
          44.55124,
          44.547838,
          44.549571,
          44.546789,
          44.549335,
          44.547128,
          44.537685,
          44.549882,
          44.576402,
          44.554123,
          44.550975,
          44.537922,
          44.546286,
          44.540163,
          44.548684,
          44.548684,
          44.548789,
          44.545311,
          44.537256,
          44.521261,
          44.549161,
          44.535126,
          44.540127,
          44.538664,
          44.566399,
          44.56697,
          44.539655,
          44.555051,
          44.57535,
          44.552834,
          44.549187,
          44.540947,
          44.554747,
          44.554906,
          44.557979,
          44.560578,
          44.538807,
          44.513763,
          44.564896,
          44.55929,
          44.552133,
          44.547877,
          44.551145,
          44.532841,
          44.552562,
          44.5707,
          44.554601,
          44.538431,
          44.557187,
          44.557887,
          44.561562,
          44.5358,
          44.544349,
          44.547115,
          44.5803,
          44.529517,
          44.562643,
          44.540011,
          44.54687,
          44.559779,
          44.553565,
          44.549743,
          44.546692,
          44.556896,
          44.550248,
          44.542774,
          44.550486,
          44.550958,
          44.540578,
          44.552524,
          44.557638,
          44.550798,
          44.540885,
          44.539029,
          44.575544,
          44.547943,
          44.557555,
          44.542984,
          44.559506,
          44.516855,
          44.558736,
          44.559679,
          44.550955,
          44.562249,
          44.549687,
          44.560075,
          44.540622,
          44.555104,
          44.547027,
          44.549539,
          44.546493,
          44.563184,
          44.544493,
          44.561941,
          44.561611,
          44.562549,
          44.552364,
          44.556441,
          44.55477,
          44.543475,
          44.561413,
          44.556499,
          44.56569,
          44.57294,
          44.554747,
          44.551369,
          44.555139,
          44.552497,
          44.551154,
          44.57294,
          44.550233,
          44.568972,
          44.550195,
          44.556081,
          44.5499,
          44.54855,
          44.509692,
          44.529162,
          44.534331,
          44.556211,
          44.552073,
          44.562742,
          44.548565,
          44.550539,
          44.56439,
          44.567792,
          44.566065,
          44.568677,
          44.568677,
          44.581446,
          44.576472,
          44.542792,
          44.57088,
          44.566048,
          44.555783,
          44.551624,
          44.5465,
          44.543434,
          44.540224,
          44.542792,
          44.544284
         ],
         "legendgroup": "2",
         "lon": [
          -69.633290805,
          -69.642501,
          -69.63492,
          -69.659131,
          -69.650531,
          -69.640406,
          -69.660802,
          -69.674505,
          -69.661322,
          -69.661214,
          -69.660484,
          -69.656639,
          -69.617809,
          -69.642683,
          -69.660032,
          -69.657846,
          -69.659686,
          -69.655127,
          -69.628121,
          -69.714351,
          -69.645345,
          -69.658142,
          -69.654996,
          -69.646082,
          -69.657779,
          -69.657623,
          -69.656928,
          -69.656161,
          -69.647368,
          -69.669347,
          -69.644682,
          -69.652271,
          -69.660137,
          -69.630605,
          -69.66183,
          -69.642801,
          -69.658623,
          -69.656636,
          -69.654746,
          -69.660988,
          -69.656337,
          -69.641892,
          -69.643043,
          -69.658765,
          -69.647373,
          -69.661916,
          -69.659029,
          -69.645423,
          -69.656476,
          -69.652439,
          -69.657145,
          -69.636633,
          -69.63307,
          -69.639072,
          -69.639883,
          -69.67041,
          -69.658989,
          -69.653753,
          -69.67736,
          -69.66986,
          -69.669199,
          -69.658566,
          -69.668398,
          -69.653161,
          -69.65095,
          -69.654103,
          -69.693755,
          -69.651354,
          -69.639593,
          -69.663935,
          -69.661223,
          -69.664114,
          -69.657586,
          -69.641127,
          -69.661101,
          -69.655078,
          -69.659813,
          -69.655159,
          -69.660389,
          -69.657362,
          -69.647864,
          -69.6482,
          -69.660287,
          -69.661564,
          -69.655729,
          -69.636044,
          -69.650029,
          -69.644782,
          -69.689079,
          -69.657098,
          -69.660478,
          -69.670521,
          -69.670521,
          -69.638878,
          -69.656036,
          -69.661799,
          -69.671433,
          -69.647034,
          -69.658118,
          -69.639117,
          -69.647874,
          -69.627258,
          -69.648421,
          -69.642145,
          -69.639582,
          -69.634238,
          -69.674377,
          -69.647286,
          -69.655654,
          -69.637476,
          -69.653292,
          -69.645482,
          -69.638006,
          -69.637661,
          -69.713565,
          -69.628029,
          -69.638212,
          -69.637366,
          -69.654447,
          -69.65439,
          -69.655512,
          -69.637837,
          -69.626889,
          -69.651375,
          -69.661126,
          -69.63015,
          -69.646765,
          -69.635133,
          -69.654463,
          -69.635022,
          -69.657731,
          -69.638543,
          -69.628631,
          -69.64134,
          -69.658721,
          -69.65652,
          -69.641362,
          -69.643683,
          -69.638146,
          -69.649959,
          -69.628226,
          -69.645876,
          -69.635747,
          -69.63794,
          -69.650101,
          -69.641394,
          -69.650917,
          -69.635651,
          -69.637729,
          -69.637193,
          -69.636663,
          -69.634901,
          -69.637144,
          -69.645603,
          -69.655198,
          -69.636521,
          -69.676661,
          -69.633289,
          -69.633816,
          -69.640287,
          -69.638723,
          -69.646404,
          -69.639209,
          -69.638273,
          -69.639772,
          -69.65187,
          -69.646415,
          -69.637223,
          -69.642826,
          -69.647114,
          -69.641345,
          -69.641568,
          -69.63323,
          -69.637834,
          -69.647618,
          -69.635739,
          -69.64969,
          -69.635969,
          -69.644547,
          -69.627805,
          -69.647373,
          -69.637476,
          -69.656161,
          -69.637468,
          -69.639806,
          -69.640182,
          -69.647373,
          -69.655619,
          -69.625076,
          -69.674516,
          -69.641268,
          -69.65633,
          -69.67416,
          -69.679596,
          -69.663829,
          -69.654267,
          -69.658993,
          -69.655218,
          -69.661264,
          -69.673118,
          -69.676892,
          -69.666891,
          -69.660862,
          -69.649482,
          -69.653691,
          -69.653691,
          -69.648023,
          -69.644022,
          -69.661636,
          -69.640377,
          -69.637458,
          -69.63196,
          -69.632225,
          -69.635816,
          -69.641063,
          -69.648855,
          -69.661636,
          -69.670174
         ],
         "marker": {
          "color": "#00cc96"
         },
         "mode": "markers",
         "name": "2",
         "showlegend": true,
         "subplot": "mapbox",
         "type": "scattermapbox"
        },
        {
         "hovertemplate": "color=1<br>Latitude=%{lat}<br>Longitude=%{lon}<extra></extra>",
         "lat": [
          44.548491,
          44.539342,
          44.54734,
          44.545128,
          44.543581,
          44.54925,
          44.545136,
          44.536094,
          44.546169,
          44.539751,
          44.536972,
          44.545474,
          44.552913,
          44.576297,
          44.555124,
          44.570596,
          44.549321,
          44.555626,
          44.578402,
          44.548351,
          44.583999,
          44.574319,
          44.549821,
          44.552132,
          44.577558,
          44.554095,
          44.53925,
          44.548844,
          44.547992,
          44.544553,
          44.555266,
          44.555338,
          44.538287,
          44.548163,
          44.549337,
          44.543793,
          44.551078,
          44.546679,
          44.556081,
          44.543651,
          44.545853,
          44.551787,
          44.558138,
          44.57528,
          44.551676,
          44.542145,
          44.574578,
          44.543569,
          44.555881,
          44.511651,
          44.561528,
          44.55899
         ],
         "legendgroup": "1",
         "lon": [
          -69.675013,
          -69.659267,
          -69.659389,
          -69.655002,
          -69.645203,
          -69.668401,
          -69.662876,
          -69.641433,
          -69.658715,
          -69.65705,
          -69.663514,
          -69.659022,
          -69.641926,
          -69.638682,
          -69.6402,
          -69.640848,
          -69.668583,
          -69.640596,
          -69.638232,
          -69.648662,
          -69.651458,
          -69.637432,
          -69.65535,
          -69.672021,
          -69.636208,
          -69.672799,
          -69.642965,
          -69.655365,
          -69.673414,
          -69.661749,
          -69.650073,
          -69.641329,
          -69.661074,
          -69.670326,
          -69.668389,
          -69.664057,
          -69.64557,
          -69.658456,
          -69.641268,
          -69.663665,
          -69.66126,
          -69.630627,
          -69.647681,
          -69.635415,
          -69.656045,
          -69.652325,
          -69.637756,
          -69.662991,
          -69.641631,
          -69.674461,
          -69.638816,
          -69.63965
         ],
         "marker": {
          "color": "#ab63fa"
         },
         "mode": "markers",
         "name": "1",
         "showlegend": true,
         "subplot": "mapbox",
         "type": "scattermapbox"
        },
        {
         "hovertemplate": "color=3<br>Latitude=%{lat}<br>Longitude=%{lon}<extra></extra>",
         "lat": [
          44.573693,
          44.547733,
          44.57523,
          44.562835,
          44.555693,
          44.575248,
          44.548437,
          44.545136,
          44.551506,
          44.550646,
          44.544097,
          44.554893,
          44.547235,
          44.550195,
          44.548877,
          44.553404,
          44.543233,
          44.576554,
          44.545744,
          44.553737,
          44.542723,
          44.560474,
          44.554438,
          44.544391,
          44.544976,
          44.575513,
          44.557585,
          44.553764,
          44.556239,
          44.548824,
          44.506117,
          44.553423,
          44.548256,
          44.551276,
          44.561829,
          44.543841,
          44.56281,
          44.547677,
          44.555001,
          44.549889,
          44.560474,
          44.549954,
          44.559991,
          44.550847,
          44.561895,
          44.52102,
          44.550267,
          44.555909,
          44.555269,
          44.555066,
          44.560921,
          44.581206,
          44.541066,
          44.572983,
          44.552938,
          44.562042,
          44.551256,
          44.548888,
          44.56253,
          44.545123,
          44.554226
         ],
         "legendgroup": "3",
         "lon": [
          -69.641519,
          -69.658342,
          -69.641126,
          -69.644969,
          -69.655624,
          -69.642751,
          -69.631768,
          -69.661397,
          -69.652681,
          -69.639981,
          -69.644794,
          -69.63632,
          -69.658909,
          -69.674516,
          -69.669037,
          -69.645117,
          -69.654962,
          -69.637085,
          -69.65589,
          -69.645013,
          -69.640901,
          -69.637363,
          -69.654741,
          -69.649965,
          -69.656372,
          -69.636513,
          -69.642028,
          -69.652952,
          -69.644374,
          -69.651814,
          -69.680826,
          -69.651192,
          -69.645608,
          -69.635279,
          -69.640557,
          -69.661131,
          -69.64218,
          -69.657976,
          -69.647596,
          -69.644153,
          -69.640555,
          -69.646256,
          -69.631943,
          -69.655425,
          -69.639236,
          -69.673268,
          -69.64021,
          -69.647021,
          -69.638445,
          -69.654421,
          -69.634679,
          -69.650274,
          -69.637755,
          -69.641385,
          -69.639093,
          -69.632085,
          -69.639648,
          -69.649152,
          -69.643165,
          -69.649545,
          -69.650842
         ],
         "marker": {
          "color": "#FFA15A"
         },
         "mode": "markers",
         "name": "3",
         "showlegend": true,
         "subplot": "mapbox",
         "type": "scattermapbox"
        }
       ],
       "layout": {
        "geo": {
         "fitbounds": "locations"
        },
        "legend": {
         "title": {
          "text": "color"
         },
         "tracegroupgap": 0
        },
        "mapbox": {
         "center": {
          "lat": 44.55096067158476,
          "lon": -69.64684510259549
         },
         "domain": {
          "x": [
           0,
           1
          ],
          "y": [
           0,
           1
          ]
         },
         "style": "open-street-map",
         "zoom": 8
        },
        "margin": {
         "t": 60
        },
        "template": {
         "data": {
          "bar": [
           {
            "error_x": {
             "color": "#2a3f5f"
            },
            "error_y": {
             "color": "#2a3f5f"
            },
            "marker": {
             "line": {
              "color": "#E5ECF6",
              "width": 0.5
             },
             "pattern": {
              "fillmode": "overlay",
              "size": 10,
              "solidity": 0.2
             }
            },
            "type": "bar"
           }
          ],
          "barpolar": [
           {
            "marker": {
             "line": {
              "color": "#E5ECF6",
              "width": 0.5
             },
             "pattern": {
              "fillmode": "overlay",
              "size": 10,
              "solidity": 0.2
             }
            },
            "type": "barpolar"
           }
          ],
          "carpet": [
           {
            "aaxis": {
             "endlinecolor": "#2a3f5f",
             "gridcolor": "white",
             "linecolor": "white",
             "minorgridcolor": "white",
             "startlinecolor": "#2a3f5f"
            },
            "baxis": {
             "endlinecolor": "#2a3f5f",
             "gridcolor": "white",
             "linecolor": "white",
             "minorgridcolor": "white",
             "startlinecolor": "#2a3f5f"
            },
            "type": "carpet"
           }
          ],
          "choropleth": [
           {
            "colorbar": {
             "outlinewidth": 0,
             "ticks": ""
            },
            "type": "choropleth"
           }
          ],
          "contour": [
           {
            "colorbar": {
             "outlinewidth": 0,
             "ticks": ""
            },
            "colorscale": [
             [
              0,
              "#0d0887"
             ],
             [
              0.1111111111111111,
              "#46039f"
             ],
             [
              0.2222222222222222,
              "#7201a8"
             ],
             [
              0.3333333333333333,
              "#9c179e"
             ],
             [
              0.4444444444444444,
              "#bd3786"
             ],
             [
              0.5555555555555556,
              "#d8576b"
             ],
             [
              0.6666666666666666,
              "#ed7953"
             ],
             [
              0.7777777777777778,
              "#fb9f3a"
             ],
             [
              0.8888888888888888,
              "#fdca26"
             ],
             [
              1,
              "#f0f921"
             ]
            ],
            "type": "contour"
           }
          ],
          "contourcarpet": [
           {
            "colorbar": {
             "outlinewidth": 0,
             "ticks": ""
            },
            "type": "contourcarpet"
           }
          ],
          "heatmap": [
           {
            "colorbar": {
             "outlinewidth": 0,
             "ticks": ""
            },
            "colorscale": [
             [
              0,
              "#0d0887"
             ],
             [
              0.1111111111111111,
              "#46039f"
             ],
             [
              0.2222222222222222,
              "#7201a8"
             ],
             [
              0.3333333333333333,
              "#9c179e"
             ],
             [
              0.4444444444444444,
              "#bd3786"
             ],
             [
              0.5555555555555556,
              "#d8576b"
             ],
             [
              0.6666666666666666,
              "#ed7953"
             ],
             [
              0.7777777777777778,
              "#fb9f3a"
             ],
             [
              0.8888888888888888,
              "#fdca26"
             ],
             [
              1,
              "#f0f921"
             ]
            ],
            "type": "heatmap"
           }
          ],
          "heatmapgl": [
           {
            "colorbar": {
             "outlinewidth": 0,
             "ticks": ""
            },
            "colorscale": [
             [
              0,
              "#0d0887"
             ],
             [
              0.1111111111111111,
              "#46039f"
             ],
             [
              0.2222222222222222,
              "#7201a8"
             ],
             [
              0.3333333333333333,
              "#9c179e"
             ],
             [
              0.4444444444444444,
              "#bd3786"
             ],
             [
              0.5555555555555556,
              "#d8576b"
             ],
             [
              0.6666666666666666,
              "#ed7953"
             ],
             [
              0.7777777777777778,
              "#fb9f3a"
             ],
             [
              0.8888888888888888,
              "#fdca26"
             ],
             [
              1,
              "#f0f921"
             ]
            ],
            "type": "heatmapgl"
           }
          ],
          "histogram": [
           {
            "marker": {
             "pattern": {
              "fillmode": "overlay",
              "size": 10,
              "solidity": 0.2
             }
            },
            "type": "histogram"
           }
          ],
          "histogram2d": [
           {
            "colorbar": {
             "outlinewidth": 0,
             "ticks": ""
            },
            "colorscale": [
             [
              0,
              "#0d0887"
             ],
             [
              0.1111111111111111,
              "#46039f"
             ],
             [
              0.2222222222222222,
              "#7201a8"
             ],
             [
              0.3333333333333333,
              "#9c179e"
             ],
             [
              0.4444444444444444,
              "#bd3786"
             ],
             [
              0.5555555555555556,
              "#d8576b"
             ],
             [
              0.6666666666666666,
              "#ed7953"
             ],
             [
              0.7777777777777778,
              "#fb9f3a"
             ],
             [
              0.8888888888888888,
              "#fdca26"
             ],
             [
              1,
              "#f0f921"
             ]
            ],
            "type": "histogram2d"
           }
          ],
          "histogram2dcontour": [
           {
            "colorbar": {
             "outlinewidth": 0,
             "ticks": ""
            },
            "colorscale": [
             [
              0,
              "#0d0887"
             ],
             [
              0.1111111111111111,
              "#46039f"
             ],
             [
              0.2222222222222222,
              "#7201a8"
             ],
             [
              0.3333333333333333,
              "#9c179e"
             ],
             [
              0.4444444444444444,
              "#bd3786"
             ],
             [
              0.5555555555555556,
              "#d8576b"
             ],
             [
              0.6666666666666666,
              "#ed7953"
             ],
             [
              0.7777777777777778,
              "#fb9f3a"
             ],
             [
              0.8888888888888888,
              "#fdca26"
             ],
             [
              1,
              "#f0f921"
             ]
            ],
            "type": "histogram2dcontour"
           }
          ],
          "mesh3d": [
           {
            "colorbar": {
             "outlinewidth": 0,
             "ticks": ""
            },
            "type": "mesh3d"
           }
          ],
          "parcoords": [
           {
            "line": {
             "colorbar": {
              "outlinewidth": 0,
              "ticks": ""
             }
            },
            "type": "parcoords"
           }
          ],
          "pie": [
           {
            "automargin": true,
            "type": "pie"
           }
          ],
          "scatter": [
           {
            "fillpattern": {
             "fillmode": "overlay",
             "size": 10,
             "solidity": 0.2
            },
            "type": "scatter"
           }
          ],
          "scatter3d": [
           {
            "line": {
             "colorbar": {
              "outlinewidth": 0,
              "ticks": ""
             }
            },
            "marker": {
             "colorbar": {
              "outlinewidth": 0,
              "ticks": ""
             }
            },
            "type": "scatter3d"
           }
          ],
          "scattercarpet": [
           {
            "marker": {
             "colorbar": {
              "outlinewidth": 0,
              "ticks": ""
             }
            },
            "type": "scattercarpet"
           }
          ],
          "scattergeo": [
           {
            "marker": {
             "colorbar": {
              "outlinewidth": 0,
              "ticks": ""
             }
            },
            "type": "scattergeo"
           }
          ],
          "scattergl": [
           {
            "marker": {
             "colorbar": {
              "outlinewidth": 0,
              "ticks": ""
             }
            },
            "type": "scattergl"
           }
          ],
          "scattermapbox": [
           {
            "marker": {
             "colorbar": {
              "outlinewidth": 0,
              "ticks": ""
             }
            },
            "type": "scattermapbox"
           }
          ],
          "scatterpolar": [
           {
            "marker": {
             "colorbar": {
              "outlinewidth": 0,
              "ticks": ""
             }
            },
            "type": "scatterpolar"
           }
          ],
          "scatterpolargl": [
           {
            "marker": {
             "colorbar": {
              "outlinewidth": 0,
              "ticks": ""
             }
            },
            "type": "scatterpolargl"
           }
          ],
          "scatterternary": [
           {
            "marker": {
             "colorbar": {
              "outlinewidth": 0,
              "ticks": ""
             }
            },
            "type": "scatterternary"
           }
          ],
          "surface": [
           {
            "colorbar": {
             "outlinewidth": 0,
             "ticks": ""
            },
            "colorscale": [
             [
              0,
              "#0d0887"
             ],
             [
              0.1111111111111111,
              "#46039f"
             ],
             [
              0.2222222222222222,
              "#7201a8"
             ],
             [
              0.3333333333333333,
              "#9c179e"
             ],
             [
              0.4444444444444444,
              "#bd3786"
             ],
             [
              0.5555555555555556,
              "#d8576b"
             ],
             [
              0.6666666666666666,
              "#ed7953"
             ],
             [
              0.7777777777777778,
              "#fb9f3a"
             ],
             [
              0.8888888888888888,
              "#fdca26"
             ],
             [
              1,
              "#f0f921"
             ]
            ],
            "type": "surface"
           }
          ],
          "table": [
           {
            "cells": {
             "fill": {
              "color": "#EBF0F8"
             },
             "line": {
              "color": "white"
             }
            },
            "header": {
             "fill": {
              "color": "#C8D4E3"
             },
             "line": {
              "color": "white"
             }
            },
            "type": "table"
           }
          ]
         },
         "layout": {
          "annotationdefaults": {
           "arrowcolor": "#2a3f5f",
           "arrowhead": 0,
           "arrowwidth": 1
          },
          "autotypenumbers": "strict",
          "coloraxis": {
           "colorbar": {
            "outlinewidth": 0,
            "ticks": ""
           }
          },
          "colorscale": {
           "diverging": [
            [
             0,
             "#8e0152"
            ],
            [
             0.1,
             "#c51b7d"
            ],
            [
             0.2,
             "#de77ae"
            ],
            [
             0.3,
             "#f1b6da"
            ],
            [
             0.4,
             "#fde0ef"
            ],
            [
             0.5,
             "#f7f7f7"
            ],
            [
             0.6,
             "#e6f5d0"
            ],
            [
             0.7,
             "#b8e186"
            ],
            [
             0.8,
             "#7fbc41"
            ],
            [
             0.9,
             "#4d9221"
            ],
            [
             1,
             "#276419"
            ]
           ],
           "sequential": [
            [
             0,
             "#0d0887"
            ],
            [
             0.1111111111111111,
             "#46039f"
            ],
            [
             0.2222222222222222,
             "#7201a8"
            ],
            [
             0.3333333333333333,
             "#9c179e"
            ],
            [
             0.4444444444444444,
             "#bd3786"
            ],
            [
             0.5555555555555556,
             "#d8576b"
            ],
            [
             0.6666666666666666,
             "#ed7953"
            ],
            [
             0.7777777777777778,
             "#fb9f3a"
            ],
            [
             0.8888888888888888,
             "#fdca26"
            ],
            [
             1,
             "#f0f921"
            ]
           ],
           "sequentialminus": [
            [
             0,
             "#0d0887"
            ],
            [
             0.1111111111111111,
             "#46039f"
            ],
            [
             0.2222222222222222,
             "#7201a8"
            ],
            [
             0.3333333333333333,
             "#9c179e"
            ],
            [
             0.4444444444444444,
             "#bd3786"
            ],
            [
             0.5555555555555556,
             "#d8576b"
            ],
            [
             0.6666666666666666,
             "#ed7953"
            ],
            [
             0.7777777777777778,
             "#fb9f3a"
            ],
            [
             0.8888888888888888,
             "#fdca26"
            ],
            [
             1,
             "#f0f921"
            ]
           ]
          },
          "colorway": [
           "#636efa",
           "#EF553B",
           "#00cc96",
           "#ab63fa",
           "#FFA15A",
           "#19d3f3",
           "#FF6692",
           "#B6E880",
           "#FF97FF",
           "#FECB52"
          ],
          "font": {
           "color": "#2a3f5f"
          },
          "geo": {
           "bgcolor": "white",
           "lakecolor": "white",
           "landcolor": "#E5ECF6",
           "showlakes": true,
           "showland": true,
           "subunitcolor": "white"
          },
          "hoverlabel": {
           "align": "left"
          },
          "hovermode": "closest",
          "mapbox": {
           "style": "light"
          },
          "paper_bgcolor": "white",
          "plot_bgcolor": "#E5ECF6",
          "polar": {
           "angularaxis": {
            "gridcolor": "white",
            "linecolor": "white",
            "ticks": ""
           },
           "bgcolor": "#E5ECF6",
           "radialaxis": {
            "gridcolor": "white",
            "linecolor": "white",
            "ticks": ""
           }
          },
          "scene": {
           "xaxis": {
            "backgroundcolor": "#E5ECF6",
            "gridcolor": "white",
            "gridwidth": 2,
            "linecolor": "white",
            "showbackground": true,
            "ticks": "",
            "zerolinecolor": "white"
           },
           "yaxis": {
            "backgroundcolor": "#E5ECF6",
            "gridcolor": "white",
            "gridwidth": 2,
            "linecolor": "white",
            "showbackground": true,
            "ticks": "",
            "zerolinecolor": "white"
           },
           "zaxis": {
            "backgroundcolor": "#E5ECF6",
            "gridcolor": "white",
            "gridwidth": 2,
            "linecolor": "white",
            "showbackground": true,
            "ticks": "",
            "zerolinecolor": "white"
           }
          },
          "shapedefaults": {
           "line": {
            "color": "#2a3f5f"
           }
          },
          "ternary": {
           "aaxis": {
            "gridcolor": "white",
            "linecolor": "white",
            "ticks": ""
           },
           "baxis": {
            "gridcolor": "white",
            "linecolor": "white",
            "ticks": ""
           },
           "bgcolor": "#E5ECF6",
           "caxis": {
            "gridcolor": "white",
            "linecolor": "white",
            "ticks": ""
           }
          },
          "title": {
           "x": 0.05
          },
          "xaxis": {
           "automargin": true,
           "gridcolor": "white",
           "linecolor": "white",
           "ticks": "",
           "title": {
            "standoff": 15
           },
           "zerolinecolor": "white",
           "zerolinewidth": 2
          },
          "yaxis": {
           "automargin": true,
           "gridcolor": "white",
           "linecolor": "white",
           "ticks": "",
           "title": {
            "standoff": 15
           },
           "zerolinecolor": "white",
           "zerolinewidth": 2
          }
         }
        }
       }
      }
     },
     "metadata": {},
     "output_type": "display_data"
    }
   ],
   "source": [
    "fig = px.scatter_mapbox(df, lat='Latitude', lon='Longitude', \n",
    "                        color=km.labels_.astype(str))\n",
    "fig.update_layout(mapbox_style=\"open-street-map\")\n",
    "fig.update_geos(fitbounds=\"locations\")\n",
    "fig.show()"
   ]
  },
  {
   "cell_type": "markdown",
   "id": "89dbca5b",
   "metadata": {},
   "source": [
    "## 4. Support vector machine"
   ]
  },
  {
   "cell_type": "markdown",
   "id": "6158651f",
   "metadata": {},
   "source": [
    "Support vector machines are supervised learning models used for classification and regression. Recall that in an $\\R^2$ plane, an SVM is to find an optimal line, polynomial, or circle to distinctly classify the data points. We want the distance between data points of both classes to the separating lines to be maximum. We will use SVM to predict whether a tree get infested by  BTMs given some information of a tree."
   ]
  },
  {
   "cell_type": "code",
   "execution_count": 167,
   "id": "a44dfec4",
   "metadata": {},
   "outputs": [],
   "source": [
    "from sklearn import svm, model_selection, metrics"
   ]
  },
  {
   "cell_type": "markdown",
   "id": "2fa7a2fa",
   "metadata": {},
   "source": [
    "df_X contains features of a tree we are interested in and df_Y contains the data of whether a tree is infested or not."
   ]
  },
  {
   "cell_type": "code",
   "execution_count": 168,
   "id": "01c17e7f",
   "metadata": {},
   "outputs": [
    {
     "data": {
      "text/html": [
       "<div>\n",
       "<style scoped>\n",
       "    .dataframe tbody tr th:only-of-type {\n",
       "        vertical-align: middle;\n",
       "    }\n",
       "\n",
       "    .dataframe tbody tr th {\n",
       "        vertical-align: top;\n",
       "    }\n",
       "\n",
       "    .dataframe thead th {\n",
       "        text-align: right;\n",
       "    }\n",
       "</style>\n",
       "<table border=\"1\" class=\"dataframe\">\n",
       "  <thead>\n",
       "    <tr style=\"text-align: right;\">\n",
       "      <th></th>\n",
       "      <th>Longitude</th>\n",
       "      <th>Latitude</th>\n",
       "      <th>Common Name</th>\n",
       "      <th>Dbh 1. inches</th>\n",
       "      <th>Dbh 2</th>\n",
       "      <th>Dbh 3</th>\n",
       "      <th>Dbh 4</th>\n",
       "      <th>Dbh 5</th>\n",
       "      <th>Dbh 6</th>\n",
       "      <th>Distance to Water (feet)</th>\n",
       "      <th>Tree Type (Ornamental | Fruiting / Flowering | Bush)</th>\n",
       "    </tr>\n",
       "  </thead>\n",
       "  <tbody>\n",
       "    <tr>\n",
       "      <th>0</th>\n",
       "      <td>-69.633445</td>\n",
       "      <td>44.551271</td>\n",
       "      <td>0.0</td>\n",
       "      <td>-0.108226</td>\n",
       "      <td>0.0</td>\n",
       "      <td>0.0</td>\n",
       "      <td>0.0</td>\n",
       "      <td>0.0</td>\n",
       "      <td>0.0</td>\n",
       "      <td>0.0</td>\n",
       "      <td>0.0</td>\n",
       "    </tr>\n",
       "    <tr>\n",
       "      <th>1</th>\n",
       "      <td>-69.629734</td>\n",
       "      <td>44.549535</td>\n",
       "      <td>0.0</td>\n",
       "      <td>1.965662</td>\n",
       "      <td>0.0</td>\n",
       "      <td>0.0</td>\n",
       "      <td>0.0</td>\n",
       "      <td>0.0</td>\n",
       "      <td>0.0</td>\n",
       "      <td>0.0</td>\n",
       "      <td>0.0</td>\n",
       "    </tr>\n",
       "    <tr>\n",
       "      <th>2</th>\n",
       "      <td>-69.627131</td>\n",
       "      <td>44.551959</td>\n",
       "      <td>1.0</td>\n",
       "      <td>-1.239437</td>\n",
       "      <td>0.0</td>\n",
       "      <td>0.0</td>\n",
       "      <td>0.0</td>\n",
       "      <td>0.0</td>\n",
       "      <td>0.0</td>\n",
       "      <td>1.0</td>\n",
       "      <td>1.0</td>\n",
       "    </tr>\n",
       "    <tr>\n",
       "      <th>3</th>\n",
       "      <td>-69.629361</td>\n",
       "      <td>44.549576</td>\n",
       "      <td>1.0</td>\n",
       "      <td>5.924902</td>\n",
       "      <td>0.0</td>\n",
       "      <td>0.0</td>\n",
       "      <td>0.0</td>\n",
       "      <td>0.0</td>\n",
       "      <td>0.0</td>\n",
       "      <td>0.0</td>\n",
       "      <td>1.0</td>\n",
       "    </tr>\n",
       "    <tr>\n",
       "      <th>4</th>\n",
       "      <td>-69.662301</td>\n",
       "      <td>44.528730</td>\n",
       "      <td>2.0</td>\n",
       "      <td>2.531267</td>\n",
       "      <td>0.0</td>\n",
       "      <td>0.0</td>\n",
       "      <td>0.0</td>\n",
       "      <td>0.0</td>\n",
       "      <td>0.0</td>\n",
       "      <td>0.0</td>\n",
       "      <td>1.0</td>\n",
       "    </tr>\n",
       "  </tbody>\n",
       "</table>\n",
       "</div>"
      ],
      "text/plain": [
       "   Longitude   Latitude  Common Name  Dbh 1. inches  Dbh 2  Dbh 3  Dbh 4  \\\n",
       "0 -69.633445  44.551271          0.0      -0.108226    0.0    0.0    0.0   \n",
       "1 -69.629734  44.549535          0.0       1.965662    0.0    0.0    0.0   \n",
       "2 -69.627131  44.551959          1.0      -1.239437    0.0    0.0    0.0   \n",
       "3 -69.629361  44.549576          1.0       5.924902    0.0    0.0    0.0   \n",
       "4 -69.662301  44.528730          2.0       2.531267    0.0    0.0    0.0   \n",
       "\n",
       "   Dbh 5  Dbh 6  Distance to Water (feet)  \\\n",
       "0    0.0    0.0                       0.0   \n",
       "1    0.0    0.0                       0.0   \n",
       "2    0.0    0.0                       1.0   \n",
       "3    0.0    0.0                       0.0   \n",
       "4    0.0    0.0                       0.0   \n",
       "\n",
       "   Tree Type (Ornamental | Fruiting / Flowering | Bush)  \n",
       "0                                                0.0     \n",
       "1                                                0.0     \n",
       "2                                                1.0     \n",
       "3                                                1.0     \n",
       "4                                                1.0     "
      ]
     },
     "metadata": {},
     "output_type": "display_data"
    },
    {
     "data": {
      "text/html": [
       "<div>\n",
       "<style scoped>\n",
       "    .dataframe tbody tr th:only-of-type {\n",
       "        vertical-align: middle;\n",
       "    }\n",
       "\n",
       "    .dataframe tbody tr th {\n",
       "        vertical-align: top;\n",
       "    }\n",
       "\n",
       "    .dataframe thead th {\n",
       "        text-align: right;\n",
       "    }\n",
       "</style>\n",
       "<table border=\"1\" class=\"dataframe\">\n",
       "  <thead>\n",
       "    <tr style=\"text-align: right;\">\n",
       "      <th></th>\n",
       "      <th>BTM (Y/N)</th>\n",
       "    </tr>\n",
       "  </thead>\n",
       "  <tbody>\n",
       "    <tr>\n",
       "      <th>0</th>\n",
       "      <td>0.0</td>\n",
       "    </tr>\n",
       "    <tr>\n",
       "      <th>1</th>\n",
       "      <td>0.0</td>\n",
       "    </tr>\n",
       "    <tr>\n",
       "      <th>2</th>\n",
       "      <td>0.0</td>\n",
       "    </tr>\n",
       "    <tr>\n",
       "      <th>3</th>\n",
       "      <td>0.0</td>\n",
       "    </tr>\n",
       "    <tr>\n",
       "      <th>4</th>\n",
       "      <td>0.0</td>\n",
       "    </tr>\n",
       "  </tbody>\n",
       "</table>\n",
       "</div>"
      ],
      "text/plain": [
       "   BTM (Y/N)\n",
       "0        0.0\n",
       "1        0.0\n",
       "2        0.0\n",
       "3        0.0\n",
       "4        0.0"
      ]
     },
     "metadata": {},
     "output_type": "display_data"
    }
   ],
   "source": [
    "df_X = converted_df[['Longitude', 'Latitude', 'Common Name', 'Dbh 1. inches', 'Dbh 2', 'Dbh 3', 'Dbh 4', 'Dbh 5', 'Dbh 6', 'Distance to Water (feet)', 'Tree Type (Ornamental | Fruiting / Flowering | Bush)']]\n",
    "display(df_X.head())\n",
    "df_y = converted_df[['BTM (Y/N)']]\n",
    "display(df_y.head())\n",
    "\n",
    "X = df_X.to_numpy()\n",
    "y = df_y.to_numpy().reshape(df_y.shape[0],)\n",
    "# print(X,y)"
   ]
  },
  {
   "cell_type": "markdown",
   "id": "5ca8607a",
   "metadata": {},
   "source": [
    "Splite the data into test and train data. Size of test data : size of train data = 1:4"
   ]
  },
  {
   "cell_type": "code",
   "execution_count": 108,
   "id": "cc9d5cff",
   "metadata": {},
   "outputs": [],
   "source": [
    "data_train_location, data_test_location, label_train, label_test = model_selection.train_test_split(X, y, test_size=0.2)\n",
    "data_train = data_train_location[:,2:]\n",
    "data_test = data_test_location[:,2:]"
   ]
  },
  {
   "cell_type": "code",
   "execution_count": 109,
   "id": "26fa4fa7",
   "metadata": {},
   "outputs": [],
   "source": [
    "C = 1.0  # SVM regularization parameter\n",
    "models = (\n",
    "    svm.SVC(kernel=\"linear\", C=C),\n",
    "    svm.LinearSVC(C=C, max_iter=100000),\n",
    "    svm.SVC(kernel=\"rbf\", gamma=0.7, C=C),\n",
    "    svm.SVC(kernel=\"poly\", degree=3, gamma=\"auto\", C=C),\n",
    ")\n",
    "models = (clf.fit(data_train, label_train) for clf in models)"
   ]
  },
  {
   "cell_type": "code",
   "execution_count": 110,
   "id": "a794c1a5",
   "metadata": {},
   "outputs": [
    {
     "name": "stdout",
     "output_type": "stream",
     "text": [
      "SVC with linear kernel 0.8609625668449198\n",
      "[[78 19]\n",
      " [ 7 83]]\n",
      "LinearSVC (linear kernel) 0.8609625668449198\n",
      "[[78 19]\n",
      " [ 7 83]]\n",
      "SVC with RBF kernel 0.8770053475935828\n",
      "[[80 17]\n",
      " [ 6 84]]\n",
      "SVC with polynomial (degree 3) kernel 0.8556149732620321\n",
      "[[82 15]\n",
      " [12 78]]\n"
     ]
    }
   ],
   "source": [
    "from sklearn.metrics import confusion_matrix\n",
    "predicted_tests = []\n",
    "confusion_matrices = []\n",
    "titles = (\n",
    "    \"SVC with linear kernel\",\n",
    "    \"LinearSVC (linear kernel)\",\n",
    "    \"SVC with RBF kernel\",\n",
    "    \"SVC with polynomial (degree 3) kernel\",\n",
    ")\n",
    "\n",
    "for clf, title in zip(models, titles):\n",
    "    predicted_test = clf.predict(data_test)\n",
    "    predicted_tests.append(predicted_test)\n",
    "    ac_score = metrics.accuracy_score(label_test, predicted_test)\n",
    "    m = confusion_matrix(label_test, predicted_test)\n",
    "    confusion_matrices.append(m)\n",
    "    print(title, ac_score)\n",
    "    print(m)"
   ]
  },
  {
   "cell_type": "code",
   "execution_count": 114,
   "id": "ab6c95ec",
   "metadata": {},
   "outputs": [
    {
     "data": {
      "image/png": "[encoded data removed]",
      "text/plain": [
       "<Figure size 600x600 with 2 Axes>"
      ]
     },
     "metadata": {},
     "output_type": "display_data"
    }
   ],
   "source": [
    "# print(confusion_matrices)\n",
    "plt.figure(figsize=(6,6))\n",
    "plt.imshow(confusion_matrices[0],cmap='plasma')\n",
    "plt.axis('off')\n",
    "plt.title('Confusion matrix for the test data', fontsize=15)\n",
    "# thanks to \"https://stackoverflow.com/questions/33828780/matplotlib-display-array-values-with-imshow\"\n",
    "plt.colorbar()\n",
    "for (j,i),label in np.ndenumerate(confusion_matrices[2]):\n",
    "    plt.text(i,j,label,ha='center',va='center', fontsize=15, color=\"white\")\n",
    "plt.show()"
   ]
  },
  {
   "cell_type": "markdown",
   "id": "cf698f98",
   "metadata": {},
   "source": [
    "Plot the predicted label on the map."
   ]
  },
  {
   "cell_type": "code",
   "execution_count": 171,
   "id": "deb2a0c8",
   "metadata": {},
   "outputs": [
    {
     "data": {
      "application/vnd.plotly.v1+json": {
       "config": {
        "plotlyServerURL": "https://plot.ly"
       },
       "data": [
        {
         "hovertemplate": "color=1.0<br>lat=%{lat}<br>lon=%{lon}<extra></extra>",
         "lat": [
          44.561905663,
          44.56347963,
          44.554226,
          44.561967834,
          44.546276049,
          44.543475,
          44.551675879,
          44.545744,
          44.534598787,
          44.561611,
          44.560474,
          44.549687,
          44.561829,
          44.568972,
          44.561829277,
          44.546313347,
          44.551011448,
          44.551648445,
          44.5707,
          44.567100575,
          44.564896,
          44.552887499,
          44.555139,
          44.580071095,
          44.527305614,
          44.563674084,
          44.546477882,
          44.549954,
          44.546191889,
          44.534834385,
          44.551002551,
          44.552490042,
          44.576554,
          44.506117,
          44.544976,
          44.54619594,
          44.564774399,
          44.52751999,
          44.527566406,
          44.552465323,
          44.558736,
          44.537942418,
          44.534090261,
          44.562654881,
          44.545123,
          44.534607695,
          44.55239309,
          44.535010756,
          44.537828514,
          44.562548394,
          44.552519284,
          44.545531128,
          44.534139682,
          44.534101685,
          44.526938283,
          44.556896,
          44.579412789,
          44.54643262,
          44.557887,
          44.546382775,
          44.549576086,
          44.540947,
          44.5273026,
          44.550842164,
          44.534753703,
          44.546169624,
          44.535341066,
          44.564127793,
          44.561308101,
          44.562438054,
          44.56160908,
          44.548888,
          44.534126253,
          44.56253,
          44.534504182,
          44.538057099,
          44.528713133,
          44.552834,
          44.534102316,
          44.579071468,
          44.580553146,
          44.533889385,
          44.533602268,
          44.535379528,
          44.529681703,
          44.533920253,
          44.533993659,
          44.528681952,
          44.552286369,
          44.553565,
          44.554601,
          44.555104,
          44.5358,
          44.561219918,
          44.537932618,
          44.534564754,
          44.516855,
          44.550982039,
          44.535315658,
          44.53464393,
          44.534547605
         ],
         "legendgroup": "1.0",
         "lon": [
          -69.646326048,
          -69.64648815,
          -69.650842,
          -69.646411767,
          -69.633262204,
          -69.64969,
          -69.62822185,
          -69.65589,
          -69.643260114,
          -69.641568,
          -69.640555,
          -69.646404,
          -69.640557,
          -69.625076,
          -69.645756261,
          -69.634013906,
          -69.643351512,
          -69.643090637,
          -69.626889,
          -69.630063942,
          -69.628029,
          -69.62741295,
          -69.637468,
          -69.654961952,
          -69.660916033,
          -69.646712077,
          -69.63365708,
          -69.646256,
          -69.634250376,
          -69.642647958,
          -69.627338373,
          -69.627243396,
          -69.637085,
          -69.680826,
          -69.656372,
          -69.634225117,
          -69.648042145,
          -69.66127555,
          -69.661279845,
          -69.627205471,
          -69.633289,
          -69.639110165,
          -69.658914936,
          -69.630165457,
          -69.649545,
          -69.643206817,
          -69.627465609,
          -69.642572993,
          -69.638798013,
          -69.6302281,
          -69.627223746,
          -69.634538219,
          -69.659370746,
          -69.659080366,
          -69.659752246,
          -69.628226,
          -69.654681044,
          -69.633565447,
          -69.646765,
          -69.633342166,
          -69.629360613,
          -69.655654,
          -69.659303332,
          -69.633630843,
          -69.642699168,
          -69.634297803,
          -69.642330379,
          -69.647300432,
          -69.644259668,
          -69.64589251,
          -69.644236333,
          -69.649152,
          -69.658967635,
          -69.643165,
          -69.643613383,
          -69.638580192,
          -69.662281421,
          -69.674377,
          -69.659057314,
          -69.654551728,
          -69.655923815,
          -69.660663998,
          -69.660433636,
          -69.642302047,
          -69.661456284,
          -69.660664476,
          -69.660712545,
          -69.662144845,
          -69.627124771,
          -69.643683,
          -69.651375,
          -69.639772,
          -69.654463,
          -69.644398958,
          -69.63861643,
          -69.643445977,
          -69.676661,
          -69.643113738,
          -69.642308871,
          -69.643175024,
          -69.643593784
         ],
         "marker": {
          "color": "#636efa"
         },
         "mode": "markers",
         "name": "1.0",
         "showlegend": true,
         "subplot": "mapbox",
         "type": "scattermapbox"
        },
        {
         "hovertemplate": "color=0.0<br>lat=%{lat}<br>lon=%{lon}<extra></extra>",
         "lat": [
          44.567683658,
          44.514712,
          44.577201626,
          44.552399,
          44.542394,
          44.552435907,
          44.580442062,
          44.55899,
          44.549777,
          44.549882,
          44.529126312,
          44.532596,
          44.567436812,
          44.551369,
          44.526984014,
          44.552673261,
          44.537524,
          44.541883,
          44.551100061,
          44.552232602,
          44.57393026,
          44.562742,
          44.536218,
          44.576297,
          44.527500848,
          44.555626,
          44.568166277,
          44.5340518,
          44.509692,
          44.570977618,
          44.542792,
          44.576182169,
          44.556211,
          44.57528,
          44.580106902,
          44.534174595,
          44.529162,
          44.550643005,
          44.52693367,
          44.552707302,
          44.526993635,
          44.527790497,
          44.533782621,
          44.545136,
          44.550975,
          44.543793,
          44.562251187,
          44.578765188,
          44.528925725,
          44.550770545,
          44.551369,
          44.535067257,
          44.528533379,
          44.576236757,
          44.575403517,
          44.553242,
          44.549403,
          44.583999,
          44.58020694,
          44.580146257,
          44.574683743,
          44.57445103,
          44.549833,
          44.551787,
          44.552107498,
          44.564612,
          44.550686668,
          44.580346956,
          44.576293,
          44.554321,
          44.566065,
          44.548163,
          44.562835,
          44.550629017,
          44.546195,
          44.551959107,
          44.556389,
          44.548844,
          44.568131596,
          44.580275528,
          44.551043508,
          44.537922,
          44.543651,
          44.526947345,
          44.581713,
          44.579846718
         ],
         "legendgroup": "0.0",
         "lon": [
          -69.631011941,
          -69.714351,
          -69.653068348,
          -69.652439,
          -69.647368,
          -69.645315615,
          -69.655900935,
          -69.63965,
          -69.674505,
          -69.655729,
          -69.663110979,
          -69.656636,
          -69.631097597,
          -69.656161,
          -69.659816354,
          -69.627161179,
          -69.661223,
          -69.65095,
          -69.62782513,
          -69.627102918,
          -69.652066059,
          -69.661264,
          -69.659131,
          -69.638682,
          -69.661268433,
          -69.640596,
          -69.630423726,
          -69.659059904,
          -69.679596,
          -69.650807453,
          -69.661636,
          -69.652657391,
          -69.658993,
          -69.635415,
          -69.654953897,
          -69.66069974,
          -69.663829,
          -69.627482167,
          -69.65951182,
          -69.627292801,
          -69.660165992,
          -69.66124895,
          -69.660531149,
          -69.661397,
          -69.644782,
          -69.642801,
          -69.645380863,
          -69.654399705,
          -69.662852182,
          -69.627832251,
          -69.656161,
          -69.642382613,
          -69.661986796,
          -69.652682592,
          -69.65230187,
          -69.630605,
          -69.668398,
          -69.651458,
          -69.65504533,
          -69.65497412,
          -69.652068179,
          -69.65216823,
          -69.657145,
          -69.630627,
          -69.627170641,
          -69.628121,
          -69.627746155,
          -69.655177022,
          -69.63307,
          -69.617809,
          -69.649482,
          -69.670326,
          -69.644969,
          -69.627705984,
          -69.658142,
          -69.627130501,
          -69.642501,
          -69.655365,
          -69.630236962,
          -69.655138926,
          -69.627712055,
          -69.689079,
          -69.663665,
          -69.659679363,
          -69.650531,
          -69.654832198
         ],
         "marker": {
          "color": "#EF553B"
         },
         "mode": "markers",
         "name": "0.0",
         "showlegend": true,
         "subplot": "mapbox",
         "type": "scattermapbox"
        }
       ],
       "layout": {
        "geo": {
         "fitbounds": "locations"
        },
        "legend": {
         "title": {
          "text": "color"
         },
         "tracegroupgap": 0
        },
        "mapbox": {
         "center": {
          "lat": 44.55059847473262,
          "lon": -69.64727422327807
         },
         "domain": {
          "x": [
           0,
           1
          ],
          "y": [
           0,
           1
          ]
         },
         "style": "open-street-map",
         "zoom": 11
        },
        "margin": {
         "t": 60
        },
        "template": {
         "data": {
          "bar": [
           {
            "error_x": {
             "color": "#2a3f5f"
            },
            "error_y": {
             "color": "#2a3f5f"
            },
            "marker": {
             "line": {
              "color": "#E5ECF6",
              "width": 0.5
             },
             "pattern": {
              "fillmode": "overlay",
              "size": 10,
              "solidity": 0.2
             }
            },
            "type": "bar"
           }
          ],
          "barpolar": [
           {
            "marker": {
             "line": {
              "color": "#E5ECF6",
              "width": 0.5
             },
             "pattern": {
              "fillmode": "overlay",
              "size": 10,
              "solidity": 0.2
             }
            },
            "type": "barpolar"
           }
          ],
          "carpet": [
           {
            "aaxis": {
             "endlinecolor": "#2a3f5f",
             "gridcolor": "white",
             "linecolor": "white",
             "minorgridcolor": "white",
             "startlinecolor": "#2a3f5f"
            },
            "baxis": {
             "endlinecolor": "#2a3f5f",
             "gridcolor": "white",
             "linecolor": "white",
             "minorgridcolor": "white",
             "startlinecolor": "#2a3f5f"
            },
            "type": "carpet"
           }
          ],
          "choropleth": [
           {
            "colorbar": {
             "outlinewidth": 0,
             "ticks": ""
            },
            "type": "choropleth"
           }
          ],
          "contour": [
           {
            "colorbar": {
             "outlinewidth": 0,
             "ticks": ""
            },
            "colorscale": [
             [
              0,
              "#0d0887"
             ],
             [
              0.1111111111111111,
              "#46039f"
             ],
             [
              0.2222222222222222,
              "#7201a8"
             ],
             [
              0.3333333333333333,
              "#9c179e"
             ],
             [
              0.4444444444444444,
              "#bd3786"
             ],
             [
              0.5555555555555556,
              "#d8576b"
             ],
             [
              0.6666666666666666,
              "#ed7953"
             ],
             [
              0.7777777777777778,
              "#fb9f3a"
             ],
             [
              0.8888888888888888,
              "#fdca26"
             ],
             [
              1,
              "#f0f921"
             ]
            ],
            "type": "contour"
           }
          ],
          "contourcarpet": [
           {
            "colorbar": {
             "outlinewidth": 0,
             "ticks": ""
            },
            "type": "contourcarpet"
           }
          ],
          "heatmap": [
           {
            "colorbar": {
             "outlinewidth": 0,
             "ticks": ""
            },
            "colorscale": [
             [
              0,
              "#0d0887"
             ],
             [
              0.1111111111111111,
              "#46039f"
             ],
             [
              0.2222222222222222,
              "#7201a8"
             ],
             [
              0.3333333333333333,
              "#9c179e"
             ],
             [
              0.4444444444444444,
              "#bd3786"
             ],
             [
              0.5555555555555556,
              "#d8576b"
             ],
             [
              0.6666666666666666,
              "#ed7953"
             ],
             [
              0.7777777777777778,
              "#fb9f3a"
             ],
             [
              0.8888888888888888,
              "#fdca26"
             ],
             [
              1,
              "#f0f921"
             ]
            ],
            "type": "heatmap"
           }
          ],
          "heatmapgl": [
           {
            "colorbar": {
             "outlinewidth": 0,
             "ticks": ""
            },
            "colorscale": [
             [
              0,
              "#0d0887"
             ],
             [
              0.1111111111111111,
              "#46039f"
             ],
             [
              0.2222222222222222,
              "#7201a8"
             ],
             [
              0.3333333333333333,
              "#9c179e"
             ],
             [
              0.4444444444444444,
              "#bd3786"
             ],
             [
              0.5555555555555556,
              "#d8576b"
             ],
             [
              0.6666666666666666,
              "#ed7953"
             ],
             [
              0.7777777777777778,
              "#fb9f3a"
             ],
             [
              0.8888888888888888,
              "#fdca26"
             ],
             [
              1,
              "#f0f921"
             ]
            ],
            "type": "heatmapgl"
           }
          ],
          "histogram": [
           {
            "marker": {
             "pattern": {
              "fillmode": "overlay",
              "size": 10,
              "solidity": 0.2
             }
            },
            "type": "histogram"
           }
          ],
          "histogram2d": [
           {
            "colorbar": {
             "outlinewidth": 0,
             "ticks": ""
            },
            "colorscale": [
             [
              0,
              "#0d0887"
             ],
             [
              0.1111111111111111,
              "#46039f"
             ],
             [
              0.2222222222222222,
              "#7201a8"
             ],
             [
              0.3333333333333333,
              "#9c179e"
             ],
             [
              0.4444444444444444,
              "#bd3786"
             ],
             [
              0.5555555555555556,
              "#d8576b"
             ],
             [
              0.6666666666666666,
              "#ed7953"
             ],
             [
              0.7777777777777778,
              "#fb9f3a"
             ],
             [
              0.8888888888888888,
              "#fdca26"
             ],
             [
              1,
              "#f0f921"
             ]
            ],
            "type": "histogram2d"
           }
          ],
          "histogram2dcontour": [
           {
            "colorbar": {
             "outlinewidth": 0,
             "ticks": ""
            },
            "colorscale": [
             [
              0,
              "#0d0887"
             ],
             [
              0.1111111111111111,
              "#46039f"
             ],
             [
              0.2222222222222222,
              "#7201a8"
             ],
             [
              0.3333333333333333,
              "#9c179e"
             ],
             [
              0.4444444444444444,
              "#bd3786"
             ],
             [
              0.5555555555555556,
              "#d8576b"
             ],
             [
              0.6666666666666666,
              "#ed7953"
             ],
             [
              0.7777777777777778,
              "#fb9f3a"
             ],
             [
              0.8888888888888888,
              "#fdca26"
             ],
             [
              1,
              "#f0f921"
             ]
            ],
            "type": "histogram2dcontour"
           }
          ],
          "mesh3d": [
           {
            "colorbar": {
             "outlinewidth": 0,
             "ticks": ""
            },
            "type": "mesh3d"
           }
          ],
          "parcoords": [
           {
            "line": {
             "colorbar": {
              "outlinewidth": 0,
              "ticks": ""
             }
            },
            "type": "parcoords"
           }
          ],
          "pie": [
           {
            "automargin": true,
            "type": "pie"
           }
          ],
          "scatter": [
           {
            "fillpattern": {
             "fillmode": "overlay",
             "size": 10,
             "solidity": 0.2
            },
            "type": "scatter"
           }
          ],
          "scatter3d": [
           {
            "line": {
             "colorbar": {
              "outlinewidth": 0,
              "ticks": ""
             }
            },
            "marker": {
             "colorbar": {
              "outlinewidth": 0,
              "ticks": ""
             }
            },
            "type": "scatter3d"
           }
          ],
          "scattercarpet": [
           {
            "marker": {
             "colorbar": {
              "outlinewidth": 0,
              "ticks": ""
             }
            },
            "type": "scattercarpet"
           }
          ],
          "scattergeo": [
           {
            "marker": {
             "colorbar": {
              "outlinewidth": 0,
              "ticks": ""
             }
            },
            "type": "scattergeo"
           }
          ],
          "scattergl": [
           {
            "marker": {
             "colorbar": {
              "outlinewidth": 0,
              "ticks": ""
             }
            },
            "type": "scattergl"
           }
          ],
          "scattermapbox": [
           {
            "marker": {
             "colorbar": {
              "outlinewidth": 0,
              "ticks": ""
             }
            },
            "type": "scattermapbox"
           }
          ],
          "scatterpolar": [
           {
            "marker": {
             "colorbar": {
              "outlinewidth": 0,
              "ticks": ""
             }
            },
            "type": "scatterpolar"
           }
          ],
          "scatterpolargl": [
           {
            "marker": {
             "colorbar": {
              "outlinewidth": 0,
              "ticks": ""
             }
            },
            "type": "scatterpolargl"
           }
          ],
          "scatterternary": [
           {
            "marker": {
             "colorbar": {
              "outlinewidth": 0,
              "ticks": ""
             }
            },
            "type": "scatterternary"
           }
          ],
          "surface": [
           {
            "colorbar": {
             "outlinewidth": 0,
             "ticks": ""
            },
            "colorscale": [
             [
              0,
              "#0d0887"
             ],
             [
              0.1111111111111111,
              "#46039f"
             ],
             [
              0.2222222222222222,
              "#7201a8"
             ],
             [
              0.3333333333333333,
              "#9c179e"
             ],
             [
              0.4444444444444444,
              "#bd3786"
             ],
             [
              0.5555555555555556,
              "#d8576b"
             ],
             [
              0.6666666666666666,
              "#ed7953"
             ],
             [
              0.7777777777777778,
              "#fb9f3a"
             ],
             [
              0.8888888888888888,
              "#fdca26"
             ],
             [
              1,
              "#f0f921"
             ]
            ],
            "type": "surface"
           }
          ],
          "table": [
           {
            "cells": {
             "fill": {
              "color": "#EBF0F8"
             },
             "line": {
              "color": "white"
             }
            },
            "header": {
             "fill": {
              "color": "#C8D4E3"
             },
             "line": {
              "color": "white"
             }
            },
            "type": "table"
           }
          ]
         },
         "layout": {
          "annotationdefaults": {
           "arrowcolor": "#2a3f5f",
           "arrowhead": 0,
           "arrowwidth": 1
          },
          "autotypenumbers": "strict",
          "coloraxis": {
           "colorbar": {
            "outlinewidth": 0,
            "ticks": ""
           }
          },
          "colorscale": {
           "diverging": [
            [
             0,
             "#8e0152"
            ],
            [
             0.1,
             "#c51b7d"
            ],
            [
             0.2,
             "#de77ae"
            ],
            [
             0.3,
             "#f1b6da"
            ],
            [
             0.4,
             "#fde0ef"
            ],
            [
             0.5,
             "#f7f7f7"
            ],
            [
             0.6,
             "#e6f5d0"
            ],
            [
             0.7,
             "#b8e186"
            ],
            [
             0.8,
             "#7fbc41"
            ],
            [
             0.9,
             "#4d9221"
            ],
            [
             1,
             "#276419"
            ]
           ],
           "sequential": [
            [
             0,
             "#0d0887"
            ],
            [
             0.1111111111111111,
             "#46039f"
            ],
            [
             0.2222222222222222,
             "#7201a8"
            ],
            [
             0.3333333333333333,
             "#9c179e"
            ],
            [
             0.4444444444444444,
             "#bd3786"
            ],
            [
             0.5555555555555556,
             "#d8576b"
            ],
            [
             0.6666666666666666,
             "#ed7953"
            ],
            [
             0.7777777777777778,
             "#fb9f3a"
            ],
            [
             0.8888888888888888,
             "#fdca26"
            ],
            [
             1,
             "#f0f921"
            ]
           ],
           "sequentialminus": [
            [
             0,
             "#0d0887"
            ],
            [
             0.1111111111111111,
             "#46039f"
            ],
            [
             0.2222222222222222,
             "#7201a8"
            ],
            [
             0.3333333333333333,
             "#9c179e"
            ],
            [
             0.4444444444444444,
             "#bd3786"
            ],
            [
             0.5555555555555556,
             "#d8576b"
            ],
            [
             0.6666666666666666,
             "#ed7953"
            ],
            [
             0.7777777777777778,
             "#fb9f3a"
            ],
            [
             0.8888888888888888,
             "#fdca26"
            ],
            [
             1,
             "#f0f921"
            ]
           ]
          },
          "colorway": [
           "#636efa",
           "#EF553B",
           "#00cc96",
           "#ab63fa",
           "#FFA15A",
           "#19d3f3",
           "#FF6692",
           "#B6E880",
           "#FF97FF",
           "#FECB52"
          ],
          "font": {
           "color": "#2a3f5f"
          },
          "geo": {
           "bgcolor": "white",
           "lakecolor": "white",
           "landcolor": "#E5ECF6",
           "showlakes": true,
           "showland": true,
           "subunitcolor": "white"
          },
          "hoverlabel": {
           "align": "left"
          },
          "hovermode": "closest",
          "mapbox": {
           "style": "light"
          },
          "paper_bgcolor": "white",
          "plot_bgcolor": "#E5ECF6",
          "polar": {
           "angularaxis": {
            "gridcolor": "white",
            "linecolor": "white",
            "ticks": ""
           },
           "bgcolor": "#E5ECF6",
           "radialaxis": {
            "gridcolor": "white",
            "linecolor": "white",
            "ticks": ""
           }
          },
          "scene": {
           "xaxis": {
            "backgroundcolor": "#E5ECF6",
            "gridcolor": "white",
            "gridwidth": 2,
            "linecolor": "white",
            "showbackground": true,
            "ticks": "",
            "zerolinecolor": "white"
           },
           "yaxis": {
            "backgroundcolor": "#E5ECF6",
            "gridcolor": "white",
            "gridwidth": 2,
            "linecolor": "white",
            "showbackground": true,
            "ticks": "",
            "zerolinecolor": "white"
           },
           "zaxis": {
            "backgroundcolor": "#E5ECF6",
            "gridcolor": "white",
            "gridwidth": 2,
            "linecolor": "white",
            "showbackground": true,
            "ticks": "",
            "zerolinecolor": "white"
           }
          },
          "shapedefaults": {
           "line": {
            "color": "#2a3f5f"
           }
          },
          "ternary": {
           "aaxis": {
            "gridcolor": "white",
            "linecolor": "white",
            "ticks": ""
           },
           "baxis": {
            "gridcolor": "white",
            "linecolor": "white",
            "ticks": ""
           },
           "bgcolor": "#E5ECF6",
           "caxis": {
            "gridcolor": "white",
            "linecolor": "white",
            "ticks": ""
           }
          },
          "title": {
           "x": 0.05
          },
          "xaxis": {
           "automargin": true,
           "gridcolor": "white",
           "linecolor": "white",
           "ticks": "",
           "title": {
            "standoff": 15
           },
           "zerolinecolor": "white",
           "zerolinewidth": 2
          },
          "yaxis": {
           "automargin": true,
           "gridcolor": "white",
           "linecolor": "white",
           "ticks": "",
           "title": {
            "standoff": 15
           },
           "zerolinecolor": "white",
           "zerolinewidth": 2
          }
         }
        }
       }
      }
     },
     "metadata": {},
     "output_type": "display_data"
    }
   ],
   "source": [
    "fig = px.scatter_mapbox(lat=data_test_location[:,1], lon=data_test_location[:,0], color=predicted_tests[2].astype(str), zoom=11, mapbox_style='open-street-map')\n",
    "fig.update_layout(mapbox_style=\"open-street-map\")\n",
    "fig.update_geos(fitbounds=\"locations\")\n",
    "fig.show()"
   ]
  },
  {
   "cell_type": "markdown",
   "id": "0fc01b86",
   "metadata": {},
   "source": [
    "Plot the different points between predicted data and test data."
   ]
  },
  {
   "cell_type": "code",
   "execution_count": 172,
   "id": "6376093a",
   "metadata": {},
   "outputs": [
    {
     "data": {
      "application/vnd.plotly.v1+json": {
       "config": {
        "plotlyServerURL": "https://plot.ly"
       },
       "data": [
        {
         "hovertemplate": "color=0<br>lat=%{lat}<br>lon=%{lon}<extra></extra>",
         "lat": [
          44.561905663,
          44.552435907,
          44.551675879,
          44.545744,
          44.568972,
          44.5707,
          44.564896,
          44.5340518,
          44.552490042,
          44.576554,
          44.506117,
          44.544976,
          44.526993635,
          44.552465323,
          44.562251187,
          44.549576086,
          44.528533379,
          44.540947,
          44.550842164,
          44.552834,
          44.533602268,
          44.529681703,
          44.579846718
         ],
         "legendgroup": "0",
         "lon": [
          -69.646326048,
          -69.645315615,
          -69.62822185,
          -69.65589,
          -69.625076,
          -69.626889,
          -69.628029,
          -69.659059904,
          -69.627243396,
          -69.637085,
          -69.680826,
          -69.656372,
          -69.660165992,
          -69.627205471,
          -69.645380863,
          -69.629360613,
          -69.661986796,
          -69.655654,
          -69.633630843,
          -69.674377,
          -69.660433636,
          -69.661456284,
          -69.654832198
         ],
         "marker": {
          "color": "#636efa"
         },
         "mode": "markers",
         "name": "0",
         "showlegend": true,
         "subplot": "mapbox",
         "type": "scattermapbox"
        },
        {
         "hovertemplate": "color=1<br>lat=%{lat}<br>lon=%{lon}<extra></extra>",
         "lat": [
          44.567683658,
          44.56347963,
          44.554226,
          44.561967834,
          44.514712,
          44.546276049,
          44.543475,
          44.577201626,
          44.552399,
          44.542394,
          44.580442062,
          44.534598787,
          44.55899,
          44.549777,
          44.561611,
          44.560474,
          44.549687,
          44.549882,
          44.561829,
          44.529126312,
          44.561829277,
          44.546313347,
          44.551011448,
          44.532596,
          44.551648445,
          44.567436812,
          44.551369,
          44.526984014,
          44.552673261,
          44.537524,
          44.541883,
          44.551100061,
          44.552232602,
          44.567100575,
          44.57393026,
          44.562742,
          44.552887499,
          44.555139,
          44.580071095,
          44.536218,
          44.527305614,
          44.563674084,
          44.576297,
          44.546477882,
          44.549954,
          44.527500848,
          44.555626,
          44.546191889,
          44.568166277,
          44.509692,
          44.534834385,
          44.551002551,
          44.570977618,
          44.542792,
          44.576182169,
          44.556211,
          44.57528,
          44.580106902,
          44.534174595,
          44.529162,
          44.550643005,
          44.52693367,
          44.54619594,
          44.564774399,
          44.52751999,
          44.552707302,
          44.527566406,
          44.558736,
          44.527790497,
          44.537942418,
          44.534090261,
          44.533782621,
          44.562654881,
          44.545123,
          44.545136,
          44.534607695,
          44.550975,
          44.543793,
          44.55239309,
          44.535010756,
          44.537828514,
          44.562548394,
          44.578765188,
          44.552519284,
          44.545531128,
          44.534139682,
          44.528925725,
          44.550770545,
          44.534101685,
          44.526938283,
          44.556896,
          44.579412789,
          44.54643262,
          44.557887,
          44.546382775,
          44.551369,
          44.535067257,
          44.5273026,
          44.534753703,
          44.546169624,
          44.535341066,
          44.576236757,
          44.564127793,
          44.561308101,
          44.575403517,
          44.553242,
          44.562438054,
          44.56160908,
          44.548888,
          44.534126253,
          44.549403,
          44.56253,
          44.583999,
          44.534504182,
          44.58020694,
          44.538057099,
          44.580146257,
          44.528713133,
          44.574683743,
          44.57445103,
          44.534102316,
          44.549833,
          44.551787,
          44.552107498,
          44.564612,
          44.579071468,
          44.580553146,
          44.533889385,
          44.550686668,
          44.580346956,
          44.535379528,
          44.533920253,
          44.576293,
          44.533993659,
          44.554321,
          44.566065,
          44.528681952,
          44.552286369,
          44.548163,
          44.562835,
          44.550629017,
          44.553565,
          44.546195,
          44.551959107,
          44.556389,
          44.554601,
          44.548844,
          44.568131596,
          44.555104,
          44.580275528,
          44.5358,
          44.551043508,
          44.537922,
          44.561219918,
          44.537932618,
          44.534564754,
          44.516855,
          44.550982039,
          44.535315658,
          44.543651,
          44.53464393,
          44.526947345,
          44.581713,
          44.534547605
         ],
         "legendgroup": "1",
         "lon": [
          -69.631011941,
          -69.64648815,
          -69.650842,
          -69.646411767,
          -69.714351,
          -69.633262204,
          -69.64969,
          -69.653068348,
          -69.652439,
          -69.647368,
          -69.655900935,
          -69.643260114,
          -69.63965,
          -69.674505,
          -69.641568,
          -69.640555,
          -69.646404,
          -69.655729,
          -69.640557,
          -69.663110979,
          -69.645756261,
          -69.634013906,
          -69.643351512,
          -69.656636,
          -69.643090637,
          -69.631097597,
          -69.656161,
          -69.659816354,
          -69.627161179,
          -69.661223,
          -69.65095,
          -69.62782513,
          -69.627102918,
          -69.630063942,
          -69.652066059,
          -69.661264,
          -69.62741295,
          -69.637468,
          -69.654961952,
          -69.659131,
          -69.660916033,
          -69.646712077,
          -69.638682,
          -69.63365708,
          -69.646256,
          -69.661268433,
          -69.640596,
          -69.634250376,
          -69.630423726,
          -69.679596,
          -69.642647958,
          -69.627338373,
          -69.650807453,
          -69.661636,
          -69.652657391,
          -69.658993,
          -69.635415,
          -69.654953897,
          -69.66069974,
          -69.663829,
          -69.627482167,
          -69.65951182,
          -69.634225117,
          -69.648042145,
          -69.66127555,
          -69.627292801,
          -69.661279845,
          -69.633289,
          -69.66124895,
          -69.639110165,
          -69.658914936,
          -69.660531149,
          -69.630165457,
          -69.649545,
          -69.661397,
          -69.643206817,
          -69.644782,
          -69.642801,
          -69.627465609,
          -69.642572993,
          -69.638798013,
          -69.6302281,
          -69.654399705,
          -69.627223746,
          -69.634538219,
          -69.659370746,
          -69.662852182,
          -69.627832251,
          -69.659080366,
          -69.659752246,
          -69.628226,
          -69.654681044,
          -69.633565447,
          -69.646765,
          -69.633342166,
          -69.656161,
          -69.642382613,
          -69.659303332,
          -69.642699168,
          -69.634297803,
          -69.642330379,
          -69.652682592,
          -69.647300432,
          -69.644259668,
          -69.65230187,
          -69.630605,
          -69.64589251,
          -69.644236333,
          -69.649152,
          -69.658967635,
          -69.668398,
          -69.643165,
          -69.651458,
          -69.643613383,
          -69.65504533,
          -69.638580192,
          -69.65497412,
          -69.662281421,
          -69.652068179,
          -69.65216823,
          -69.659057314,
          -69.657145,
          -69.630627,
          -69.627170641,
          -69.628121,
          -69.654551728,
          -69.655923815,
          -69.660663998,
          -69.627746155,
          -69.655177022,
          -69.642302047,
          -69.660664476,
          -69.63307,
          -69.660712545,
          -69.617809,
          -69.649482,
          -69.662144845,
          -69.627124771,
          -69.670326,
          -69.644969,
          -69.627705984,
          -69.643683,
          -69.658142,
          -69.627130501,
          -69.642501,
          -69.651375,
          -69.655365,
          -69.630236962,
          -69.639772,
          -69.655138926,
          -69.654463,
          -69.627712055,
          -69.689079,
          -69.644398958,
          -69.63861643,
          -69.643445977,
          -69.676661,
          -69.643113738,
          -69.642308871,
          -69.663665,
          -69.643175024,
          -69.659679363,
          -69.650531,
          -69.643593784
         ],
         "marker": {
          "color": "#EF553B"
         },
         "mode": "markers",
         "name": "1",
         "showlegend": true,
         "subplot": "mapbox",
         "type": "scattermapbox"
        }
       ],
       "layout": {
        "geo": {
         "fitbounds": "locations"
        },
        "legend": {
         "title": {
          "text": "color"
         },
         "tracegroupgap": 0
        },
        "mapbox": {
         "center": {
          "lat": 44.55059847473262,
          "lon": -69.64727422327807
         },
         "domain": {
          "x": [
           0,
           1
          ],
          "y": [
           0,
           1
          ]
         },
         "style": "open-street-map",
         "zoom": 11
        },
        "margin": {
         "t": 60
        },
        "template": {
         "data": {
          "bar": [
           {
            "error_x": {
             "color": "#2a3f5f"
            },
            "error_y": {
             "color": "#2a3f5f"
            },
            "marker": {
             "line": {
              "color": "#E5ECF6",
              "width": 0.5
             },
             "pattern": {
              "fillmode": "overlay",
              "size": 10,
              "solidity": 0.2
             }
            },
            "type": "bar"
           }
          ],
          "barpolar": [
           {
            "marker": {
             "line": {
              "color": "#E5ECF6",
              "width": 0.5
             },
             "pattern": {
              "fillmode": "overlay",
              "size": 10,
              "solidity": 0.2
             }
            },
            "type": "barpolar"
           }
          ],
          "carpet": [
           {
            "aaxis": {
             "endlinecolor": "#2a3f5f",
             "gridcolor": "white",
             "linecolor": "white",
             "minorgridcolor": "white",
             "startlinecolor": "#2a3f5f"
            },
            "baxis": {
             "endlinecolor": "#2a3f5f",
             "gridcolor": "white",
             "linecolor": "white",
             "minorgridcolor": "white",
             "startlinecolor": "#2a3f5f"
            },
            "type": "carpet"
           }
          ],
          "choropleth": [
           {
            "colorbar": {
             "outlinewidth": 0,
             "ticks": ""
            },
            "type": "choropleth"
           }
          ],
          "contour": [
           {
            "colorbar": {
             "outlinewidth": 0,
             "ticks": ""
            },
            "colorscale": [
             [
              0,
              "#0d0887"
             ],
             [
              0.1111111111111111,
              "#46039f"
             ],
             [
              0.2222222222222222,
              "#7201a8"
             ],
             [
              0.3333333333333333,
              "#9c179e"
             ],
             [
              0.4444444444444444,
              "#bd3786"
             ],
             [
              0.5555555555555556,
              "#d8576b"
             ],
             [
              0.6666666666666666,
              "#ed7953"
             ],
             [
              0.7777777777777778,
              "#fb9f3a"
             ],
             [
              0.8888888888888888,
              "#fdca26"
             ],
             [
              1,
              "#f0f921"
             ]
            ],
            "type": "contour"
           }
          ],
          "contourcarpet": [
           {
            "colorbar": {
             "outlinewidth": 0,
             "ticks": ""
            },
            "type": "contourcarpet"
           }
          ],
          "heatmap": [
           {
            "colorbar": {
             "outlinewidth": 0,
             "ticks": ""
            },
            "colorscale": [
             [
              0,
              "#0d0887"
             ],
             [
              0.1111111111111111,
              "#46039f"
             ],
             [
              0.2222222222222222,
              "#7201a8"
             ],
             [
              0.3333333333333333,
              "#9c179e"
             ],
             [
              0.4444444444444444,
              "#bd3786"
             ],
             [
              0.5555555555555556,
              "#d8576b"
             ],
             [
              0.6666666666666666,
              "#ed7953"
             ],
             [
              0.7777777777777778,
              "#fb9f3a"
             ],
             [
              0.8888888888888888,
              "#fdca26"
             ],
             [
              1,
              "#f0f921"
             ]
            ],
            "type": "heatmap"
           }
          ],
          "heatmapgl": [
           {
            "colorbar": {
             "outlinewidth": 0,
             "ticks": ""
            },
            "colorscale": [
             [
              0,
              "#0d0887"
             ],
             [
              0.1111111111111111,
              "#46039f"
             ],
             [
              0.2222222222222222,
              "#7201a8"
             ],
             [
              0.3333333333333333,
              "#9c179e"
             ],
             [
              0.4444444444444444,
              "#bd3786"
             ],
             [
              0.5555555555555556,
              "#d8576b"
             ],
             [
              0.6666666666666666,
              "#ed7953"
             ],
             [
              0.7777777777777778,
              "#fb9f3a"
             ],
             [
              0.8888888888888888,
              "#fdca26"
             ],
             [
              1,
              "#f0f921"
             ]
            ],
            "type": "heatmapgl"
           }
          ],
          "histogram": [
           {
            "marker": {
             "pattern": {
              "fillmode": "overlay",
              "size": 10,
              "solidity": 0.2
             }
            },
            "type": "histogram"
           }
          ],
          "histogram2d": [
           {
            "colorbar": {
             "outlinewidth": 0,
             "ticks": ""
            },
            "colorscale": [
             [
              0,
              "#0d0887"
             ],
             [
              0.1111111111111111,
              "#46039f"
             ],
             [
              0.2222222222222222,
              "#7201a8"
             ],
             [
              0.3333333333333333,
              "#9c179e"
             ],
             [
              0.4444444444444444,
              "#bd3786"
             ],
             [
              0.5555555555555556,
              "#d8576b"
             ],
             [
              0.6666666666666666,
              "#ed7953"
             ],
             [
              0.7777777777777778,
              "#fb9f3a"
             ],
             [
              0.8888888888888888,
              "#fdca26"
             ],
             [
              1,
              "#f0f921"
             ]
            ],
            "type": "histogram2d"
           }
          ],
          "histogram2dcontour": [
           {
            "colorbar": {
             "outlinewidth": 0,
             "ticks": ""
            },
            "colorscale": [
             [
              0,
              "#0d0887"
             ],
             [
              0.1111111111111111,
              "#46039f"
             ],
             [
              0.2222222222222222,
              "#7201a8"
             ],
             [
              0.3333333333333333,
              "#9c179e"
             ],
             [
              0.4444444444444444,
              "#bd3786"
             ],
             [
              0.5555555555555556,
              "#d8576b"
             ],
             [
              0.6666666666666666,
              "#ed7953"
             ],
             [
              0.7777777777777778,
              "#fb9f3a"
             ],
             [
              0.8888888888888888,
              "#fdca26"
             ],
             [
              1,
              "#f0f921"
             ]
            ],
            "type": "histogram2dcontour"
           }
          ],
          "mesh3d": [
           {
            "colorbar": {
             "outlinewidth": 0,
             "ticks": ""
            },
            "type": "mesh3d"
           }
          ],
          "parcoords": [
           {
            "line": {
             "colorbar": {
              "outlinewidth": 0,
              "ticks": ""
             }
            },
            "type": "parcoords"
           }
          ],
          "pie": [
           {
            "automargin": true,
            "type": "pie"
           }
          ],
          "scatter": [
           {
            "fillpattern": {
             "fillmode": "overlay",
             "size": 10,
             "solidity": 0.2
            },
            "type": "scatter"
           }
          ],
          "scatter3d": [
           {
            "line": {
             "colorbar": {
              "outlinewidth": 0,
              "ticks": ""
             }
            },
            "marker": {
             "colorbar": {
              "outlinewidth": 0,
              "ticks": ""
             }
            },
            "type": "scatter3d"
           }
          ],
          "scattercarpet": [
           {
            "marker": {
             "colorbar": {
              "outlinewidth": 0,
              "ticks": ""
             }
            },
            "type": "scattercarpet"
           }
          ],
          "scattergeo": [
           {
            "marker": {
             "colorbar": {
              "outlinewidth": 0,
              "ticks": ""
             }
            },
            "type": "scattergeo"
           }
          ],
          "scattergl": [
           {
            "marker": {
             "colorbar": {
              "outlinewidth": 0,
              "ticks": ""
             }
            },
            "type": "scattergl"
           }
          ],
          "scattermapbox": [
           {
            "marker": {
             "colorbar": {
              "outlinewidth": 0,
              "ticks": ""
             }
            },
            "type": "scattermapbox"
           }
          ],
          "scatterpolar": [
           {
            "marker": {
             "colorbar": {
              "outlinewidth": 0,
              "ticks": ""
             }
            },
            "type": "scatterpolar"
           }
          ],
          "scatterpolargl": [
           {
            "marker": {
             "colorbar": {
              "outlinewidth": 0,
              "ticks": ""
             }
            },
            "type": "scatterpolargl"
           }
          ],
          "scatterternary": [
           {
            "marker": {
             "colorbar": {
              "outlinewidth": 0,
              "ticks": ""
             }
            },
            "type": "scatterternary"
           }
          ],
          "surface": [
           {
            "colorbar": {
             "outlinewidth": 0,
             "ticks": ""
            },
            "colorscale": [
             [
              0,
              "#0d0887"
             ],
             [
              0.1111111111111111,
              "#46039f"
             ],
             [
              0.2222222222222222,
              "#7201a8"
             ],
             [
              0.3333333333333333,
              "#9c179e"
             ],
             [
              0.4444444444444444,
              "#bd3786"
             ],
             [
              0.5555555555555556,
              "#d8576b"
             ],
             [
              0.6666666666666666,
              "#ed7953"
             ],
             [
              0.7777777777777778,
              "#fb9f3a"
             ],
             [
              0.8888888888888888,
              "#fdca26"
             ],
             [
              1,
              "#f0f921"
             ]
            ],
            "type": "surface"
           }
          ],
          "table": [
           {
            "cells": {
             "fill": {
              "color": "#EBF0F8"
             },
             "line": {
              "color": "white"
             }
            },
            "header": {
             "fill": {
              "color": "#C8D4E3"
             },
             "line": {
              "color": "white"
             }
            },
            "type": "table"
           }
          ]
         },
         "layout": {
          "annotationdefaults": {
           "arrowcolor": "#2a3f5f",
           "arrowhead": 0,
           "arrowwidth": 1
          },
          "autotypenumbers": "strict",
          "coloraxis": {
           "colorbar": {
            "outlinewidth": 0,
            "ticks": ""
           }
          },
          "colorscale": {
           "diverging": [
            [
             0,
             "#8e0152"
            ],
            [
             0.1,
             "#c51b7d"
            ],
            [
             0.2,
             "#de77ae"
            ],
            [
             0.3,
             "#f1b6da"
            ],
            [
             0.4,
             "#fde0ef"
            ],
            [
             0.5,
             "#f7f7f7"
            ],
            [
             0.6,
             "#e6f5d0"
            ],
            [
             0.7,
             "#b8e186"
            ],
            [
             0.8,
             "#7fbc41"
            ],
            [
             0.9,
             "#4d9221"
            ],
            [
             1,
             "#276419"
            ]
           ],
           "sequential": [
            [
             0,
             "#0d0887"
            ],
            [
             0.1111111111111111,
             "#46039f"
            ],
            [
             0.2222222222222222,
             "#7201a8"
            ],
            [
             0.3333333333333333,
             "#9c179e"
            ],
            [
             0.4444444444444444,
             "#bd3786"
            ],
            [
             0.5555555555555556,
             "#d8576b"
            ],
            [
             0.6666666666666666,
             "#ed7953"
            ],
            [
             0.7777777777777778,
             "#fb9f3a"
            ],
            [
             0.8888888888888888,
             "#fdca26"
            ],
            [
             1,
             "#f0f921"
            ]
           ],
           "sequentialminus": [
            [
             0,
             "#0d0887"
            ],
            [
             0.1111111111111111,
             "#46039f"
            ],
            [
             0.2222222222222222,
             "#7201a8"
            ],
            [
             0.3333333333333333,
             "#9c179e"
            ],
            [
             0.4444444444444444,
             "#bd3786"
            ],
            [
             0.5555555555555556,
             "#d8576b"
            ],
            [
             0.6666666666666666,
             "#ed7953"
            ],
            [
             0.7777777777777778,
             "#fb9f3a"
            ],
            [
             0.8888888888888888,
             "#fdca26"
            ],
            [
             1,
             "#f0f921"
            ]
           ]
          },
          "colorway": [
           "#636efa",
           "#EF553B",
           "#00cc96",
           "#ab63fa",
           "#FFA15A",
           "#19d3f3",
           "#FF6692",
           "#B6E880",
           "#FF97FF",
           "#FECB52"
          ],
          "font": {
           "color": "#2a3f5f"
          },
          "geo": {
           "bgcolor": "white",
           "lakecolor": "white",
           "landcolor": "#E5ECF6",
           "showlakes": true,
           "showland": true,
           "subunitcolor": "white"
          },
          "hoverlabel": {
           "align": "left"
          },
          "hovermode": "closest",
          "mapbox": {
           "style": "light"
          },
          "paper_bgcolor": "white",
          "plot_bgcolor": "#E5ECF6",
          "polar": {
           "angularaxis": {
            "gridcolor": "white",
            "linecolor": "white",
            "ticks": ""
           },
           "bgcolor": "#E5ECF6",
           "radialaxis": {
            "gridcolor": "white",
            "linecolor": "white",
            "ticks": ""
           }
          },
          "scene": {
           "xaxis": {
            "backgroundcolor": "#E5ECF6",
            "gridcolor": "white",
            "gridwidth": 2,
            "linecolor": "white",
            "showbackground": true,
            "ticks": "",
            "zerolinecolor": "white"
           },
           "yaxis": {
            "backgroundcolor": "#E5ECF6",
            "gridcolor": "white",
            "gridwidth": 2,
            "linecolor": "white",
            "showbackground": true,
            "ticks": "",
            "zerolinecolor": "white"
           },
           "zaxis": {
            "backgroundcolor": "#E5ECF6",
            "gridcolor": "white",
            "gridwidth": 2,
            "linecolor": "white",
            "showbackground": true,
            "ticks": "",
            "zerolinecolor": "white"
           }
          },
          "shapedefaults": {
           "line": {
            "color": "#2a3f5f"
           }
          },
          "ternary": {
           "aaxis": {
            "gridcolor": "white",
            "linecolor": "white",
            "ticks": ""
           },
           "baxis": {
            "gridcolor": "white",
            "linecolor": "white",
            "ticks": ""
           },
           "bgcolor": "#E5ECF6",
           "caxis": {
            "gridcolor": "white",
            "linecolor": "white",
            "ticks": ""
           }
          },
          "title": {
           "x": 0.05
          },
          "xaxis": {
           "automargin": true,
           "gridcolor": "white",
           "linecolor": "white",
           "ticks": "",
           "title": {
            "standoff": 15
           },
           "zerolinecolor": "white",
           "zerolinewidth": 2
          },
          "yaxis": {
           "automargin": true,
           "gridcolor": "white",
           "linecolor": "white",
           "ticks": "",
           "title": {
            "standoff": 15
           },
           "zerolinecolor": "white",
           "zerolinewidth": 2
          }
         }
        }
       }
      }
     },
     "metadata": {},
     "output_type": "display_data"
    }
   ],
   "source": [
    "ifsame = [label_test[i] == predicted_tests[2][i] for i in range(len(label_test))]\n",
    "ifsame = np.array(ifsame).astype(int)\n",
    "fig = px.scatter_mapbox(lat=data_test_location[:,1], lon=data_test_location[:,0], color=ifsame.astype(str), zoom=11, mapbox_style='open-street-map')\n",
    "fig.update_layout(mapbox_style=\"open-street-map\")\n",
    "fig.update_geos(fitbounds=\"locations\")\n",
    "fig.show()"
   ]
  },
  {
   "cell_type": "markdown",
   "id": "23cdda9d",
   "metadata": {},
   "source": [
    "### 4. Random Forest\n",
    "We will use random forest to predict whether a tree get infestation by  BTMs given some information of a tree."
   ]
  },
  {
   "cell_type": "code",
   "execution_count": 173,
   "id": "16367719",
   "metadata": {},
   "outputs": [],
   "source": [
    "import numpy as np\n",
    "import matplotlib.pyplot as plt\n",
    "from sklearn import model_selection, metrics\n",
    "from sklearn import tree\n",
    "from sklearn.ensemble import RandomForestClassifier"
   ]
  },
  {
   "cell_type": "code",
   "execution_count": 156,
   "id": "903a2a6d",
   "metadata": {},
   "outputs": [
    {
     "data": {
      "text/html": [
       "<style>#sk-container-id-2 {color: black;background-color: white;}#sk-container-id-2 pre{padding: 0;}#sk-container-id-2 div.sk-toggleable {background-color: white;}#sk-container-id-2 label.sk-toggleable__label {cursor: pointer;display: block;width: 100%;margin-bottom: 0;padding: 0.3em;box-sizing: border-box;text-align: center;}#sk-container-id-2 label.sk-toggleable__label-arrow:before {content: \"▸\";float: left;margin-right: 0.25em;color: #696969;}#sk-container-id-2 label.sk-toggleable__label-arrow:hover:before {color: black;}#sk-container-id-2 div.sk-estimator:hover label.sk-toggleable__label-arrow:before {color: black;}#sk-container-id-2 div.sk-toggleable__content {max-height: 0;max-width: 0;overflow: hidden;text-align: left;background-color: #f0f8ff;}#sk-container-id-2 div.sk-toggleable__content pre {margin: 0.2em;color: black;border-radius: 0.25em;background-color: #f0f8ff;}#sk-container-id-2 input.sk-toggleable__control:checked~div.sk-toggleable__content {max-height: 200px;max-width: 100%;overflow: auto;}#sk-container-id-2 input.sk-toggleable__control:checked~label.sk-toggleable__label-arrow:before {content: \"▾\";}#sk-container-id-2 div.sk-estimator input.sk-toggleable__control:checked~label.sk-toggleable__label {background-color: #d4ebff;}#sk-container-id-2 div.sk-label input.sk-toggleable__control:checked~label.sk-toggleable__label {background-color: #d4ebff;}#sk-container-id-2 input.sk-hidden--visually {border: 0;clip: rect(1px 1px 1px 1px);clip: rect(1px, 1px, 1px, 1px);height: 1px;margin: -1px;overflow: hidden;padding: 0;position: absolute;width: 1px;}#sk-container-id-2 div.sk-estimator {font-family: monospace;background-color: #f0f8ff;border: 1px dotted black;border-radius: 0.25em;box-sizing: border-box;margin-bottom: 0.5em;}#sk-container-id-2 div.sk-estimator:hover {background-color: #d4ebff;}#sk-container-id-2 div.sk-parallel-item::after {content: \"\";width: 100%;border-bottom: 1px solid gray;flex-grow: 1;}#sk-container-id-2 div.sk-label:hover label.sk-toggleable__label {background-color: #d4ebff;}#sk-container-id-2 div.sk-serial::before {content: \"\";position: absolute;border-left: 1px solid gray;box-sizing: border-box;top: 0;bottom: 0;left: 50%;z-index: 0;}#sk-container-id-2 div.sk-serial {display: flex;flex-direction: column;align-items: center;background-color: white;padding-right: 0.2em;padding-left: 0.2em;position: relative;}#sk-container-id-2 div.sk-item {position: relative;z-index: 1;}#sk-container-id-2 div.sk-parallel {display: flex;align-items: stretch;justify-content: center;background-color: white;position: relative;}#sk-container-id-2 div.sk-item::before, #sk-container-id-2 div.sk-parallel-item::before {content: \"\";position: absolute;border-left: 1px solid gray;box-sizing: border-box;top: 0;bottom: 0;left: 50%;z-index: -1;}#sk-container-id-2 div.sk-parallel-item {display: flex;flex-direction: column;z-index: 1;position: relative;background-color: white;}#sk-container-id-2 div.sk-parallel-item:first-child::after {align-self: flex-end;width: 50%;}#sk-container-id-2 div.sk-parallel-item:last-child::after {align-self: flex-start;width: 50%;}#sk-container-id-2 div.sk-parallel-item:only-child::after {width: 0;}#sk-container-id-2 div.sk-dashed-wrapped {border: 1px dashed gray;margin: 0 0.4em 0.5em 0.4em;box-sizing: border-box;padding-bottom: 0.4em;background-color: white;}#sk-container-id-2 div.sk-label label {font-family: monospace;font-weight: bold;display: inline-block;line-height: 1.2em;}#sk-container-id-2 div.sk-label-container {text-align: center;}#sk-container-id-2 div.sk-container {/* jupyter's `normalize.less` sets `[hidden] { display: none; }` but bootstrap.min.css set `[hidden] { display: none !important; }` so we also need the `!important` here to be able to override the default hidden behavior on the sphinx rendered scikit-learn.org. See: https://github.com/scikit-learn/scikit-learn/issues/21755 */display: inline-block !important;position: relative;}#sk-container-id-2 div.sk-text-repr-fallback {display: none;}</style><div id=\"sk-container-id-2\" class=\"sk-top-container\"><div class=\"sk-text-repr-fallback\"><pre>DecisionTreeClassifier()</pre><b>In a Jupyter environment, please rerun this cell to show the HTML representation or trust the notebook. <br />On GitHub, the HTML representation is unable to render, please try loading this page with nbviewer.org.</b></div><div class=\"sk-container\" hidden><div class=\"sk-item\"><div class=\"sk-estimator sk-toggleable\"><input class=\"sk-toggleable__control sk-hidden--visually\" id=\"sk-estimator-id-2\" type=\"checkbox\" checked><label for=\"sk-estimator-id-2\" class=\"sk-toggleable__label sk-toggleable__label-arrow\">DecisionTreeClassifier</label><div class=\"sk-toggleable__content\"><pre>DecisionTreeClassifier()</pre></div></div></div></div></div>"
      ],
      "text/plain": [
       "DecisionTreeClassifier()"
      ]
     },
     "execution_count": 156,
     "metadata": {},
     "output_type": "execute_result"
    }
   ],
   "source": [
    "clf_tree = tree.DecisionTreeClassifier()\n",
    "clf_tree.fit(data_train, label_train)"
   ]
  },
  {
   "cell_type": "code",
   "execution_count": 157,
   "id": "54712639",
   "metadata": {},
   "outputs": [],
   "source": [
    "forests = []\n",
    "for x in range(1, 10):\n",
    "    clf_forest = RandomForestClassifier(n_estimators=1)\n",
    "    clf_forest.fit(data_train, label_train)\n",
    "    forests.append(clf_forest)"
   ]
  },
  {
   "cell_type": "code",
   "execution_count": 158,
   "id": "a9e5c196",
   "metadata": {},
   "outputs": [],
   "source": [
    "label_pred_tree = clf_tree.predict(data_test)\n",
    "label_pred_forests = []\n",
    "for clf_forest in forests:\n",
    "    label_pred_forests.append(clf_forest.predict(data_test))\n"
   ]
  },
  {
   "cell_type": "code",
   "execution_count": 164,
   "id": "2100fd15",
   "metadata": {},
   "outputs": [
    {
     "name": "stdout",
     "output_type": "stream",
     "text": [
      "Random Forest:\n",
      "0.8235294117647058\n",
      "[[79 18]\n",
      " [15 75]]\n",
      "SVM with RBF kernel\n",
      "0.8770053475935828\n",
      "[[80 17]\n",
      " [ 6 84]]\n"
     ]
    }
   ],
   "source": [
    "print(\"Random Forest:\")\n",
    "print(metrics.accuracy_score(label_test, label_pred_tree))\n",
    "print(metrics.confusion_matrix(label_test, label_pred_tree))\n",
    "\n",
    "print(\"SVM with RBF kernel:\")\n",
    "print(metrics.accuracy_score(label_test, predicted_tests[2]))\n",
    "print(confusion_matrix(label_test, predicted_tests[2]))\n"
   ]
  }
 ],
 "metadata": {
  "kernelspec": {
   "display_name": "Python 3 (ipykernel)",
   "language": "python",
   "name": "python3"
  },
  "language_info": {
   "codemirror_mode": {
    "name": "ipython",
    "version": 3
   },
   "file_extension": ".py",
   "mimetype": "text/x-python",
   "name": "python",
   "nbconvert_exporter": "python",
   "pygments_lexer": "ipython3",
   "version": "3.10.7"
  },
  "vscode": {
   "interpreter": {
    "hash": "aee8b7b246df8f9039afb4144a1f6fd8d2ca17a180786b69acc140d282b71a49"
   }
  }
 },
 "nbformat": 4,
 "nbformat_minor": 5
}
