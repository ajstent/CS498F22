{
 "cells": [
  {
   "cell_type": "markdown",
   "id": "d6c5b331",
   "metadata": {},
   "source": [
    "In this notebook we fit a decision tree (https://scikit-learn.org/stable/modules/tree.html#tree) and random forests (https://scikit-learn.org/stable/modules/ensemble.html#forest) to the iris dataset."
   ]
  },
  {
   "cell_type": "code",
   "execution_count": 1,
   "id": "c3f06783",
   "metadata": {},
   "outputs": [],
   "source": [
    "import numpy as np\n",
    "import matplotlib.pyplot as plt\n",
    "from sklearn import datasets, model_selection, metrics\n",
    "from sklearn import tree\n",
    "from sklearn.ensemble import RandomForestClassifier"
   ]
  },
  {
   "cell_type": "markdown",
   "id": "4fc7bdb3",
   "metadata": {},
   "source": [
    "Load the iris data, separate independent (X) and dependent (y) variables, and then keep only the first two features (because we are going to plot on a 2D image)."
   ]
  },
  {
   "cell_type": "code",
   "execution_count": 2,
   "id": "b4687407",
   "metadata": {},
   "outputs": [],
   "source": [
    "iris = datasets.load_iris()\n",
    "X = iris.data\n",
    "y = iris.target"
   ]
  },
  {
   "cell_type": "code",
   "execution_count": 3,
   "id": "34ca74b1",
   "metadata": {},
   "outputs": [],
   "source": [
    "data_train, data_test, label_train, label_test = model_selection.train_test_split(X, y)"
   ]
  },
  {
   "cell_type": "markdown",
   "id": "545ed0ea",
   "metadata": {},
   "source": [
    "Fit a decision tree."
   ]
  },
  {
   "cell_type": "code",
   "execution_count": 4,
   "id": "86a581fd",
   "metadata": {},
   "outputs": [
    {
     "data": {
      "text/plain": [
       "DecisionTreeClassifier()"
      ]
     },
     "execution_count": 4,
     "metadata": {},
     "output_type": "execute_result"
    }
   ],
   "source": [
    "clf_tree = tree.DecisionTreeClassifier()\n",
    "clf_tree.fit(data_train, label_train)"
   ]
  },
  {
   "cell_type": "markdown",
   "id": "92b3ff25",
   "metadata": {},
   "source": [
    "Fit some random forests."
   ]
  },
  {
   "cell_type": "code",
   "execution_count": 5,
   "id": "cdfeec21",
   "metadata": {},
   "outputs": [],
   "source": [
    "forests = []\n",
    "for x in range(1, 10):\n",
    "    clf_forest = RandomForestClassifier(n_estimators=1)\n",
    "    clf_forest.fit(data_train, label_train)\n",
    "    forests.append(clf_forest)"
   ]
  },
  {
   "cell_type": "markdown",
   "id": "ab6f1a69",
   "metadata": {},
   "source": [
    "Predict for all."
   ]
  },
  {
   "cell_type": "code",
   "execution_count": 6,
   "id": "e083b035",
   "metadata": {},
   "outputs": [],
   "source": [
    "label_pred_tree = clf_tree.predict(data_test)\n",
    "label_pred_forests = []\n",
    "for clf_forest in forests:\n",
    "    label_pred_forests.append(clf_forest.predict(data_test))"
   ]
  },
  {
   "cell_type": "code",
   "execution_count": 7,
   "id": "14fd7825",
   "metadata": {},
   "outputs": [
    {
     "name": "stdout",
     "output_type": "stream",
     "text": [
      "Tree:\n",
      "0.9736842105263158\n",
      "[[ 8  0  0]\n",
      " [ 0 15  1]\n",
      " [ 0  0 14]]\n"
     ]
    },
    {
     "data": {
      "text/plain": [
       "[Text(0.625, 0.9285714285714286, 'X[3] <= 0.8\\ngini = 0.664\\nsamples = 112\\nvalue = [42, 34, 36]'),\n",
       " Text(0.5, 0.7857142857142857, 'gini = 0.0\\nsamples = 42\\nvalue = [42, 0, 0]'),\n",
       " Text(0.75, 0.7857142857142857, 'X[3] <= 1.75\\ngini = 0.5\\nsamples = 70\\nvalue = [0, 34, 36]'),\n",
       " Text(0.625, 0.6428571428571429, 'X[2] <= 5.35\\ngini = 0.188\\nsamples = 38\\nvalue = [0, 34, 4]'),\n",
       " Text(0.5, 0.5, 'X[3] <= 1.65\\ngini = 0.105\\nsamples = 36\\nvalue = [0, 34, 2]'),\n",
       " Text(0.25, 0.35714285714285715, 'X[2] <= 4.95\\ngini = 0.057\\nsamples = 34\\nvalue = [0, 33, 1]'),\n",
       " Text(0.125, 0.21428571428571427, 'gini = 0.0\\nsamples = 32\\nvalue = [0, 32, 0]'),\n",
       " Text(0.375, 0.21428571428571427, 'X[3] <= 1.55\\ngini = 0.5\\nsamples = 2\\nvalue = [0, 1, 1]'),\n",
       " Text(0.25, 0.07142857142857142, 'gini = 0.0\\nsamples = 1\\nvalue = [0, 0, 1]'),\n",
       " Text(0.5, 0.07142857142857142, 'gini = 0.0\\nsamples = 1\\nvalue = [0, 1, 0]'),\n",
       " Text(0.75, 0.35714285714285715, 'X[2] <= 4.75\\ngini = 0.5\\nsamples = 2\\nvalue = [0, 1, 1]'),\n",
       " Text(0.625, 0.21428571428571427, 'gini = 0.0\\nsamples = 1\\nvalue = [0, 0, 1]'),\n",
       " Text(0.875, 0.21428571428571427, 'gini = 0.0\\nsamples = 1\\nvalue = [0, 1, 0]'),\n",
       " Text(0.75, 0.5, 'gini = 0.0\\nsamples = 2\\nvalue = [0, 0, 2]'),\n",
       " Text(0.875, 0.6428571428571429, 'gini = 0.0\\nsamples = 32\\nvalue = [0, 0, 32]')]"
      ]
     },
     "execution_count": 7,
     "metadata": {},
     "output_type": "execute_result"
    },
    {
     "data": {
      "image/png": "[encoded data removed]",
      "text/plain": [
       "<Figure size 432x288 with 1 Axes>"
      ]
     },
     "metadata": {
      "needs_background": "light"
     },
     "output_type": "display_data"
    }
   ],
   "source": [
    "print(\"Tree:\")\n",
    "print(metrics.accuracy_score(label_test, label_pred_tree))\n",
    "print(metrics.confusion_matrix(label_test, label_pred_tree))\n",
    "tree.plot_tree(clf_tree)"
   ]
  },
  {
   "cell_type": "code",
   "execution_count": 8,
   "id": "90aca114",
   "metadata": {},
   "outputs": [
    {
     "name": "stdout",
     "output_type": "stream",
     "text": [
      "Forest:\n",
      "number of forests 1\n",
      "0.9473684210526315\n",
      "[[ 8  0  0]\n",
      " [ 0 15  1]\n",
      " [ 0  1 13]]\n",
      "number of forests 2\n",
      "0.9473684210526315\n",
      "[[ 8  0  0]\n",
      " [ 0 15  1]\n",
      " [ 0  1 13]]\n",
      "number of forests 3\n",
      "0.8157894736842105\n",
      "[[ 8  0  0]\n",
      " [ 0 13  3]\n",
      " [ 0  4 10]]\n",
      "number of forests 4\n",
      "0.9736842105263158\n",
      "[[ 8  0  0]\n",
      " [ 0 15  1]\n",
      " [ 0  0 14]]\n",
      "number of forests 5\n",
      "0.868421052631579\n",
      "[[ 8  0  0]\n",
      " [ 0 12  4]\n",
      " [ 0  1 13]]\n",
      "number of forests 6\n",
      "0.9736842105263158\n",
      "[[ 8  0  0]\n",
      " [ 0 15  1]\n",
      " [ 0  0 14]]\n",
      "number of forests 7\n",
      "0.9473684210526315\n",
      "[[ 8  0  0]\n",
      " [ 0 16  0]\n",
      " [ 0  2 12]]\n",
      "number of forests 8\n",
      "0.9736842105263158\n",
      "[[ 8  0  0]\n",
      " [ 0 15  1]\n",
      " [ 0  0 14]]\n",
      "number of forests 9\n",
      "0.9473684210526315\n",
      "[[ 8  0  0]\n",
      " [ 0 15  1]\n",
      " [ 0  1 13]]\n"
     ]
    }
   ],
   "source": [
    "print(\"Forest:\")\n",
    "for i, preds in enumerate(label_pred_forests):\n",
    "    print(\"number of forests\", str(i+1))\n",
    "    print(metrics.accuracy_score(label_test, preds))\n",
    "    print(metrics.confusion_matrix(label_test, preds))"
   ]
  },
  {
   "cell_type": "markdown",
   "id": "deb995a0",
   "metadata": {},
   "source": [
    "What are the feature importances for the decision tree?"
   ]
  },
  {
   "cell_type": "code",
   "execution_count": 9,
   "id": "713e2804",
   "metadata": {},
   "outputs": [
    {
     "data": {
      "text/plain": [
       "petal width (cm)     0.928436\n",
       "petal length (cm)    0.071564\n",
       "sepal length (cm)    0.000000\n",
       "sepal width (cm)     0.000000\n",
       "dtype: float64"
      ]
     },
     "execution_count": 9,
     "metadata": {},
     "output_type": "execute_result"
    }
   ],
   "source": [
    "import pandas as pd\n",
    "feature_imp = pd.Series(clf_tree.feature_importances_, index = iris.feature_names).sort_values(ascending = False)\n",
    "feature_imp"
   ]
  },
  {
   "cell_type": "markdown",
   "id": "9361809f",
   "metadata": {},
   "source": [
    "- What are the hyperparameters for the decision tree implementation?\n",
    "- What are the hyperparameters for the random forest implementation?\n",
    "- What happens if you resplit the data?\n",
    "- How can you visualize a random forest (see https://stackoverflow.com/questions/40155128/plot-trees-for-a-random-forest-in-python-with-scikit-learn)"
   ]
  },
  {
   "cell_type": "code",
   "execution_count": null,
   "id": "b4f61c4a",
   "metadata": {},
   "outputs": [],
   "source": []
  }
 ],
 "metadata": {
  "kernelspec": {
   "display_name": "Python 3 (ipykernel)",
   "language": "python",
   "name": "python3"
  },
  "language_info": {
   "codemirror_mode": {
    "name": "ipython",
    "version": 3
   },
   "file_extension": ".py",
   "mimetype": "text/x-python",
   "name": "python",
   "nbconvert_exporter": "python",
   "pygments_lexer": "ipython3",
   "version": "3.9.12"
  }
 },
 "nbformat": 4,
 "nbformat_minor": 5
}
